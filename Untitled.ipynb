{
 "cells": [
  {
   "cell_type": "code",
   "execution_count": 1,
   "metadata": {
    "collapsed": true
   },
   "outputs": [],
   "source": [
    "import netCDF4 as nc\n",
    "import numpy as np"
   ]
  },
  {
   "cell_type": "code",
   "execution_count": 48,
   "metadata": {
    "collapsed": true
   },
   "outputs": [],
   "source": [
    "# Copyright 2013-2016 The Salish Sea NEMO Project and\n",
    "# The University of British Columbia\n",
    "\n",
    "# Licensed under the Apache License, Version 2.0 (the \"License\");\n",
    "# you may not use this file except in compliance with the License.\n",
    "# You may obtain a copy of the License at\n",
    "\n",
    "#    http://www.apache.org/licenses/LICENSE-2.0\n",
    "\n",
    "# Unless required by applicable law or agreed to in writing, software\n",
    "# distributed under the License is distributed on an \"AS IS\" BASIS,\n",
    "# WITHOUT WARRANTIES OR CONDITIONS OF ANY KIND, either express or implied.\n",
    "# See the License for the specific language governing permissions and\n",
    "# limitations under the License.\n",
    "\n",
    "\"\"\"Functions for working with geographical data and model results.\n",
    "\"\"\"\n",
    "import numpy as np\n",
    "\n",
    "\n",
    "def distance_along_curve(lons, lats):\n",
    "    \"\"\"Calculate cumulative distance in km between points in lons, lats\n",
    "\n",
    "    :arg lons: 1D array of longitude points.\n",
    "    :type lons: :py:class:`numpy.ndarray`\n",
    "\n",
    "    :arg lats: 1D array of latitude points.\n",
    "    :type lats: :py:class:`numpy.ndarray`\n",
    "\n",
    "    :returns: Cumulative point-by-point distance along track in km.\n",
    "    :rtype: :py:class:`numpy.ndarray`\n",
    "    \"\"\"\n",
    "    dist = np.cumsum(haversine(lons[1:], lats[1:], lons[:-1], lats[:-1]))\n",
    "    return np.insert(dist, 0, 0)\n",
    "\n",
    "\n",
    "def haversine(lon1, lat1, lon2, lat2):\n",
    "    \"\"\"Calculate the great-circle distance in kilometers between two points\n",
    "    on a sphere from their longitudes and latitudes.\n",
    "\n",
    "    Reference: http://www.movable-type.co.uk/scripts/latlong.html\n",
    "\n",
    "    :arg lon1: Longitude of point 1.\n",
    "    :type lon1: float or :py:class:`numpy.ndarray`\n",
    "\n",
    "    :arg lat1: Latitude of point 1.\n",
    "    :type lat1: float or :py:class:`numpy.ndarray`\n",
    "\n",
    "    :arg lon2: Longitude of point 2.\n",
    "    :type lon2: float or :py:class:`numpy.ndarray`\n",
    "\n",
    "    :arg lat2: Latitude of point 2.\n",
    "    :type lat2: float or :py:class:`numpy.ndarray`\n",
    "\n",
    "    :returns: Great-circle distance between two points in km\n",
    "    :rtype: float or :py:class:`numpy.ndarray`\n",
    "    \"\"\"\n",
    "    lon1, lat1, lon2, lat2 = map(np.radians, [lon1, lat1, lon2, lat2])\n",
    "    dlon = lon2 - lon1\n",
    "    dlat = lat2 - lat1\n",
    "    a = np.sin(dlat/2)**2 + np.cos(lat1) * np.cos(lat2) * np.sin(dlon/2)**2\n",
    "    c = 2 * np.arcsin(np.sqrt(a))\n",
    "    km = 6367 * c\n",
    "    return km\n",
    "\n",
    "\n",
    "def _spiral_search_for_closest_water_point(\n",
    "    j, i, land_mask, lon, lat, model_lons, model_lats\n",
    "):\n",
    "    # Searches in a spiral pattern around grid element (j,i)\n",
    "    # for the closest water point to the the coordinate (lat,lon)\n",
    "\n",
    "    jmax, imax = land_mask.shape\n",
    "    # Limit on size of grid search\n",
    "    max_search_dist = max(50, int(model_lats.shape[1]/4))\n",
    "    closest_point = None\n",
    "    j_s, i_s = j, i  # starting point is j, i\n",
    "    dj, di = 0, -1\n",
    "    # move j_s, i_s in a square spiral centred at j, i\n",
    "    while (i_s-i) <= max_search_dist:\n",
    "        if any([(j_s-j) == (i_s-i),\n",
    "               ((j_s-j) < 0 and (j_s-j) == -(i_s-i)),\n",
    "               ((j_s-j) > 0 and (j_s-j) == 1-(i_s-i))]):\n",
    "            # Hit the corner of the spiral- change direction\n",
    "            dj, di = -di, dj\n",
    "        i_s, j_s = i_s+di, j_s+dj  # Take a step to next square\n",
    "        if (i_s >= 0\n",
    "            and i_s < imax\n",
    "            and j_s >= 0\n",
    "            and j_s < jmax\n",
    "            and not land_mask[j_s, i_s]\n",
    "        ):\n",
    "            # Found a water point, how close is it?\n",
    "            actual_dist = haversine(\n",
    "                lon, lat, model_lons[j_s, i_s], model_lats[j_s, i_s])\n",
    "            if closest_point is None:\n",
    "                min_dist = actual_dist\n",
    "                closest_point = (j_s, i_s)\n",
    "            elif actual_dist < min_dist:\n",
    "                # Keep record of closest point\n",
    "                min_dist = actual_dist\n",
    "                closest_point = (j_s, i_s)\n",
    "            # Assumes grids are square- reduces search radius to only\n",
    "            # check grids that could potentially be closer than this\n",
    "            grid_dist = int(((i_s-i)**2 + (j_s-j)**2)**0.5)\n",
    "            if (grid_dist + 1) < max_search_dist:\n",
    "                # Reduce stopping distance for spiral-\n",
    "                # just need to check that no points closer than this one\n",
    "                max_search_dist = grid_dist + 1\n",
    "    if closest_point is not None:\n",
    "        return closest_point\n",
    "    else:\n",
    "        raise ValueError('lat/lon on land and no nearby water point found')\n",
    "\n",
    "\n",
    "def find_closest_model_point(\n",
    "    lon, lat, model_lons, model_lats, grid='NEMO', land_mask=None,\n",
    "    tols={\n",
    "        'NEMO': {'tol_lon': 0.0104, 'tol_lat': 0.00388},\n",
    "        'GEM2.5': {'tol_lon': 0.016, 'tol_lat': 0.012},\n",
    "        'WW3': {'tol_lon': 0.001, 'tol_lat': 0.002}\n",
    "        }\n",
    "):\n",
    "    \"\"\"Returns the grid coordinates of the closest model point\n",
    "    to a specified lon/lat. If land_mask is provided, returns the closest\n",
    "    water point.\n",
    "\n",
    "    Example:\n",
    "\n",
    "    .. code-block:: python\n",
    "\n",
    "        j, i = find_closest_model_point(\n",
    "                   -125.5,49.2,model_lons,model_lats,land_mask=bathy.mask)\n",
    "\n",
    "    where bathy, model_lons and model_lats are returned from\n",
    "    :py:func:`salishsea_tools.tidetools.get_bathy_data`.\n",
    "\n",
    "    j is the y-index(latitude), i is the x-index(longitude)\n",
    "\n",
    "    :arg float lon: longitude to find closest grid point to\n",
    "\n",
    "    :arg float lat: latitude to find closest grid point to\n",
    "\n",
    "    :arg model_lons: specified model longitude grid\n",
    "    :type model_lons: :py:obj:`numpy.ndarray`\n",
    "\n",
    "    :arg model_lats: specified model latitude grid\n",
    "    :type model_lats: :py:obj:`numpy.ndarray`\n",
    "\n",
    "    :arg grid: specify which default lon/lat tolerances\n",
    "    :type grid: string\n",
    "\n",
    "    :arg land_mask: describes which grid coordinates are land\n",
    "    :type land_mask: numpy array\n",
    "\n",
    "    :arg tols: stored default tols for different grid types\n",
    "    :type tols: dict\n",
    "\n",
    "    :returns: yind, xind\n",
    "    \"\"\"\n",
    "\n",
    "    if grid not in tols:\n",
    "        raise KeyError(\n",
    "            'The provided grid type is not in tols. '\n",
    "            'Use another grid type or add your grid type to tols.')\n",
    "\n",
    "    # Search for a grid point with longitude and latitude within\n",
    "    # tolerance of measured location\n",
    "    j_list, i_list = np.where(\n",
    "        np.logical_and(\n",
    "            (np.logical_and(model_lons > lon - tols[grid]['tol_lon'],\n",
    "                            model_lons < lon + tols[grid]['tol_lon'])),\n",
    "            (np.logical_and(model_lats > lat - tols[grid]['tol_lat'],\n",
    "                            model_lats < lat + tols[grid]['tol_lat']))\n",
    "        )\n",
    "    )\n",
    "\n",
    "    if len(j_list) == 0:\n",
    "        # Added by BMM March 2017\n",
    "        # If including points outside of domain:\n",
    "        return np.nan, np.nan\n",
    "        # raise ValueError(\n",
    "        #    'No model point found. tol_lon/tol_lat too small or '\n",
    "        #    'lon/lat outside of domain.')\n",
    "    try:\n",
    "        j, i = map(np.asscalar, (j_list, i_list))\n",
    "    except ValueError:\n",
    "        # Several points within tolerance\n",
    "        # Calculate distances for all and choose the closest\n",
    "\n",
    "        # Avoiding array indexing because some functions\n",
    "        # pass in model_lons and model_lats as netcdf4 objects\n",
    "        # (which treat 'model_lons[j_list, i_list]' differently)\n",
    "        lons = [model_lons[j_list[n], i_list[n]] for n in range(len(j_list))]\n",
    "        lats = [model_lats[j_list[n], i_list[n]] for n in range(len(j_list))]\n",
    "        dists = haversine(\n",
    "            np.array([lon] * i_list.size), np.array([lat] * j_list.size),\n",
    "            lons, lats)\n",
    "        n = dists.argmin()\n",
    "        j, i = map(np.asscalar, (j_list[n], i_list[n]))\n",
    "\n",
    "    # If point is on land and land mask is provided\n",
    "    # try to find closest water point\n",
    "    if land_mask is None or not land_mask[j, i]:\n",
    "        return j, i\n",
    "    try:\n",
    "        return _spiral_search_for_closest_water_point(\n",
    "            j, i, land_mask, lon, lat, model_lons, model_lats)\n",
    "    except ValueError:\n",
    "        raise ValueError(\n",
    "            'lat/lon on land and no nearby water point found')"
   ]
  },
  {
   "cell_type": "code",
   "execution_count": 3,
   "metadata": {
    "collapsed": false
   },
   "outputs": [
    {
     "data": {
      "text/plain": [
       "True"
      ]
     },
     "execution_count": 3,
     "metadata": {},
     "output_type": "execute_result"
    }
   ],
   "source": [
    "mesh = nc.Dataset(\"/ocean/gsgarbi/mesh_mask_downbyone2.nc\")\n",
    "tmask=np.copy(mesh.variables['tmask'])\n",
    "mesh.close()\n",
    "fb=nc.Dataset('/ocean/eolson/MEOPAR/NEMO-forcing/grid/bathy_downonegrid2.nc')\n",
    "nav_lon=np.copy(fb.variables['nav_lon'])\n",
    "nav_lat=np.copy(fb.variables['nav_lat'])\n",
    "fb.close()\n",
    "\n",
    "nav_lat.shape == nav_lon.shape"
   ]
  },
  {
   "cell_type": "code",
   "execution_count": 4,
   "metadata": {
    "collapsed": false,
    "scrolled": false
   },
   "outputs": [
    {
     "data": {
      "text/plain": [
       "OrderedDict([('nav_lon', <class 'netCDF4._netCDF4.Variable'>\n",
       "              float64 nav_lon(y, x)\n",
       "                  units: degrees_east\n",
       "              unlimited dimensions: \n",
       "              current shape = (898, 398)\n",
       "              filling on, default _FillValue of 9.969209968386869e+36 used),\n",
       "             ('nav_lat', <class 'netCDF4._netCDF4.Variable'>\n",
       "              float64 nav_lat(y, x)\n",
       "                  units: degrees_north\n",
       "              unlimited dimensions: \n",
       "              current shape = (898, 398)\n",
       "              filling on, default _FillValue of 9.969209968386869e+36 used),\n",
       "             ('Bathymetry', <class 'netCDF4._netCDF4.Variable'>\n",
       "              float64 Bathymetry(y, x)\n",
       "                  _FillValue: 0.0\n",
       "                  least_significant_digit: 0.1\n",
       "                  units: metres\n",
       "              unlimited dimensions: \n",
       "              current shape = (898, 398)\n",
       "              filling on)])"
      ]
     },
     "execution_count": 4,
     "metadata": {},
     "output_type": "execute_result"
    }
   ],
   "source": [
    "fb=nc.Dataset('/ocean/eolson/MEOPAR/NEMO-forcing/grid/bathy_downonegrid2.nc')\n",
    "fb.variables"
   ]
  },
  {
   "cell_type": "code",
   "execution_count": 158,
   "metadata": {
    "collapsed": false
   },
   "outputs": [],
   "source": [
    "PLACES = {\n",
    "    # Tide gauge stations\n",
    "    'Campbell River': {\n",
    "        # deg E, deg N\n",
    "        'lon lat': (-125.24, 50.04),\n",
    "        # Canadian Hydrographic Service (CHS) or NOAA\n",
    "        'stn number': 8074,\n",
    "        # m above chart datum\n",
    "        'mean sea lvl': 2.916,\n",
    "        # m above chart datum\n",
    "        'hist max sea lvl': 5.35,\n",
    "        # indices of nearest weather forcing grid point\n",
    "        # j is the latitude (y) direction, i is the longitude (x) direction\n",
    "        'wind grid ji': (190, 102),\n",
    "        # indices of nearest NEMO model grid point\n",
    "        # j is the latitude (y) direction, i is the longitude (x) direction\n",
    "        'NEMO grid ji': (747, 125),\n",
    "    },\n",
    "    'Cherry Point': {\n",
    "        'lon lat': (-122.766667, 48.866667),\n",
    "        'stn number': 9449424,\n",
    "        'mean sea lvl': 3.543,\n",
    "        'hist max sea lvl': 5.846,\n",
    "        'wind grid ji': (122, 166),\n",
    "        'NEMO grid ji': (343, 341),\n",
    "    },\n",
    "    'Nanaimo': {\n",
    "        'lon lat': (-123.93, 49.16),\n",
    "        'mean sea lvl': 3.08,\n",
    "        'hist max sea lvl': 5.47,\n",
    "        'wind grid ji': (142, 133),\n",
    "        'NEMO grid ji': (484, 208),\n",
    "    },\n",
    "    'Point Atkinson': {\n",
    "        'lon lat': (-123.25, 49.33),\n",
    "        'stn number': 7795,\n",
    "        'mean sea lvl': 3.09,\n",
    "        'hist max sea lvl': 5.61,\n",
    "        'wind grid ji': (146, 155),\n",
    "        'NEMO grid ji': (468, 329),\n",
    "    },\n",
    "    'Victoria': {\n",
    "        'lon lat': (-123.36, 48.41),\n",
    "        'stn number': 7120,\n",
    "        'mean sea lvl': 1.8810,\n",
    "        'hist max sea lvl': 3.76,\n",
    "        'wind grid ji': (104, 144),\n",
    "        'NEMO grid ji': (297, 197),\n",
    "    },\n",
    "\n",
    "    # Ferry terminals\n",
    "    'Tsawwassen': {\n",
    "        'lon lat': (-123.1281, 49.0084),\n",
    "    },\n",
    "    'Duke Pt.': {\n",
    "        'lon lat': (-123.8909, 49.1632),\n",
    "    },\n",
    "    'Horseshoe Bay': {\n",
    "        'lon lat': (-123.2728, 49.3742),\n",
    "    },\n",
    "    'Departure Bay': {\n",
    "        'lon lat': (-123.8909, 49.1632),\n",
    "    },\n",
    "    'Swartz Bay': {\n",
    "        'lon lat': (-123.4102, 48.6882),\n",
    "    },\n",
    "\n",
    "    # Cities\n",
    "    'Vancouver': {\n",
    "        'lon lat': (-123.1207, 49.2827),\n",
    "    },\n",
    "\n",
    "    # Provinces and states\n",
    "    'British Columbia': {\n",
    "        'lon lat': (-123.6, 49.9),\n",
    "    },\n",
    "    'Washington State': {\n",
    "        'lon lat': (-123.8, 47.8),\n",
    "    },\n",
    "\n",
    "    # Bodies of water\n",
    "    'Pacific Ocean': {\n",
    "        'lon lat': (-125.6, 48.1),\n",
    "    },\n",
    "    'Juan de Fuca Strait': {\n",
    "        'lon lat': (-124.7, 48.47),\n",
    "    },\n",
    "    'Puget Sound': {\n",
    "        'lon lat': (-122.67, 48),\n",
    "    },\n",
    "    'Strait of Georgia': {\n",
    "        'lon lat': (-123.8, 49.3),\n",
    "    },\n",
    "\n",
    "    # VENUS\n",
    "    'Central node': {\n",
    "        # location from Ocean Networks Canada (ONC) website\n",
    "        'lon lat': (-123.425825, 49.040066666),\n",
    "        # depth in metres from ONC website\n",
    "        'depth': 294,\n",
    "        # NEMO python grid indices: j in y direction, i in x direction\n",
    "        'NEMO grid ji': (424, 266),\n",
    "        # ONC data web services API station code\n",
    "        'ONC stationCode': 'SCVIP',\n",
    "    },\n",
    "    'Delta BBL node': {\n",
    "        # ONC's description is \"Delta/Lower Slope/Bottom Boundary Layer\"\n",
    "        'lon lat': (-123.339633, 49.074766),\n",
    "        'depth': 143,\n",
    "        'NEMO grid ji': (424, 283),\n",
    "        'ONC stationCode': 'LSBBL',\n",
    "    },\n",
    "    'Delta DDL node': {\n",
    "        # ONC's description is \"Delta/Upper Slope/Delta Dynamics Laboratory\"\n",
    "        'lon lat': (-123.32972, 49.08495),\n",
    "        'depth': 107,\n",
    "        'NEMO grid ji': (426, 286),\n",
    "        'ONC stationCode': 'USDDL',\n",
    "    },\n",
    "    'East node': {\n",
    "        'lon lat': (-123.316836666, 49.04316),\n",
    "        'depth': 164,\n",
    "        'NEMO grid ji': (417, 283),\n",
    "        'ONC stationCode': 'SEVIP',\n",
    "    },\n",
    "\n",
    "    # Lightstations\n",
    "    'Sandheads': {\n",
    "        'lon lat': (-123.30, 49.10),\n",
    "        'NEMO grid ji': (426, 292),\n",
    "    },\n",
    "\n",
    "    # Wave buoys\n",
    "    'Halibut Bank': {\n",
    "        'lon lat': (-123.72, 49.34),\n",
    "        'NEMO grid ji': (503, 261),\n",
    "        'GEM2.5 grid ji': (149, 141),\n",
    "        'EC buoy number': 46146,\n",
    "    },\n",
    "    'Sentry Shoal': {\n",
    "        'lon lat': (-125.0, 49.92),\n",
    "        'NEMO grid ji': (707, 145),\n",
    "        'GEM2.5 grid ji': (183, 107),\n",
    "        'EC buoy number': 46131,\n",
    "    }\n",
    "}\n",
    "\n",
    "\n",
    "#: Names of tide gauge sites,\n",
    "#: ordered from south and west to north and east.\n",
    "#: These names are keys of the :py:data:`~salishsea_tools.places.PLACES` dict.\n",
    "TIDE_GAUGE_SITES = (\n",
    "    'Victoria', 'Cherry Point', 'Point Atkinson', 'Nanaimo', 'Campbell River',\n",
    ")\n"
   ]
  },
  {
   "cell_type": "code",
   "execution_count": 6,
   "metadata": {
    "collapsed": false
   },
   "outputs": [
    {
     "data": {
      "text/plain": [
       "(747, 125)"
      ]
     },
     "execution_count": 6,
     "metadata": {},
     "output_type": "execute_result"
    }
   ],
   "source": [
    "find_closest_model_point(-125.24, 50.04, nav_lon, nav_lat, grid = 'GEM2.5')"
   ]
  },
  {
   "cell_type": "code",
   "execution_count": 7,
   "metadata": {
    "collapsed": false
   },
   "outputs": [
    {
     "data": {
      "text/plain": [
       "(343, 341)"
      ]
     },
     "execution_count": 7,
     "metadata": {},
     "output_type": "execute_result"
    }
   ],
   "source": [
    "find_closest_model_point(-122.766667, 48.866667, nav_lon, nav_lat)"
   ]
  },
  {
   "cell_type": "code",
   "execution_count": null,
   "metadata": {
    "collapsed": false
   },
   "outputs": [],
   "source": []
  },
  {
   "cell_type": "code",
   "execution_count": 8,
   "metadata": {
    "collapsed": false
   },
   "outputs": [
    {
     "data": {
      "text/plain": [
       "(747, 125)"
      ]
     },
     "execution_count": 8,
     "metadata": {},
     "output_type": "execute_result"
    }
   ],
   "source": [
    "find_closest_model_point(PLACES['Campbell River']['lon lat'][0], PLACES['Campbell River']['lon lat'][1], nav_lon, nav_lat)"
   ]
  },
  {
   "cell_type": "code",
   "execution_count": 9,
   "metadata": {
    "collapsed": false
   },
   "outputs": [
    {
     "data": {
      "text/plain": [
       "(483, 207)"
      ]
     },
     "execution_count": 9,
     "metadata": {},
     "output_type": "execute_result"
    }
   ],
   "source": [
    "find_closest_model_point(PLACES['Nanaimo']['lon lat'][0], PLACES['Nanaimo']['lon lat'][1], nav_lon, nav_lat)"
   ]
  },
  {
   "cell_type": "code",
   "execution_count": 10,
   "metadata": {
    "collapsed": false
   },
   "outputs": [
    {
     "data": {
      "text/plain": [
       "(468, 329)"
      ]
     },
     "execution_count": 10,
     "metadata": {},
     "output_type": "execute_result"
    }
   ],
   "source": [
    "find_closest_model_point(PLACES['Point Atkinson']['lon lat'][0], PLACES['Point Atkinson']['lon lat'][1], nav_lon, nav_lat)"
   ]
  },
  {
   "cell_type": "code",
   "execution_count": 11,
   "metadata": {
    "collapsed": false
   },
   "outputs": [
    {
     "data": {
      "text/plain": [
       "(297, 198)"
      ]
     },
     "execution_count": 11,
     "metadata": {},
     "output_type": "execute_result"
    }
   ],
   "source": [
    "find_closest_model_point(PLACES['Victoria']['lon lat'][0], PLACES['Victoria']['lon lat'][1], nav_lon, nav_lat)"
   ]
  },
  {
   "cell_type": "code",
   "execution_count": 154,
   "metadata": {
    "collapsed": false
   },
   "outputs": [
    {
     "name": "stdout",
     "output_type": "stream",
     "text": [
      "OrderedDict([('longitude', <class 'netCDF4._netCDF4.Variable'>\n",
      "float32 longitude(longitude)\n",
      "    units: degree_east\n",
      "    long_name: longitude\n",
      "    standard_name: longitude\n",
      "    valid_min: -180.0\n",
      "    valid_max: 360.0\n",
      "    axis: X\n",
      "unlimited dimensions: \n",
      "current shape = (572,)\n",
      "filling on, default _FillValue of 9.969209968386869e+36 used\n",
      "), ('latitude', <class 'netCDF4._netCDF4.Variable'>\n",
      "float32 latitude(latitude)\n",
      "    units: degree_north\n",
      "    long_name: latitude\n",
      "    standard_name: latitude\n",
      "    valid_min: -90.0\n",
      "    valid_max: 180.0\n",
      "    axis: Y\n",
      "unlimited dimensions: \n",
      "current shape = (661,)\n",
      "filling on, default _FillValue of 9.969209968386869e+36 used\n",
      "), ('time', <class 'netCDF4._netCDF4.Variable'>\n",
      "float64 time(time)\n",
      "    long_name: julian day (UT)\n",
      "    standard_name: time\n",
      "    units: days since 1990-01-01 00:00:00\n",
      "    conventions: relative julian days with decimal part (as parts of the day )\n",
      "    axis: T\n",
      "unlimited dimensions: time\n",
      "current shape = (120,)\n",
      "filling on, default _FillValue of 9.969209968386869e+36 used\n",
      "), ('MAPSTA', <class 'netCDF4._netCDF4.Variable'>\n",
      "int16 MAPSTA(latitude, longitude)\n",
      "    long_name: status map\n",
      "    standard_name: status map\n",
      "    units: 1\n",
      "    valid_min: -32\n",
      "    valid_max: 32\n",
      "unlimited dimensions: \n",
      "current shape = (661, 572)\n",
      "filling on, default _FillValue of -32767 used\n",
      "), ('ucur', <class 'netCDF4._netCDF4.Variable'>\n",
      "float32 ucur(time, latitude, longitude)\n",
      "    long_name: eastward current\n",
      "    standard_name: eastward_sea_water_velocity\n",
      "    globwave_name: eastward_sea_water_velocity\n",
      "    units: m s-1\n",
      "    _FillValue: 9.96921e+36\n",
      "    scale_factor: 1.0\n",
      "    add_offset: 0.0\n",
      "    valid_min: -990\n",
      "    valid_max: 990\n",
      "    comment: cur=sqrt(U**2+V**2)\n",
      "unlimited dimensions: time\n",
      "current shape = (120, 661, 572)\n",
      "filling on), ('vcur', <class 'netCDF4._netCDF4.Variable'>\n",
      "float32 vcur(time, latitude, longitude)\n",
      "    long_name: northward current\n",
      "    standard_name: northward_sea_water_velocity\n",
      "    globwave_name: northward_sea_water_velocity\n",
      "    units: m s-1\n",
      "    _FillValue: 9.96921e+36\n",
      "    scale_factor: 1.0\n",
      "    add_offset: 0.0\n",
      "    valid_min: -990\n",
      "    valid_max: 990\n",
      "    comment: cur=sqrt(U**2+V**2)\n",
      "unlimited dimensions: time\n",
      "current shape = (120, 661, 572)\n",
      "filling on), ('uwnd', <class 'netCDF4._netCDF4.Variable'>\n",
      "float32 uwnd(time, latitude, longitude)\n",
      "    long_name: eastward_wind\n",
      "    standard_name: eastward_wind\n",
      "    globwave_name: eastward_wind\n",
      "    units: m s-1\n",
      "    _FillValue: 9.96921e+36\n",
      "    scale_factor: 1.0\n",
      "    add_offset: 0.0\n",
      "    valid_min: -990\n",
      "    valid_max: 990\n",
      "    comment: wind=sqrt(U10**2+V10**2)\n",
      "unlimited dimensions: time\n",
      "current shape = (120, 661, 572)\n",
      "filling on), ('vwnd', <class 'netCDF4._netCDF4.Variable'>\n",
      "float32 vwnd(time, latitude, longitude)\n",
      "    long_name: northward_wind\n",
      "    standard_name: northward_wind\n",
      "    globwave_name: northward_wind\n",
      "    units: m s-1\n",
      "    _FillValue: 9.96921e+36\n",
      "    scale_factor: 1.0\n",
      "    add_offset: 0.0\n",
      "    valid_min: -990\n",
      "    valid_max: 990\n",
      "    comment: wind=sqrt(U10**2+V10**2)\n",
      "unlimited dimensions: time\n",
      "current shape = (120, 661, 572)\n",
      "filling on), ('hs', <class 'netCDF4._netCDF4.Variable'>\n",
      "float32 hs(time, latitude, longitude)\n",
      "    long_name: significant height of wind and swell waves\n",
      "    standard_name: sea_surface_wave_significant_height\n",
      "    globwave_name: significant_wave_height\n",
      "    units: m\n",
      "    _FillValue: 9.96921e+36\n",
      "    scale_factor: 1.0\n",
      "    add_offset: 0.0\n",
      "    valid_min: 0\n",
      "    valid_max: 32000\n",
      "unlimited dimensions: time\n",
      "current shape = (120, 661, 572)\n",
      "filling on), ('lm', <class 'netCDF4._netCDF4.Variable'>\n",
      "float32 lm(time, latitude, longitude)\n",
      "    long_name: mean wave length\n",
      "    standard_name: mean_wave_length\n",
      "    globwave_name: mean_wave_length\n",
      "    units: m\n",
      "    _FillValue: 9.96921e+36\n",
      "    scale_factor: 1.0\n",
      "    add_offset: 0.0\n",
      "    valid_min: 0\n",
      "    valid_max: 3200\n",
      "unlimited dimensions: time\n",
      "current shape = (120, 661, 572)\n",
      "filling on), ('t02', <class 'netCDF4._netCDF4.Variable'>\n",
      "float32 t02(time, latitude, longitude)\n",
      "    long_name: mean period T02\n",
      "    standard_name: sea_surface_wind_wave_mean_period_from_variance_spectral_density_second_frequency_moment\n",
      "    globwave_name: mean_period_t02\n",
      "    units: s\n",
      "    _FillValue: 9.96921e+36\n",
      "    scale_factor: 1.0\n",
      "    add_offset: 0.0\n",
      "    valid_min: 0\n",
      "    valid_max: 5000\n",
      "unlimited dimensions: time\n",
      "current shape = (120, 661, 572)\n",
      "filling on), ('fp', <class 'netCDF4._netCDF4.Variable'>\n",
      "float32 fp(time, latitude, longitude)\n",
      "    long_name: wave peak frequency\n",
      "    standard_name: sea_surface_wave_peak_frequency\n",
      "    globwave_name: dominant_wave_frequency\n",
      "    units: s-1\n",
      "    _FillValue: 9.96921e+36\n",
      "    scale_factor: 1.0\n",
      "    add_offset: 0.0\n",
      "    valid_min: 0\n",
      "    valid_max: 10000\n",
      "unlimited dimensions: time\n",
      "current shape = (120, 661, 572)\n",
      "filling on), ('dir', <class 'netCDF4._netCDF4.Variable'>\n",
      "float32 dir(time, latitude, longitude)\n",
      "    long_name: wave mean direction\n",
      "    standard_name: sea_surface_wave_from_direction\n",
      "    globwave_name: wave_from_direction\n",
      "    units: degree\n",
      "    _FillValue: 9.96921e+36\n",
      "    scale_factor: 1.0\n",
      "    add_offset: 0.0\n",
      "    valid_min: 0\n",
      "    valid_max: 3600\n",
      "unlimited dimensions: time\n",
      "current shape = (120, 661, 572)\n",
      "filling on), ('dp', <class 'netCDF4._netCDF4.Variable'>\n",
      "float32 dp(time, latitude, longitude)\n",
      "    long_name: peak direction\n",
      "    standard_name: sea_surface_wave_peak_direction\n",
      "    globwave_name: dominant_wave_direction\n",
      "    units: degree\n",
      "    _FillValue: 9.96921e+36\n",
      "    scale_factor: 1.0\n",
      "    add_offset: 0.0\n",
      "    valid_min: 0\n",
      "    valid_max: 360\n",
      "unlimited dimensions: time\n",
      "current shape = (120, 661, 572)\n",
      "filling on), ('wcc', <class 'netCDF4._netCDF4.Variable'>\n",
      "float32 wcc(time, latitude, longitude)\n",
      "    long_name: whitecap coverage\n",
      "    standard_name: whitecap_coverage\n",
      "    globwave_name: whitecap_coverage\n",
      "    units: 1\n",
      "    _FillValue: 9.96921e+36\n",
      "    scale_factor: 1.0\n",
      "    add_offset: 0.0\n",
      "    valid_min: 0\n",
      "    valid_max: 10000\n",
      "unlimited dimensions: time\n",
      "current shape = (120, 661, 572)\n",
      "filling on), ('wch', <class 'netCDF4._netCDF4.Variable'>\n",
      "float32 wch(time, latitude, longitude)\n",
      "    long_name: significant breaking wave height\n",
      "    standard_name: significant_breaking_wave_height\n",
      "    globwave_name: significant_breaking_wave_height\n",
      "    units: m\n",
      "    _FillValue: 9.96921e+36\n",
      "    scale_factor: 1.0\n",
      "    add_offset: 0.0\n",
      "    valid_min: 0\n",
      "    valid_max: 32000\n",
      "unlimited dimensions: time\n",
      "current shape = (120, 661, 572)\n",
      "filling on), ('utwo', <class 'netCDF4._netCDF4.Variable'>\n",
      "float32 utwo(time, latitude, longitude)\n",
      "    long_name: eastward wave to ocean stress\n",
      "    standard_name: eastward_wave_to_ocean_stress\n",
      "    globwave_name: eastward_wave_to_ocean_stress\n",
      "    units: m2 s-2\n",
      "    _FillValue: 9.96921e+36\n",
      "    scale_factor: 1.0\n",
      "    add_offset: 0.0\n",
      "    valid_min: -32000\n",
      "    valid_max: 32000\n",
      "    comment: two=sqrt(utwo**2+vtwo**2)\n",
      "unlimited dimensions: time\n",
      "current shape = (120, 661, 572)\n",
      "filling on), ('vtwo', <class 'netCDF4._netCDF4.Variable'>\n",
      "float32 vtwo(time, latitude, longitude)\n",
      "    long_name: northward wave to ocean stress\n",
      "    standard_name: northward_wave_to_ocean_stress\n",
      "    globwave_name: northward_wave_to_ocean_stress\n",
      "    units: m2 s-2\n",
      "    _FillValue: 9.96921e+36\n",
      "    scale_factor: 1.0\n",
      "    add_offset: 0.0\n",
      "    valid_min: -32000\n",
      "    valid_max: 32000\n",
      "    comment: two=sqrt(utwo**2+vtwo**2)\n",
      "unlimited dimensions: time\n",
      "current shape = (120, 661, 572)\n",
      "filling on), ('foc', <class 'netCDF4._netCDF4.Variable'>\n",
      "float32 foc(time, latitude, longitude)\n",
      "    long_name: wave to ocean energy flux\n",
      "    standard_name: wave_to_ocean_energy_flux\n",
      "    globwave_name: wave_to_ocean_energy_flux\n",
      "    units: W m-2\n",
      "    _FillValue: 9.96921e+36\n",
      "    scale_factor: 1.0\n",
      "    add_offset: 0.0\n",
      "    valid_min: 0\n",
      "    valid_max: 9990\n",
      "unlimited dimensions: time\n",
      "current shape = (120, 661, 572)\n",
      "filling on), ('uuss', <class 'netCDF4._netCDF4.Variable'>\n",
      "float32 uuss(time, latitude, longitude)\n",
      "    long_name: eastward surface stokes drift\n",
      "    standard_name: eastward_surface_stokes_drift\n",
      "    globwave_name: eastward_surface_stokes_drift\n",
      "    units: m s-1\n",
      "    _FillValue: 9.96921e+36\n",
      "    scale_factor: 1.0\n",
      "    add_offset: 0.0\n",
      "    valid_min: -9900\n",
      "    valid_max: 9900\n",
      "    comment: uss=sqrt(uuss**2+vuss**2)\n",
      "unlimited dimensions: time\n",
      "current shape = (120, 661, 572)\n",
      "filling on), ('vuss', <class 'netCDF4._netCDF4.Variable'>\n",
      "float32 vuss(time, latitude, longitude)\n",
      "    long_name: northward surface stokes drift\n",
      "    standard_name: northward_surface_stokes_drift\n",
      "    globwave_name: northward_surface_stokes_drift\n",
      "    units: m s-1\n",
      "    _FillValue: 9.96921e+36\n",
      "    scale_factor: 1.0\n",
      "    add_offset: 0.0\n",
      "    valid_min: -9900\n",
      "    valid_max: 9900\n",
      "    comment: uss=sqrt(uuss**2+vuss**2)\n",
      "unlimited dimensions: time\n",
      "current shape = (120, 661, 572)\n",
      "filling on)])\n"
     ]
    }
   ],
   "source": [
    "fb=nc.Dataset('/results/SalishSea/wwatch3-forecast/SoG_ww3_fields_20170515_20170517.nc')\n",
    "nav_lon=np.copy(fb.variables['longitude'])\n",
    "nav_lat=np.copy(fb.variables['latitude'])\n",
    "hs = np.copy(fb.variables['hs'])\n",
    "lm = np.copy(fb.variables['hs'])\n",
    "MAPSTA = np.copy(fb.variables['MAPSTA'])\n",
    "\n",
    "fb.close()"
   ]
  },
  {
   "cell_type": "code",
   "execution_count": 75,
   "metadata": {
    "collapsed": false
   },
   "outputs": [
    {
     "name": "stdout",
     "output_type": "stream",
     "text": [
      "[ 234.          234.00700378  234.01400757  234.02099609  234.02799988\n",
      "  234.03500366  234.04200745  234.04899597  234.05599976  234.06300354\n",
      "  234.07000732  234.07699585  234.08399963  234.09100342  234.0980072\n",
      "  234.10499573  234.11199951  234.1190033   234.12600708  234.13299561\n",
      "  234.13999939  234.14700317  234.15400696  234.16099548  234.16799927\n",
      "  234.17500305  234.18200684  234.18899536  234.19599915  234.20300293\n",
      "  234.21000671  234.21699524  234.22399902  234.23100281  234.23800659\n",
      "  234.24499512  234.2519989   234.25900269  234.26600647  234.272995\n",
      "  234.27999878  234.28700256  234.29400635  234.30099487  234.30799866\n",
      "  234.31500244  234.32200623  234.32899475  234.33599854  234.34300232\n",
      "  234.3500061   234.35699463  234.36399841  234.3710022   234.37800598\n",
      "  234.38499451  234.39199829  234.39900208  234.40600586  234.41299438\n",
      "  234.41999817  234.42700195  234.43400574  234.44099426  234.44799805\n",
      "  234.45500183  234.46200562  234.46899414  234.47599792  234.48300171\n",
      "  234.49000549  234.49699402  234.5039978   234.51100159  234.51800537\n",
      "  234.5249939   234.53199768  234.53900146  234.54600525  234.55299377\n",
      "  234.55999756  234.56700134  234.57400513  234.58099365  234.58799744\n",
      "  234.59500122  234.602005    234.60899353  234.61599731  234.6230011\n",
      "  234.63000488  234.63699341  234.64399719  234.65100098  234.65800476\n",
      "  234.66499329  234.67199707  234.67900085  234.68600464  234.69299316\n",
      "  234.69999695  234.70700073  234.71400452  234.72099304  234.72799683\n",
      "  234.73500061  234.74200439  234.74899292  234.7559967   234.76300049\n",
      "  234.77000427  234.7769928   234.78399658  234.79100037  234.79800415\n",
      "  234.80499268  234.81199646  234.81900024  234.82600403  234.83299255\n",
      "  234.83999634  234.84700012  234.85400391  234.86099243  234.86799622\n",
      "  234.875       234.88200378  234.88900757  234.89599609  234.90299988\n",
      "  234.91000366  234.91700745  234.92399597  234.93099976  234.93800354\n",
      "  234.94500732  234.95199585  234.95899963  234.96600342  234.9730072\n",
      "  234.97999573  234.98699951  234.9940033   235.00100708  235.00799561\n",
      "  235.01499939  235.02200317  235.02900696  235.03599548  235.04299927\n",
      "  235.05000305  235.05700684  235.06399536  235.07099915  235.07800293\n",
      "  235.08500671  235.09199524  235.09899902  235.10600281  235.11300659\n",
      "  235.11999512  235.1269989   235.13400269  235.14100647  235.147995\n",
      "  235.15499878  235.16200256  235.16900635  235.17599487  235.18299866\n",
      "  235.19000244  235.19700623  235.20399475  235.21099854  235.21800232\n",
      "  235.2250061   235.23199463  235.23899841  235.2460022   235.25300598\n",
      "  235.25999451  235.26699829  235.27400208  235.28100586  235.28799438\n",
      "  235.29499817  235.30200195  235.30900574  235.31599426  235.32299805\n",
      "  235.33000183  235.33700562  235.34399414  235.35099792  235.35800171\n",
      "  235.36500549  235.37199402  235.3789978   235.38600159  235.39300537\n",
      "  235.3999939   235.40699768  235.41400146  235.42100525  235.42799377\n",
      "  235.43499756  235.44200134  235.44900513  235.45599365  235.46299744\n",
      "  235.47000122  235.477005    235.48399353  235.49099731  235.4980011\n",
      "  235.50500488  235.51199341  235.51899719  235.52600098  235.53300476\n",
      "  235.53999329  235.54699707  235.55400085  235.56100464  235.56799316\n",
      "  235.57499695  235.58200073  235.58900452  235.59599304  235.60299683\n",
      "  235.61000061  235.61700439  235.62399292  235.6309967   235.63800049\n",
      "  235.64500427  235.6519928   235.65899658  235.66600037  235.67300415\n",
      "  235.67999268  235.68699646  235.69400024  235.70100403  235.70799255\n",
      "  235.71499634  235.72200012  235.72900391  235.73599243  235.74299622\n",
      "  235.75        235.75700378  235.76400757  235.77099609  235.77799988\n",
      "  235.78500366  235.79200745  235.79899597  235.80599976  235.81300354\n",
      "  235.82000732  235.82699585  235.83399963  235.84100342  235.8480072\n",
      "  235.85499573  235.86199951  235.8690033   235.87600708  235.88299561\n",
      "  235.88999939  235.89700317  235.90400696  235.91099548  235.91799927\n",
      "  235.92500305  235.93200684  235.93899536  235.94599915  235.95300293\n",
      "  235.96000671  235.96699524  235.97399902  235.98100281  235.98800659\n",
      "  235.99499512  236.0019989   236.00900269  236.01600647  236.022995\n",
      "  236.02999878  236.03700256  236.04400635  236.05099487  236.05799866\n",
      "  236.06500244  236.07200623  236.07899475  236.08599854  236.09300232\n",
      "  236.1000061   236.10699463  236.11399841  236.1210022   236.12800598\n",
      "  236.13499451  236.14199829  236.14900208  236.15600586  236.16299438\n",
      "  236.16999817  236.17700195  236.18400574  236.19099426  236.19799805\n",
      "  236.20500183  236.21200562  236.21899414  236.22599792  236.23300171\n",
      "  236.24000549  236.24699402  236.2539978   236.26100159  236.26800537\n",
      "  236.2749939   236.28199768  236.28900146  236.29600525  236.30299377\n",
      "  236.30999756  236.31700134  236.32400513  236.33099365  236.33799744\n",
      "  236.34500122  236.352005    236.35899353  236.36599731  236.3730011\n",
      "  236.38000488  236.38699341  236.39399719  236.40100098  236.40800476\n",
      "  236.41499329  236.42199707  236.42900085  236.43600464  236.44299316\n",
      "  236.44999695  236.45700073  236.46400452  236.47099304  236.47799683\n",
      "  236.48500061  236.49200439  236.49899292  236.5059967   236.51300049\n",
      "  236.52000427  236.5269928   236.53399658  236.54100037  236.54800415\n",
      "  236.55499268  236.56199646  236.56900024  236.57600403  236.58299255\n",
      "  236.58999634  236.59700012  236.60400391  236.61099243  236.61799622\n",
      "  236.625       236.63200378  236.63900757  236.64599609  236.65299988\n",
      "  236.66000366  236.66700745  236.67399597  236.68099976  236.68800354\n",
      "  236.69500732  236.70199585  236.70899963  236.71600342  236.7230072\n",
      "  236.72999573  236.73699951  236.7440033   236.75100708  236.75799561\n",
      "  236.76499939  236.77200317  236.77900696  236.78599548  236.79299927\n",
      "  236.80000305  236.80700684  236.81399536  236.82099915  236.82800293\n",
      "  236.83500671  236.84199524  236.84899902  236.85600281  236.86300659\n",
      "  236.86999512  236.8769989   236.88400269  236.89100647  236.897995\n",
      "  236.90499878  236.91200256  236.91900635  236.92599487  236.93299866\n",
      "  236.94000244  236.94700623  236.95399475  236.96099854  236.96800232\n",
      "  236.9750061   236.98199463  236.98899841  236.9960022   237.00300598\n",
      "  237.00999451  237.01699829  237.02400208  237.03100586  237.03799438\n",
      "  237.04499817  237.05200195  237.05900574  237.06599426  237.07299805\n",
      "  237.08000183  237.08700562  237.09399414  237.10099792  237.10800171\n",
      "  237.11500549  237.12199402  237.1289978   237.13600159  237.14300537\n",
      "  237.1499939   237.15699768  237.16400146  237.17100525  237.17799377\n",
      "  237.18499756  237.19200134  237.19900513  237.20599365  237.21299744\n",
      "  237.22000122  237.227005    237.23399353  237.24099731  237.2480011\n",
      "  237.25500488  237.26199341  237.26899719  237.27600098  237.28300476\n",
      "  237.28999329  237.29699707  237.30400085  237.31100464  237.31799316\n",
      "  237.32499695  237.33200073  237.33900452  237.34599304  237.35299683\n",
      "  237.36000061  237.36700439  237.37399292  237.3809967   237.38800049\n",
      "  237.39500427  237.4019928   237.40899658  237.41600037  237.42300415\n",
      "  237.42999268  237.43699646  237.44400024  237.45100403  237.45799255\n",
      "  237.46499634  237.47200012  237.47900391  237.48599243  237.49299622\n",
      "  237.5         237.50700378  237.51400757  237.52099609  237.52799988\n",
      "  237.53500366  237.54200745  237.54899597  237.55599976  237.56300354\n",
      "  237.57000732  237.57699585  237.58399963  237.59100342  237.5980072\n",
      "  237.60499573  237.61199951  237.6190033   237.62600708  237.63299561\n",
      "  237.63999939  237.64700317  237.65400696  237.66099548  237.66799927\n",
      "  237.67500305  237.68200684  237.68899536  237.69599915  237.70300293\n",
      "  237.71000671  237.71699524  237.72399902  237.73100281  237.73800659\n",
      "  237.74499512  237.7519989   237.75900269  237.76600647  237.772995\n",
      "  237.77999878  237.78700256  237.79400635  237.80099487  237.80799866\n",
      "  237.81500244  237.82200623  237.82899475  237.83599854  237.84300232\n",
      "  237.8500061   237.85699463  237.86399841  237.8710022   237.87800598\n",
      "  237.88499451  237.89199829  237.89900208  237.90600586  237.91299438\n",
      "  237.91999817  237.92700195  237.93400574  237.94099426  237.94799805\n",
      "  237.95500183  237.96200562  237.96899414  237.97599792  237.98300171\n",
      "  237.99000549  237.99699402]\n",
      "[[ 234.          234.          234.         ...,  234.          234.          234.        ]\n",
      " [ 234.00700378  234.00700378  234.00700378 ...,  234.00700378\n",
      "   234.00700378  234.00700378]\n",
      " [ 234.01400757  234.01400757  234.01400757 ...,  234.01400757\n",
      "   234.01400757  234.01400757]\n",
      " ..., \n",
      " [ 237.98300171  237.98300171  237.98300171 ...,  237.98300171\n",
      "   237.98300171  237.98300171]\n",
      " [ 237.99000549  237.99000549  237.99000549 ...,  237.99000549\n",
      "   237.99000549  237.99000549]\n",
      " [ 237.99699402  237.99699402  237.99699402 ...,  237.99699402\n",
      "   237.99699402  237.99699402]]\n"
     ]
    }
   ],
   "source": [
    "print (nav_lon)\n",
    "lat, lon = np.meshgrid(nav_lat, nav_lon)\n",
    "print (lon)\n",
    "\n",
    "flon = lon-360\n",
    "flat = lat\n",
    "\n",
    "N = find_closest_model_point(PLACES['Nanaimo']['lon lat'][0], PLACES['Nanaimo']['lon lat'][1], flon, flat)"
   ]
  },
  {
   "cell_type": "code",
   "execution_count": 14,
   "metadata": {
    "collapsed": false
   },
   "outputs": [],
   "source": [
    "PA = find_closest_model_point(PLACES['Point Atkinson']['lon lat'][0], PLACES['Point Atkinson']['lon lat'][1], flon, flat)"
   ]
  },
  {
   "cell_type": "code",
   "execution_count": 15,
   "metadata": {
    "collapsed": false
   },
   "outputs": [],
   "source": [
    "CR = find_closest_model_point(PLACES['Campbell River']['lon lat'][0], PLACES['Campbell River']['lon lat'][1], flon, flat)"
   ]
  },
  {
   "cell_type": "code",
   "execution_count": 16,
   "metadata": {
    "collapsed": false
   },
   "outputs": [],
   "source": [
    "V = find_closest_model_point(PLACES['Victoria']['lon lat'][0], PLACES['Victoria']['lon lat'][1], flon, flat)"
   ]
  },
  {
   "cell_type": "code",
   "execution_count": 17,
   "metadata": {
    "collapsed": false
   },
   "outputs": [],
   "source": [
    "#ask what the significant wave height is"
   ]
  },
  {
   "cell_type": "code",
   "execution_count": 18,
   "metadata": {
    "collapsed": false
   },
   "outputs": [
    {
     "data": {
      "text/plain": [
       "(-125.36300659179688, 49.696499)"
      ]
     },
     "execution_count": 18,
     "metadata": {},
     "output_type": "execute_result"
    }
   ],
   "source": [
    "nav_lon[91]-360, nav_lat[377]"
   ]
  },
  {
   "cell_type": "code",
   "execution_count": 19,
   "metadata": {
    "collapsed": false
   },
   "outputs": [
    {
     "data": {
      "text/plain": [
       "(-123.36, 48.41)"
      ]
     },
     "execution_count": 19,
     "metadata": {},
     "output_type": "execute_result"
    }
   ],
   "source": [
    "PLACES['Victoria']['lon lat'][0], PLACES['Victoria']['lon lat'][1]"
   ]
  },
  {
   "cell_type": "code",
   "execution_count": 46,
   "metadata": {
    "collapsed": true
   },
   "outputs": [],
   "source": [
    "CP = find_closest_model_point(PLACES['Cherry Point']['lon lat'][0], PLACES['Cherry Point']['lon lat'][1], flon, flat, grid = 'WW3')\n",
    "CPN = find_closest_model_point(PLACES['Cherry Point']['lon lat'][0], PLACES['Cherry Point']['lon lat'][1], flon, flat, grid = 'NEMO')"
   ]
  },
  {
   "cell_type": "code",
   "execution_count": 49,
   "metadata": {
    "collapsed": false
   },
   "outputs": [
    {
     "data": {
      "text/plain": [
       "((193, 462), (193, 462))"
      ]
     },
     "execution_count": 49,
     "metadata": {},
     "output_type": "execute_result"
    }
   ],
   "source": [
    "CP, CPN"
   ]
  },
  {
   "cell_type": "code",
   "execution_count": 159,
   "metadata": {
    "collapsed": false
   },
   "outputs": [],
   "source": [
    "for i in TIDE_GAUGE_SITES:\n",
    "    PLACES[i]['ww3 grid ji'] = find_closest_model_point( PLACES[i]['lon lat'][0], PLACES[i]['lon lat'][1], flon, flat, land_mask= ds.MAPSTA )\n",
    "    PLACES[i]['ww3 lon lat'] = nav_lon[ PLACES[i]['ww3 grid ji'][0]] - 360, nav_lat[ PLACES[i]['ww3 grid ji'][1] ]"
   ]
  },
  {
   "cell_type": "code",
   "execution_count": 77,
   "metadata": {
    "collapsed": false
   },
   "outputs": [
    {
     "data": {
      "text/plain": [
       "-125.36300659179688"
      ]
     },
     "execution_count": 77,
     "metadata": {},
     "output_type": "execute_result"
    }
   ],
   "source": [
    "flon[91,2]\n"
   ]
  },
  {
   "cell_type": "code",
   "execution_count": 54,
   "metadata": {
    "collapsed": false
   },
   "outputs": [
    {
     "data": {
      "text/plain": [
       "234.63699"
      ]
     },
     "execution_count": 54,
     "metadata": {},
     "output_type": "execute_result"
    }
   ],
   "source": [
    "nav_lon[91]"
   ]
  },
  {
   "cell_type": "code",
   "execution_count": 160,
   "metadata": {
    "collapsed": false
   },
   "outputs": [
    {
     "data": {
      "text/plain": [
       "{'British Columbia': {'lon lat': (-123.6, 49.9)},\n",
       " 'Campbell River': {'NEMO grid ji': (747, 125),\n",
       "  'hist max sea lvl': 5.35,\n",
       "  'lon lat': (-125.24, 50.04),\n",
       "  'mean sea lvl': 2.916,\n",
       "  'stn number': 8074,\n",
       "  'wind grid ji': (190, 102),\n",
       "  'ww3 grid ji': (109, 453),\n",
       "  'ww3 lon lat': (-125.23699951171875, 50.038502)},\n",
       " 'Central node': {'NEMO grid ji': (424, 266),\n",
       "  'ONC stationCode': 'SCVIP',\n",
       "  'depth': 294,\n",
       "  'lon lat': (-123.425825, 49.040066666)},\n",
       " 'Cherry Point': {'NEMO grid ji': (343, 341),\n",
       "  'hist max sea lvl': 5.846,\n",
       "  'lon lat': (-122.766667, 48.866667),\n",
       "  'mean sea lvl': 3.543,\n",
       "  'stn number': 9449424,\n",
       "  'wind grid ji': (122, 166),\n",
       "  'ww3 grid ji': (462, 193),\n",
       "  'ww3 lon lat': (-122.76600646972656, 48.8685)},\n",
       " 'Delta BBL node': {'NEMO grid ji': (424, 283),\n",
       "  'ONC stationCode': 'LSBBL',\n",
       "  'depth': 143,\n",
       "  'lon lat': (-123.339633, 49.074766)},\n",
       " 'Delta DDL node': {'NEMO grid ji': (426, 286),\n",
       "  'ONC stationCode': 'USDDL',\n",
       "  'depth': 107,\n",
       "  'lon lat': (-123.32972, 49.08495)},\n",
       " 'Departure Bay': {'lon lat': (-123.8909, 49.1632)},\n",
       " 'Duke Pt.': {'lon lat': (-123.8909, 49.1632)},\n",
       " 'East node': {'NEMO grid ji': (417, 283),\n",
       "  'ONC stationCode': 'SEVIP',\n",
       "  'depth': 164,\n",
       "  'lon lat': (-123.316836666, 49.04316)},\n",
       " 'Halibut Bank': {'EC buoy number': 46146,\n",
       "  'GEM2.5 grid ji': (149, 141),\n",
       "  'NEMO grid ji': (503, 261),\n",
       "  'lon lat': (-123.72, 49.34)},\n",
       " 'Horseshoe Bay': {'lon lat': (-123.2728, 49.3742)},\n",
       " 'Juan de Fuca Strait': {'lon lat': (-124.7, 48.47)},\n",
       " 'Nanaimo': {'NEMO grid ji': (484, 208),\n",
       "  'hist max sea lvl': 5.47,\n",
       "  'lon lat': (-123.93, 49.16),\n",
       "  'mean sea lvl': 3.08,\n",
       "  'wind grid ji': (142, 133),\n",
       "  'ww3 grid ji': (296, 262),\n",
       "  'ww3 lon lat': (-123.92799377441406, 49.179001)},\n",
       " 'Pacific Ocean': {'lon lat': (-125.6, 48.1)},\n",
       " 'Point Atkinson': {'NEMO grid ji': (468, 329),\n",
       "  'hist max sea lvl': 5.61,\n",
       "  'lon lat': (-123.25, 49.33),\n",
       "  'mean sea lvl': 3.09,\n",
       "  'stn number': 7795,\n",
       "  'wind grid ji': (146, 155),\n",
       "  'ww3 grid ji': (392, 296),\n",
       "  'ww3 lon lat': (-123.25599670410156, 49.332001)},\n",
       " 'Puget Sound': {'lon lat': (-122.67, 48)},\n",
       " 'Sandheads': {'NEMO grid ji': (426, 292), 'lon lat': (-123.3, 49.1)},\n",
       " 'Sentry Shoal': {'EC buoy number': 46131,\n",
       "  'GEM2.5 grid ji': (183, 107),\n",
       "  'NEMO grid ji': (707, 145),\n",
       "  'lon lat': (-125.0, 49.92)},\n",
       " 'Strait of Georgia': {'lon lat': (-123.8, 49.3)},\n",
       " 'Swartz Bay': {'lon lat': (-123.4102, 48.6882)},\n",
       " 'Tsawwassen': {'lon lat': (-123.1281, 49.0084)},\n",
       " 'Vancouver': {'lon lat': (-123.1207, 49.2827)},\n",
       " 'Victoria': {'NEMO grid ji': (297, 197),\n",
       "  'hist max sea lvl': 3.76,\n",
       "  'lon lat': (-123.36, 48.41),\n",
       "  'mean sea lvl': 1.881,\n",
       "  'stn number': 7120,\n",
       "  'wind grid ji': (104, 144),\n",
       "  'ww3 grid ji': (377, 91),\n",
       "  'ww3 lon lat': (-123.36099243164062, 48.4095)},\n",
       " 'Washington State': {'lon lat': (-123.8, 47.8)}}"
      ]
     },
     "execution_count": 160,
     "metadata": {},
     "output_type": "execute_result"
    }
   ],
   "source": [
    "PLACES"
   ]
  },
  {
   "cell_type": "code",
   "execution_count": 87,
   "metadata": {
    "collapsed": false
   },
   "outputs": [
    {
     "name": "stderr",
     "output_type": "stream",
     "text": [
      "/ocean/gsgarbi/anaconda3/lib/python3.6/site-packages/ipykernel/__main__.py:4: VisibleDeprecationWarning: using a non-integer number instead of an integer will result in an error in the future\n"
     ]
    },
    {
     "data": {
      "text/plain": [
       "0.04216937"
      ]
     },
     "execution_count": 87,
     "metadata": {},
     "output_type": "execute_result"
    }
   ],
   "source": [
    "#ww3 lon lat points check significant wave height should be more than 0 for water\n",
    "\n",
    "\n",
    "hs[2, 50.038502, -125.23699951171875]"
   ]
  },
  {
   "cell_type": "code",
   "execution_count": 111,
   "metadata": {
    "collapsed": false
   },
   "outputs": [
    {
     "name": "stderr",
     "output_type": "stream",
     "text": [
      "/ocean/gsgarbi/anaconda3/lib/python3.6/site-packages/ipykernel/__main__.py:3: VisibleDeprecationWarning: using a non-integer number instead of an integer will result in an error in the future\n",
      "  app.launch_new_instance()\n"
     ]
    },
    {
     "data": {
      "text/plain": [
       "0.34029874"
      ]
     },
     "execution_count": 111,
     "metadata": {},
     "output_type": "execute_result"
    }
   ],
   "source": [
    "\n",
    "\n",
    "hs [10, 49.2606, -123.2460]"
   ]
  },
  {
   "cell_type": "code",
   "execution_count": 90,
   "metadata": {
    "collapsed": true
   },
   "outputs": [],
   "source": [
    "UBC = (49.2606, -123.2460)"
   ]
  },
  {
   "cell_type": "code",
   "execution_count": 114,
   "metadata": {
    "collapsed": false
   },
   "outputs": [
    {
     "name": "stderr",
     "output_type": "stream",
     "text": [
      "/ocean/gsgarbi/anaconda3/lib/python3.6/site-packages/ipykernel/__main__.py:1: VisibleDeprecationWarning: using a non-integer number instead of an integer will result in an error in the future\n",
      "  if __name__ == '__main__':\n"
     ]
    },
    {
     "data": {
      "text/plain": [
       "9.96921e+36"
      ]
     },
     "execution_count": 114,
     "metadata": {},
     "output_type": "execute_result"
    }
   ],
   "source": []
  },
  {
   "cell_type": "code",
   "execution_count": 92,
   "metadata": {
    "collapsed": true
   },
   "outputs": [],
   "source": [
    "import xarray as xr"
   ]
  },
  {
   "cell_type": "code",
   "execution_count": 97,
   "metadata": {
    "collapsed": true
   },
   "outputs": [],
   "source": [
    "%matplotlib inline"
   ]
  },
  {
   "cell_type": "code",
   "execution_count": 93,
   "metadata": {
    "collapsed": true
   },
   "outputs": [],
   "source": [
    "ds = xr.open_dataset('/results/SalishSea/wwatch3-forecast/SoG_ww3_fields_20170515_20170517.nc')"
   ]
  },
  {
   "cell_type": "code",
   "execution_count": 126,
   "metadata": {
    "collapsed": false
   },
   "outputs": [
    {
     "data": {
      "text/plain": [
       "<matplotlib.collections.QuadMesh at 0x7ff2dc5e6748>"
      ]
     },
     "execution_count": 126,
     "metadata": {},
     "output_type": "execute_result"
    },
    {
     "data": {
      "image/png": "[encoded data removed]",
      "text/plain": [
       "<matplotlib.figure.Figure at 0x7ff2dc665898>"
      ]
     },
     "metadata": {},
     "output_type": "display_data"
    }
   ],
   "source": [
    "ds.hs[10].plot()"
   ]
  },
  {
   "cell_type": "code",
   "execution_count": 102,
   "metadata": {
    "collapsed": false
   },
   "outputs": [
    {
     "data": {
      "text/plain": [
       "<matplotlib.collections.QuadMesh at 0x7ff2dc8e94a8>"
      ]
     },
     "execution_count": 102,
     "metadata": {},
     "output_type": "execute_result"
    },
    {
     "data": {
      "image/png": "[encoded data removed]",
      "text/plain": [
       "<matplotlib.figure.Figure at 0x7ff2dcb87e48>"
      ]
     },
     "metadata": {},
     "output_type": "display_data"
    }
   ],
   "source": [
    "ds.MAPSTA.plot()"
   ]
  },
  {
   "cell_type": "code",
   "execution_count": 166,
   "metadata": {
    "collapsed": false
   },
   "outputs": [
    {
     "data": {
      "text/plain": [
       "<xarray.DataArray 'hs' (longitude: 572)>\n",
       "array([      nan,  0.149001,  0.161412, ...,       nan,       nan,       nan])\n",
       "Coordinates:\n",
       "  * longitude  (longitude) float32 234.0 234.007 234.014 234.021 234.028 ...\n",
       "    latitude   float32 48.225\n",
       "    time       datetime64[ns] 2017-05-15\n",
       "Attributes:\n",
       "    long_name: significant height of wind and swell waves\n",
       "    standard_name: sea_surface_wave_significant_height\n",
       "    globwave_name: significant_wave_height\n",
       "    units: m\n",
       "    valid_min: 0\n",
       "    valid_max: 32000"
      ]
     },
     "execution_count": 166,
     "metadata": {},
     "output_type": "execute_result"
    }
   ],
   "source": [
    "ds.hs[0, 50, :]"
   ]
  },
  {
   "cell_type": "code",
   "execution_count": 162,
   "metadata": {
    "collapsed": false
   },
   "outputs": [
    {
     "name": "stdout",
     "output_type": "stream",
     "text": [
      "9.96921e+36\n",
      "9.96921e+36\n",
      "9.96921e+36\n",
      "9.96921e+36\n",
      "9.96921e+36\n",
      "9.96921e+36\n",
      "9.96921e+36\n",
      "9.96921e+36\n",
      "9.96921e+36\n",
      "9.96921e+36\n",
      "9.96921e+36\n",
      "9.96921e+36\n",
      "9.96921e+36\n",
      "9.96921e+36\n",
      "9.96921e+36\n",
      "9.96921e+36\n",
      "9.96921e+36\n",
      "9.96921e+36\n",
      "9.96921e+36\n",
      "9.96921e+36\n",
      "9.96921e+36\n",
      "9.96921e+36\n",
      "9.96921e+36\n",
      "9.96921e+36\n",
      "9.96921e+36\n",
      "9.96921e+36\n",
      "9.96921e+36\n",
      "9.96921e+36\n",
      "9.96921e+36\n",
      "9.96921e+36\n",
      "9.96921e+36\n",
      "9.96921e+36\n",
      "9.96921e+36\n",
      "9.96921e+36\n",
      "9.96921e+36\n",
      "9.96921e+36\n",
      "9.96921e+36\n",
      "9.96921e+36\n",
      "9.96921e+36\n",
      "9.96921e+36\n",
      "9.96921e+36\n",
      "9.96921e+36\n",
      "9.96921e+36\n",
      "9.96921e+36\n",
      "9.96921e+36\n",
      "9.96921e+36\n",
      "9.96921e+36\n",
      "9.96921e+36\n",
      "9.96921e+36\n",
      "9.96921e+36\n",
      "9.96921e+36\n",
      "9.96921e+36\n",
      "9.96921e+36\n",
      "9.96921e+36\n",
      "9.96921e+36\n",
      "9.96921e+36\n",
      "9.96921e+36\n",
      "9.96921e+36\n",
      "9.96921e+36\n",
      "9.96921e+36\n",
      "9.96921e+36\n",
      "9.96921e+36\n",
      "9.96921e+36\n",
      "9.96921e+36\n",
      "9.96921e+36\n",
      "9.96921e+36\n",
      "9.96921e+36\n",
      "9.96921e+36\n",
      "9.96921e+36\n",
      "9.96921e+36\n",
      "9.96921e+36\n",
      "9.96921e+36\n",
      "9.96921e+36\n",
      "9.96921e+36\n",
      "9.96921e+36\n",
      "9.96921e+36\n",
      "9.96921e+36\n",
      "9.96921e+36\n",
      "9.96921e+36\n",
      "9.96921e+36\n",
      "9.96921e+36\n",
      "9.96921e+36\n",
      "9.96921e+36\n",
      "9.96921e+36\n",
      "9.96921e+36\n",
      "9.96921e+36\n",
      "9.96921e+36\n",
      "9.96921e+36\n",
      "9.96921e+36\n",
      "9.96921e+36\n",
      "9.96921e+36\n",
      "9.96921e+36\n",
      "9.96921e+36\n",
      "9.96921e+36\n",
      "9.96921e+36\n",
      "9.96921e+36\n",
      "9.96921e+36\n",
      "9.96921e+36\n",
      "9.96921e+36\n",
      "9.96921e+36\n"
     ]
    },
    {
     "name": "stderr",
     "output_type": "stream",
     "text": [
      "/ocean/gsgarbi/anaconda3/lib/python3.6/site-packages/ipykernel/__main__.py:2: VisibleDeprecationWarning: using a non-integer number instead of an integer will result in an error in the future\n",
      "  from ipykernel import kernelapp as app\n"
     ]
    }
   ],
   "source": [
    "for i in range (100):\n",
    "    print (hs[10,48.5,234 + i*0.01])"
   ]
  },
  {
   "cell_type": "code",
   "execution_count": 139,
   "metadata": {
    "collapsed": false
   },
   "outputs": [
    {
     "name": "stdout",
     "output_type": "stream",
     "text": [
      "0.37905\n",
      "0.372096\n",
      "0.372096\n",
      "0.372096\n",
      "0.372096\n",
      "0.372096\n",
      "0.372096\n",
      "0.372096\n",
      "0.372096\n",
      "0.372096\n",
      "0.372096\n",
      "0.372096\n",
      "0.372096\n",
      "0.372096\n",
      "0.372096\n",
      "0.372096\n",
      "0.372096\n",
      "0.372096\n",
      "0.372096\n",
      "0.372096\n",
      "0.372096\n",
      "0.372096\n",
      "0.372096\n",
      "0.372096\n",
      "0.372096\n",
      "0.372096\n",
      "0.372096\n",
      "0.372096\n",
      "0.372096\n",
      "0.372096\n",
      "0.372096\n",
      "0.372096\n",
      "0.372096\n",
      "0.372096\n",
      "0.372096\n",
      "0.372096\n",
      "0.372096\n",
      "0.372096\n",
      "0.372096\n",
      "0.372096\n",
      "0.372096\n",
      "0.372096\n",
      "0.372096\n",
      "0.372096\n",
      "0.372096\n",
      "0.372096\n",
      "0.372096\n",
      "0.372096\n",
      "0.372096\n",
      "0.372096\n",
      "0.372096\n",
      "0.372096\n",
      "0.372096\n",
      "0.372096\n",
      "0.372096\n",
      "0.372096\n",
      "0.372096\n",
      "0.372096\n",
      "0.372096\n",
      "0.372096\n",
      "0.372096\n",
      "0.372096\n",
      "0.372096\n",
      "0.372096\n",
      "0.372096\n",
      "0.372096\n",
      "0.372096\n",
      "0.372096\n",
      "0.372096\n",
      "0.372096\n",
      "0.372096\n",
      "0.372096\n",
      "0.372096\n",
      "0.372096\n",
      "0.372096\n",
      "0.372096\n",
      "0.372096\n",
      "0.372096\n",
      "0.372096\n",
      "0.372096\n",
      "0.372096\n",
      "0.372096\n",
      "0.372096\n",
      "0.372096\n",
      "0.372096\n",
      "0.372096\n",
      "0.372096\n",
      "0.372096\n",
      "0.372096\n",
      "0.372096\n",
      "0.372096\n",
      "0.372096\n",
      "0.372096\n",
      "0.372096\n",
      "0.372096\n",
      "0.372096\n",
      "0.372096\n",
      "0.372096\n",
      "0.372096\n",
      "0.372096\n"
     ]
    },
    {
     "name": "stderr",
     "output_type": "stream",
     "text": [
      "/ocean/gsgarbi/anaconda3/lib/python3.6/site-packages/ipykernel/__main__.py:2: VisibleDeprecationWarning: using a non-integer number instead of an integer will result in an error in the future\n",
      "  from ipykernel import kernelapp as app\n"
     ]
    }
   ],
   "source": [
    "for i in range (100):\n",
    "    print (hs[10][48.5][(234 + i*0.01) - 360])"
   ]
  },
  {
   "cell_type": "code",
   "execution_count": 140,
   "metadata": {
    "collapsed": false
   },
   "outputs": [
    {
     "name": "stdout",
     "output_type": "stream",
     "text": [
      "0.603349\n",
      "0.601456\n",
      "0.601456\n",
      "0.601456\n",
      "0.601456\n",
      "0.601456\n",
      "0.601456\n",
      "0.601456\n",
      "0.601456\n",
      "0.601456\n",
      "0.601456\n",
      "0.601456\n",
      "0.601456\n",
      "0.601456\n",
      "0.601456\n",
      "0.601456\n",
      "0.601456\n",
      "0.601456\n",
      "0.601456\n",
      "0.601456\n",
      "0.601456\n",
      "0.601456\n",
      "0.601456\n",
      "0.601456\n",
      "0.601456\n",
      "0.601456\n",
      "0.601456\n",
      "0.601456\n",
      "0.601456\n",
      "0.601456\n",
      "0.601456\n",
      "0.601456\n",
      "0.601456\n",
      "0.601456\n",
      "0.601456\n",
      "0.601456\n",
      "0.601456\n",
      "0.601456\n",
      "0.601456\n",
      "0.601456\n",
      "0.601456\n",
      "0.601456\n",
      "0.601456\n",
      "0.601456\n",
      "0.601456\n",
      "0.601456\n",
      "0.601456\n",
      "0.601456\n",
      "0.601456\n",
      "0.601456\n",
      "0.601456\n",
      "0.601456\n",
      "0.601456\n",
      "0.601456\n",
      "0.601456\n",
      "0.601456\n",
      "0.601456\n",
      "0.601456\n",
      "0.601456\n",
      "0.601456\n",
      "0.601456\n",
      "0.601456\n",
      "0.601456\n",
      "0.601456\n",
      "0.601456\n",
      "0.601456\n",
      "0.601456\n",
      "0.601456\n",
      "0.601456\n",
      "0.601456\n",
      "0.601456\n",
      "0.601456\n",
      "0.601456\n",
      "0.601456\n",
      "0.601456\n",
      "0.601456\n",
      "0.601456\n",
      "0.601456\n",
      "0.601456\n",
      "0.601456\n",
      "0.601456\n",
      "0.601456\n",
      "0.601456\n",
      "0.601456\n",
      "0.601456\n",
      "0.601456\n",
      "0.601456\n",
      "0.601456\n",
      "0.601456\n",
      "0.601456\n",
      "0.601456\n",
      "0.601456\n",
      "0.601456\n",
      "0.601456\n",
      "0.601456\n",
      "0.601456\n",
      "0.601456\n",
      "0.601456\n",
      "0.601456\n",
      "0.601456\n"
     ]
    },
    {
     "name": "stderr",
     "output_type": "stream",
     "text": [
      "/ocean/gsgarbi/anaconda3/lib/python3.6/site-packages/ipykernel/__main__.py:2: VisibleDeprecationWarning: using a non-integer number instead of an integer will result in an error in the future\n",
      "  from ipykernel import kernelapp as app\n"
     ]
    }
   ],
   "source": [
    "for i in range (100):\n",
    "    print (hs[10][48.5][-(234 + i*0.01) + 360])"
   ]
  },
  {
   "cell_type": "code",
   "execution_count": 141,
   "metadata": {
    "collapsed": false
   },
   "outputs": [
    {
     "name": "stdout",
     "output_type": "stream",
     "text": [
      "0.301771\n",
      "0.301771\n",
      "0.301771\n",
      "0.301771\n",
      "0.301771\n",
      "0.301771\n",
      "0.301771\n",
      "0.301771\n",
      "0.301771\n",
      "0.301771\n",
      "0.301771\n",
      "0.301771\n",
      "0.301771\n",
      "0.301771\n",
      "0.301771\n",
      "0.301771\n",
      "0.301771\n",
      "0.301771\n",
      "0.301771\n",
      "0.301771\n",
      "0.301771\n",
      "0.301771\n",
      "0.301771\n",
      "0.301771\n",
      "0.301771\n",
      "0.301771\n",
      "0.301771\n",
      "0.301771\n",
      "0.301771\n",
      "0.301771\n",
      "0.301771\n",
      "0.301771\n",
      "0.301771\n",
      "0.301771\n",
      "0.301771\n",
      "0.301771\n",
      "0.301771\n",
      "0.301771\n",
      "0.301771\n",
      "0.301771\n",
      "0.301771\n",
      "0.301771\n",
      "0.301771\n",
      "0.301771\n",
      "0.301771\n",
      "0.301771\n",
      "0.301771\n",
      "0.301771\n",
      "0.301771\n",
      "0.301771\n",
      "0.301771\n",
      "0.301771\n",
      "0.301771\n",
      "0.301771\n",
      "0.301771\n",
      "0.301771\n",
      "0.301771\n",
      "0.301771\n",
      "0.301771\n",
      "0.301771\n",
      "0.301771\n",
      "0.301771\n",
      "0.301771\n",
      "0.301771\n",
      "0.301771\n",
      "0.301771\n",
      "0.301771\n",
      "0.301771\n",
      "0.301771\n",
      "0.301771\n",
      "0.301771\n",
      "0.301771\n",
      "0.301771\n",
      "0.301771\n",
      "0.301771\n",
      "0.301771\n",
      "0.301771\n",
      "0.301771\n",
      "0.301771\n",
      "0.301771\n",
      "0.301771\n",
      "0.301771\n",
      "0.301771\n",
      "0.301771\n",
      "0.301771\n",
      "0.301771\n",
      "0.301771\n",
      "0.301771\n",
      "0.301771\n",
      "0.301771\n",
      "0.301771\n",
      "0.301771\n",
      "0.301771\n",
      "0.301771\n",
      "0.301771\n",
      "0.301771\n",
      "0.301771\n",
      "0.301771\n",
      "0.301771\n",
      "0.301771\n"
     ]
    },
    {
     "name": "stderr",
     "output_type": "stream",
     "text": [
      "/ocean/gsgarbi/anaconda3/lib/python3.6/site-packages/ipykernel/__main__.py:2: VisibleDeprecationWarning: using a non-integer number instead of an integer will result in an error in the future\n",
      "  from ipykernel import kernelapp as app\n"
     ]
    }
   ],
   "source": [
    "for i in range (100):\n",
    "    print (hs[10][48.5][-(234 + i*0.01) ])"
   ]
  },
  {
   "cell_type": "code",
   "execution_count": 142,
   "metadata": {
    "collapsed": false
   },
   "outputs": [
    {
     "name": "stdout",
     "output_type": "stream",
     "text": [
      "<xarray.DataArray 'MAPSTA' (latitude: 661, longitude: 572)>\n",
      "[378092 values with dtype=int16]\n",
      "Coordinates:\n",
      "  * longitude  (longitude) float32 234.0 234.007 234.014 234.021 234.028 ...\n",
      "  * latitude   (latitude) float32 48.0 48.0045 48.009 48.0135 48.018 48.0225 ...\n",
      "Attributes:\n",
      "    long_name: status map\n",
      "    standard_name: status map\n",
      "    units: 1\n",
      "    valid_min: -32\n",
      "    valid_max: 32\n"
     ]
    }
   ],
   "source": [
    "print (ds.MAPSTA)"
   ]
  },
  {
   "cell_type": "code",
   "execution_count": 144,
   "metadata": {
    "collapsed": false
   },
   "outputs": [
    {
     "ename": "IndexError",
     "evalue": "arrays used as indices must be of integer (or boolean) type",
     "output_type": "error",
     "traceback": [
      "\u001b[0;31m---------------------------------------------------------------------------\u001b[0m",
      "\u001b[0;31mIndexError\u001b[0m                                Traceback (most recent call last)",
      "\u001b[0;32m<ipython-input-144-d18bc2e9ba3b>\u001b[0m in \u001b[0;36m<module>\u001b[0;34m()\u001b[0m\n\u001b[0;32m----> 1\u001b[0;31m \u001b[0mds\u001b[0m\u001b[0;34m.\u001b[0m\u001b[0mMAPSTA\u001b[0m\u001b[0;34m[\u001b[0m\u001b[0;36m48.5\u001b[0m\u001b[0;34m,\u001b[0m \u001b[0;36m232\u001b[0m\u001b[0;34m]\u001b[0m\u001b[0;34m\u001b[0m\u001b[0m\n\u001b[0m",
      "\u001b[0;32m/home/gsgarbi/.local/lib/python3.6/site-packages/xarray/core/dataarray.py\u001b[0m in \u001b[0;36m__getitem__\u001b[0;34m(self, key)\u001b[0m\n\u001b[1;32m    467\u001b[0m         \u001b[0;32melse\u001b[0m\u001b[0;34m:\u001b[0m\u001b[0;34m\u001b[0m\u001b[0m\n\u001b[1;32m    468\u001b[0m             \u001b[0;31m# orthogonal array indexing\u001b[0m\u001b[0;34m\u001b[0m\u001b[0;34m\u001b[0m\u001b[0m\n\u001b[0;32m--> 469\u001b[0;31m             \u001b[0;32mreturn\u001b[0m \u001b[0mself\u001b[0m\u001b[0;34m.\u001b[0m\u001b[0misel\u001b[0m\u001b[0;34m(\u001b[0m\u001b[0;34m**\u001b[0m\u001b[0mself\u001b[0m\u001b[0;34m.\u001b[0m\u001b[0m_item_key_to_dict\u001b[0m\u001b[0;34m(\u001b[0m\u001b[0mkey\u001b[0m\u001b[0;34m)\u001b[0m\u001b[0;34m)\u001b[0m\u001b[0;34m\u001b[0m\u001b[0m\n\u001b[0m\u001b[1;32m    470\u001b[0m \u001b[0;34m\u001b[0m\u001b[0m\n\u001b[1;32m    471\u001b[0m     \u001b[0;32mdef\u001b[0m \u001b[0m__setitem__\u001b[0m\u001b[0;34m(\u001b[0m\u001b[0mself\u001b[0m\u001b[0;34m,\u001b[0m \u001b[0mkey\u001b[0m\u001b[0;34m,\u001b[0m \u001b[0mvalue\u001b[0m\u001b[0;34m)\u001b[0m\u001b[0;34m:\u001b[0m\u001b[0;34m\u001b[0m\u001b[0m\n",
      "\u001b[0;32m/home/gsgarbi/.local/lib/python3.6/site-packages/xarray/core/dataarray.py\u001b[0m in \u001b[0;36misel\u001b[0;34m(self, drop, **indexers)\u001b[0m\n\u001b[1;32m    655\u001b[0m         \u001b[0mDataArray\u001b[0m\u001b[0;34m.\u001b[0m\u001b[0msel\u001b[0m\u001b[0;34m\u001b[0m\u001b[0m\n\u001b[1;32m    656\u001b[0m         \"\"\"\n\u001b[0;32m--> 657\u001b[0;31m         \u001b[0mds\u001b[0m \u001b[0;34m=\u001b[0m \u001b[0mself\u001b[0m\u001b[0;34m.\u001b[0m\u001b[0m_to_temp_dataset\u001b[0m\u001b[0;34m(\u001b[0m\u001b[0;34m)\u001b[0m\u001b[0;34m.\u001b[0m\u001b[0misel\u001b[0m\u001b[0;34m(\u001b[0m\u001b[0mdrop\u001b[0m\u001b[0;34m=\u001b[0m\u001b[0mdrop\u001b[0m\u001b[0;34m,\u001b[0m \u001b[0;34m**\u001b[0m\u001b[0mindexers\u001b[0m\u001b[0;34m)\u001b[0m\u001b[0;34m\u001b[0m\u001b[0m\n\u001b[0m\u001b[1;32m    658\u001b[0m         \u001b[0;32mreturn\u001b[0m \u001b[0mself\u001b[0m\u001b[0;34m.\u001b[0m\u001b[0m_from_temp_dataset\u001b[0m\u001b[0;34m(\u001b[0m\u001b[0mds\u001b[0m\u001b[0;34m)\u001b[0m\u001b[0;34m\u001b[0m\u001b[0m\n\u001b[1;32m    659\u001b[0m \u001b[0;34m\u001b[0m\u001b[0m\n",
      "\u001b[0;32m/home/gsgarbi/.local/lib/python3.6/site-packages/xarray/core/dataset.py\u001b[0m in \u001b[0;36misel\u001b[0;34m(self, drop, **indexers)\u001b[0m\n\u001b[1;32m   1117\u001b[0m         \u001b[0;32mfor\u001b[0m \u001b[0mname\u001b[0m\u001b[0;34m,\u001b[0m \u001b[0mvar\u001b[0m \u001b[0;32min\u001b[0m \u001b[0miteritems\u001b[0m\u001b[0;34m(\u001b[0m\u001b[0mself\u001b[0m\u001b[0;34m.\u001b[0m\u001b[0m_variables\u001b[0m\u001b[0;34m)\u001b[0m\u001b[0;34m:\u001b[0m\u001b[0;34m\u001b[0m\u001b[0m\n\u001b[1;32m   1118\u001b[0m             \u001b[0mvar_indexers\u001b[0m \u001b[0;34m=\u001b[0m \u001b[0mdict\u001b[0m\u001b[0;34m(\u001b[0m\u001b[0;34m(\u001b[0m\u001b[0mk\u001b[0m\u001b[0;34m,\u001b[0m \u001b[0mv\u001b[0m\u001b[0;34m)\u001b[0m \u001b[0;32mfor\u001b[0m \u001b[0mk\u001b[0m\u001b[0;34m,\u001b[0m \u001b[0mv\u001b[0m \u001b[0;32min\u001b[0m \u001b[0mindexers\u001b[0m \u001b[0;32mif\u001b[0m \u001b[0mk\u001b[0m \u001b[0;32min\u001b[0m \u001b[0mvar\u001b[0m\u001b[0;34m.\u001b[0m\u001b[0mdims\u001b[0m\u001b[0;34m)\u001b[0m\u001b[0;34m\u001b[0m\u001b[0m\n\u001b[0;32m-> 1119\u001b[0;31m             \u001b[0mnew_var\u001b[0m \u001b[0;34m=\u001b[0m \u001b[0mvar\u001b[0m\u001b[0;34m.\u001b[0m\u001b[0misel\u001b[0m\u001b[0;34m(\u001b[0m\u001b[0;34m**\u001b[0m\u001b[0mvar_indexers\u001b[0m\u001b[0;34m)\u001b[0m\u001b[0;34m\u001b[0m\u001b[0m\n\u001b[0m\u001b[1;32m   1120\u001b[0m             \u001b[0;32mif\u001b[0m \u001b[0;32mnot\u001b[0m \u001b[0;34m(\u001b[0m\u001b[0mdrop\u001b[0m \u001b[0;32mand\u001b[0m \u001b[0mname\u001b[0m \u001b[0;32min\u001b[0m \u001b[0mvar_indexers\u001b[0m\u001b[0;34m)\u001b[0m\u001b[0;34m:\u001b[0m\u001b[0;34m\u001b[0m\u001b[0m\n\u001b[1;32m   1121\u001b[0m                 \u001b[0mvariables\u001b[0m\u001b[0;34m[\u001b[0m\u001b[0mname\u001b[0m\u001b[0;34m]\u001b[0m \u001b[0;34m=\u001b[0m \u001b[0mnew_var\u001b[0m\u001b[0;34m\u001b[0m\u001b[0m\n",
      "\u001b[0;32m/home/gsgarbi/.local/lib/python3.6/site-packages/xarray/core/variable.py\u001b[0m in \u001b[0;36misel\u001b[0;34m(self, **indexers)\u001b[0m\n\u001b[1;32m    545\u001b[0m             \u001b[0;32mif\u001b[0m \u001b[0mdim\u001b[0m \u001b[0;32min\u001b[0m \u001b[0mindexers\u001b[0m\u001b[0;34m:\u001b[0m\u001b[0;34m\u001b[0m\u001b[0m\n\u001b[1;32m    546\u001b[0m                 \u001b[0mkey\u001b[0m\u001b[0;34m[\u001b[0m\u001b[0mi\u001b[0m\u001b[0;34m]\u001b[0m \u001b[0;34m=\u001b[0m \u001b[0mindexers\u001b[0m\u001b[0;34m[\u001b[0m\u001b[0mdim\u001b[0m\u001b[0;34m]\u001b[0m\u001b[0;34m\u001b[0m\u001b[0m\n\u001b[0;32m--> 547\u001b[0;31m         \u001b[0;32mreturn\u001b[0m \u001b[0mself\u001b[0m\u001b[0;34m[\u001b[0m\u001b[0mtuple\u001b[0m\u001b[0;34m(\u001b[0m\u001b[0mkey\u001b[0m\u001b[0;34m)\u001b[0m\u001b[0;34m]\u001b[0m\u001b[0;34m\u001b[0m\u001b[0m\n\u001b[0m\u001b[1;32m    548\u001b[0m \u001b[0;34m\u001b[0m\u001b[0m\n\u001b[1;32m    549\u001b[0m     \u001b[0;32mdef\u001b[0m \u001b[0msqueeze\u001b[0m\u001b[0;34m(\u001b[0m\u001b[0mself\u001b[0m\u001b[0;34m,\u001b[0m \u001b[0mdim\u001b[0m\u001b[0;34m=\u001b[0m\u001b[0;32mNone\u001b[0m\u001b[0;34m)\u001b[0m\u001b[0;34m:\u001b[0m\u001b[0;34m\u001b[0m\u001b[0m\n",
      "\u001b[0;32m/home/gsgarbi/.local/lib/python3.6/site-packages/xarray/core/variable.py\u001b[0m in \u001b[0;36m__getitem__\u001b[0;34m(self, key)\u001b[0m\n\u001b[1;32m   1189\u001b[0m     \u001b[0;32mdef\u001b[0m \u001b[0m__getitem__\u001b[0m\u001b[0;34m(\u001b[0m\u001b[0mself\u001b[0m\u001b[0;34m,\u001b[0m \u001b[0mkey\u001b[0m\u001b[0;34m)\u001b[0m\u001b[0;34m:\u001b[0m\u001b[0;34m\u001b[0m\u001b[0m\n\u001b[1;32m   1190\u001b[0m         \u001b[0mkey\u001b[0m \u001b[0;34m=\u001b[0m \u001b[0mself\u001b[0m\u001b[0;34m.\u001b[0m\u001b[0m_item_key_to_tuple\u001b[0m\u001b[0;34m(\u001b[0m\u001b[0mkey\u001b[0m\u001b[0;34m)\u001b[0m\u001b[0;34m\u001b[0m\u001b[0m\n\u001b[0;32m-> 1191\u001b[0;31m         \u001b[0mvalues\u001b[0m \u001b[0;34m=\u001b[0m \u001b[0mself\u001b[0m\u001b[0;34m.\u001b[0m\u001b[0m_indexable_data\u001b[0m\u001b[0;34m[\u001b[0m\u001b[0mkey\u001b[0m\u001b[0;34m]\u001b[0m\u001b[0;34m\u001b[0m\u001b[0m\n\u001b[0m\u001b[1;32m   1192\u001b[0m         \u001b[0;32mif\u001b[0m \u001b[0;32mnot\u001b[0m \u001b[0mhasattr\u001b[0m\u001b[0;34m(\u001b[0m\u001b[0mvalues\u001b[0m\u001b[0;34m,\u001b[0m \u001b[0;34m'ndim'\u001b[0m\u001b[0;34m)\u001b[0m \u001b[0;32mor\u001b[0m \u001b[0mvalues\u001b[0m\u001b[0;34m.\u001b[0m\u001b[0mndim\u001b[0m \u001b[0;34m==\u001b[0m \u001b[0;36m0\u001b[0m\u001b[0;34m:\u001b[0m\u001b[0;34m\u001b[0m\u001b[0m\n\u001b[1;32m   1193\u001b[0m             \u001b[0;32mreturn\u001b[0m \u001b[0mVariable\u001b[0m\u001b[0;34m(\u001b[0m\u001b[0;34m(\u001b[0m\u001b[0;34m)\u001b[0m\u001b[0;34m,\u001b[0m \u001b[0mvalues\u001b[0m\u001b[0;34m,\u001b[0m \u001b[0mself\u001b[0m\u001b[0;34m.\u001b[0m\u001b[0m_attrs\u001b[0m\u001b[0;34m,\u001b[0m \u001b[0mself\u001b[0m\u001b[0;34m.\u001b[0m\u001b[0m_encoding\u001b[0m\u001b[0;34m)\u001b[0m\u001b[0;34m\u001b[0m\u001b[0m\n",
      "\u001b[0;32m/home/gsgarbi/.local/lib/python3.6/site-packages/xarray/core/indexing.py\u001b[0m in \u001b[0;36m__getitem__\u001b[0;34m(self, key)\u001b[0m\n\u001b[1;32m    533\u001b[0m             \u001b[0mkey\u001b[0m\u001b[0;34m,\u001b[0m \u001b[0;34m=\u001b[0m \u001b[0mkey\u001b[0m\u001b[0;34m\u001b[0m\u001b[0m\n\u001b[1;32m    534\u001b[0m \u001b[0;34m\u001b[0m\u001b[0m\n\u001b[0;32m--> 535\u001b[0;31m         \u001b[0mresult\u001b[0m \u001b[0;34m=\u001b[0m \u001b[0mself\u001b[0m\u001b[0;34m.\u001b[0m\u001b[0marray\u001b[0m\u001b[0;34m[\u001b[0m\u001b[0mkey\u001b[0m\u001b[0;34m]\u001b[0m\u001b[0;34m\u001b[0m\u001b[0m\n\u001b[0m\u001b[1;32m    536\u001b[0m \u001b[0;34m\u001b[0m\u001b[0m\n\u001b[1;32m    537\u001b[0m         \u001b[0;32mif\u001b[0m \u001b[0misinstance\u001b[0m\u001b[0;34m(\u001b[0m\u001b[0mresult\u001b[0m\u001b[0;34m,\u001b[0m \u001b[0mpd\u001b[0m\u001b[0;34m.\u001b[0m\u001b[0mIndex\u001b[0m\u001b[0;34m)\u001b[0m\u001b[0;34m:\u001b[0m\u001b[0;34m\u001b[0m\u001b[0m\n",
      "\u001b[0;32m/ocean/gsgarbi/anaconda3/lib/python3.6/site-packages/pandas/indexes/base.py\u001b[0m in \u001b[0;36m__getitem__\u001b[0;34m(self, key)\u001b[0m\n\u001b[1;32m   1432\u001b[0m \u001b[0;34m\u001b[0m\u001b[0m\n\u001b[1;32m   1433\u001b[0m         \u001b[0mkey\u001b[0m \u001b[0;34m=\u001b[0m \u001b[0m_values_from_object\u001b[0m\u001b[0;34m(\u001b[0m\u001b[0mkey\u001b[0m\u001b[0;34m)\u001b[0m\u001b[0;34m\u001b[0m\u001b[0m\n\u001b[0;32m-> 1434\u001b[0;31m         \u001b[0mresult\u001b[0m \u001b[0;34m=\u001b[0m \u001b[0mgetitem\u001b[0m\u001b[0;34m(\u001b[0m\u001b[0mkey\u001b[0m\u001b[0;34m)\u001b[0m\u001b[0;34m\u001b[0m\u001b[0m\n\u001b[0m\u001b[1;32m   1435\u001b[0m         \u001b[0;32mif\u001b[0m \u001b[0;32mnot\u001b[0m \u001b[0mis_scalar\u001b[0m\u001b[0;34m(\u001b[0m\u001b[0mresult\u001b[0m\u001b[0;34m)\u001b[0m\u001b[0;34m:\u001b[0m\u001b[0;34m\u001b[0m\u001b[0m\n\u001b[1;32m   1436\u001b[0m             \u001b[0;32mreturn\u001b[0m \u001b[0mpromote\u001b[0m\u001b[0;34m(\u001b[0m\u001b[0mresult\u001b[0m\u001b[0;34m)\u001b[0m\u001b[0;34m\u001b[0m\u001b[0m\n",
      "\u001b[0;31mIndexError\u001b[0m: arrays used as indices must be of integer (or boolean) type"
     ]
    }
   ],
   "source": [
    "ds.MAPSTA[48.5, 232]"
   ]
  },
  {
   "cell_type": "code",
   "execution_count": 145,
   "metadata": {
    "collapsed": false
   },
   "outputs": [
    {
     "name": "stdout",
     "output_type": "stream",
     "text": [
      "<xarray.DataArray 'MAPSTA' (latitude: 661, longitude: 572)>\n",
      "[378092 values with dtype=int16]\n",
      "Coordinates:\n",
      "  * longitude  (longitude) float32 234.0 234.007 234.014 234.021 234.028 ...\n",
      "  * latitude   (latitude) float32 48.0 48.0045 48.009 48.0135 48.018 48.0225 ...\n",
      "Attributes:\n",
      "    long_name: status map\n",
      "    standard_name: status map\n",
      "    units: 1\n",
      "    valid_min: -32\n",
      "    valid_max: 32\n"
     ]
    }
   ],
   "source": [
    "print (ds.MAPSTA)"
   ]
  },
  {
   "cell_type": "code",
   "execution_count": 149,
   "metadata": {
    "collapsed": false
   },
   "outputs": [
    {
     "data": {
      "text/plain": [
       "array([[8, 8, 8, ..., 0, 0, 0],\n",
       "       [8, 1, 1, ..., 0, 0, 0],\n",
       "       [8, 1, 1, ..., 0, 0, 0],\n",
       "       ..., \n",
       "       [0, 0, 0, ..., 0, 0, 0],\n",
       "       [0, 0, 0, ..., 0, 0, 0],\n",
       "       [0, 0, 0, ..., 0, 0, 0]], dtype=int16)"
      ]
     },
     "execution_count": 149,
     "metadata": {},
     "output_type": "execute_result"
    }
   ],
   "source": [
    "MAPSTA"
   ]
  },
  {
   "cell_type": "code",
   "execution_count": 151,
   "metadata": {
    "collapsed": false
   },
   "outputs": [
    {
     "data": {
      "text/plain": [
       "0"
      ]
     },
     "execution_count": 151,
     "metadata": {},
     "output_type": "execute_result"
    }
   ],
   "source": []
  },
  {
   "cell_type": "code",
   "execution_count": 152,
   "metadata": {
    "collapsed": false
   },
   "outputs": [
    {
     "data": {
      "text/plain": [
       "<matplotlib.collections.QuadMesh at 0x7ff2dc3e0400>"
      ]
     },
     "execution_count": 152,
     "metadata": {},
     "output_type": "execute_result"
    },
    {
     "data": {
      "image/png": "[encoded data removed]",
      "text/plain": [
       "<matplotlib.figure.Figure at 0x7ff2dc564358>"
      ]
     },
     "metadata": {},
     "output_type": "display_data"
    }
   ],
   "source": [
    "ds.lm[0].plot()"
   ]
  },
  {
   "cell_type": "code",
   "execution_count": 157,
   "metadata": {
    "collapsed": false
   },
   "outputs": [
    {
     "name": "stdout",
     "output_type": "stream",
     "text": [
      "0.37905\n",
      "0.372096\n",
      "0.372096\n",
      "0.372096\n",
      "0.372096\n",
      "0.372096\n",
      "0.372096\n",
      "0.372096\n",
      "0.372096\n",
      "0.372096\n",
      "0.372096\n",
      "0.372096\n",
      "0.372096\n",
      "0.372096\n",
      "0.372096\n",
      "0.372096\n",
      "0.372096\n",
      "0.372096\n",
      "0.372096\n",
      "0.372096\n",
      "0.372096\n",
      "0.372096\n",
      "0.372096\n",
      "0.372096\n",
      "0.372096\n",
      "0.372096\n",
      "0.372096\n",
      "0.372096\n",
      "0.372096\n",
      "0.372096\n",
      "0.372096\n",
      "0.372096\n",
      "0.372096\n",
      "0.372096\n",
      "0.372096\n",
      "0.372096\n",
      "0.372096\n",
      "0.372096\n",
      "0.372096\n",
      "0.372096\n",
      "0.372096\n",
      "0.372096\n",
      "0.372096\n",
      "0.372096\n",
      "0.372096\n",
      "0.372096\n",
      "0.372096\n",
      "0.372096\n",
      "0.372096\n",
      "0.372096\n",
      "0.372096\n",
      "0.372096\n",
      "0.372096\n",
      "0.372096\n",
      "0.372096\n",
      "0.372096\n",
      "0.372096\n",
      "0.372096\n",
      "0.372096\n",
      "0.372096\n",
      "0.372096\n",
      "0.372096\n",
      "0.372096\n",
      "0.372096\n",
      "0.372096\n",
      "0.372096\n",
      "0.372096\n",
      "0.372096\n",
      "0.372096\n",
      "0.372096\n",
      "0.372096\n",
      "0.372096\n",
      "0.372096\n",
      "0.372096\n",
      "0.372096\n",
      "0.372096\n",
      "0.372096\n",
      "0.372096\n",
      "0.372096\n",
      "0.372096\n",
      "0.372096\n",
      "0.372096\n",
      "0.372096\n",
      "0.372096\n",
      "0.372096\n",
      "0.372096\n",
      "0.372096\n",
      "0.372096\n",
      "0.372096\n",
      "0.372096\n",
      "0.372096\n",
      "0.372096\n",
      "0.372096\n",
      "0.372096\n",
      "0.372096\n",
      "0.372096\n",
      "0.372096\n",
      "0.372096\n",
      "0.372096\n",
      "0.372096\n",
      "0.372096\n",
      "0.361641\n",
      "0.361641\n",
      "0.361641\n",
      "0.361641\n",
      "0.361641\n",
      "0.361641\n",
      "0.361641\n",
      "0.361641\n",
      "0.361641\n",
      "0.361641\n",
      "0.361641\n",
      "0.361641\n",
      "0.361641\n",
      "0.361641\n",
      "0.361641\n",
      "0.361641\n",
      "0.361641\n",
      "0.361641\n",
      "0.361641\n",
      "0.361641\n",
      "0.361641\n",
      "0.361641\n",
      "0.361641\n",
      "0.361641\n",
      "0.361641\n",
      "0.361641\n",
      "0.361641\n",
      "0.361641\n",
      "0.361641\n",
      "0.361641\n",
      "0.361641\n",
      "0.361641\n",
      "0.361641\n",
      "0.361641\n",
      "0.361641\n",
      "0.361641\n",
      "0.361641\n",
      "0.361641\n",
      "0.361641\n",
      "0.361641\n",
      "0.361641\n",
      "0.361641\n",
      "0.361641\n",
      "0.361641\n",
      "0.361641\n",
      "0.361641\n",
      "0.361641\n",
      "0.361641\n",
      "0.361641\n",
      "0.361641\n",
      "0.361641\n",
      "0.361641\n",
      "0.361641\n",
      "0.361641\n",
      "0.361641\n",
      "0.361641\n",
      "0.361641\n",
      "0.361641\n",
      "0.361641\n",
      "0.361641\n",
      "0.361641\n",
      "0.361641\n",
      "0.361641\n",
      "0.361641\n",
      "0.361641\n",
      "0.361641\n",
      "0.361641\n",
      "0.361641\n",
      "0.361641\n",
      "0.361641\n",
      "0.361641\n",
      "0.361641\n",
      "0.361641\n",
      "0.361641\n",
      "0.361641\n",
      "0.361641\n",
      "0.361641\n",
      "0.361641\n",
      "0.361641\n",
      "0.361641\n",
      "0.361641\n",
      "0.361641\n",
      "0.361641\n",
      "0.361641\n",
      "0.361641\n",
      "0.361641\n",
      "0.361641\n",
      "0.361641\n",
      "0.361641\n",
      "0.361641\n",
      "0.361641\n",
      "0.361641\n",
      "0.361641\n",
      "0.361641\n",
      "0.361641\n",
      "0.361641\n",
      "0.361641\n",
      "0.361641\n",
      "0.361641\n"
     ]
    },
    {
     "name": "stderr",
     "output_type": "stream",
     "text": [
      "/ocean/gsgarbi/anaconda3/lib/python3.6/site-packages/ipykernel/__main__.py:2: VisibleDeprecationWarning: using a non-integer number instead of an integer will result in an error in the future\n",
      "  from ipykernel import kernelapp as app\n"
     ]
    }
   ],
   "source": [
    "for i in range (200):\n",
    "    print (lm[10][48.5][(234 + i*0.01) - 360])"
   ]
  },
  {
   "cell_type": "code",
   "execution_count": 167,
   "metadata": {
    "collapsed": true
   },
   "outputs": [],
   "source": [
    "PLACES['Vancouver']['ww3 grid ji'] = find_closest_model_point( PLACES['Vancouver']['lon lat'][0], PLACES['Vancouver']['lon lat'][1], flon, flat)"
   ]
  },
  {
   "cell_type": "code",
   "execution_count": 168,
   "metadata": {
    "collapsed": false
   },
   "outputs": [
    {
     "data": {
      "text/plain": [
       "{'lon lat': (-123.1207, 49.2827), 'ww3 grid ji': (411, 285)}"
      ]
     },
     "execution_count": 168,
     "metadata": {},
     "output_type": "execute_result"
    }
   ],
   "source": [
    "PLACES['Vancouver']"
   ]
  },
  {
   "cell_type": "code",
   "execution_count": 174,
   "metadata": {
    "collapsed": false
   },
   "outputs": [
    {
     "name": "stderr",
     "output_type": "stream",
     "text": [
      "/ocean/gsgarbi/anaconda3/lib/python3.6/site-packages/ipykernel/__main__.py:1: VisibleDeprecationWarning: using a non-integer number instead of an integer will result in an error in the future\n",
      "  if __name__ == '__main__':\n"
     ]
    },
    {
     "data": {
      "text/plain": [
       "9.96921e+36"
      ]
     },
     "execution_count": 174,
     "metadata": {},
     "output_type": "execute_result"
    }
   ],
   "source": []
  },
  {
   "cell_type": "code",
   "execution_count": 173,
   "metadata": {
    "collapsed": false
   },
   "outputs": [
    {
     "name": "stdout",
     "output_type": "stream",
     "text": [
      "48.4095 -123.360992432\n",
      "Victoria 0.349685\n",
      "48.8685 -122.76600647\n",
      "Cherry Point 0.344233\n",
      "49.332 -123.255996704\n",
      "Point Atkinson 0.340299\n",
      "49.179 -123.927993774\n",
      "Nanaimo 0.340299\n",
      "50.0385 -125.236999512\n",
      "Campbell River 0.363533\n"
     ]
    },
    {
     "name": "stderr",
     "output_type": "stream",
     "text": [
      "/ocean/gsgarbi/anaconda3/lib/python3.6/site-packages/ipykernel/__main__.py:4: VisibleDeprecationWarning: using a non-integer number instead of an integer will result in an error in the future\n"
     ]
    }
   ],
   "source": [
    "for k in TIDE_GAUGE_SITES:\n",
    "    lon,lat = PLACES[k]['ww3 lon lat'] #lon, lat\n",
    "    print (lat,lon)\n",
    "    print (k, hs[10,lat,lon])"
   ]
  },
  {
   "cell_type": "code",
   "execution_count": 175,
   "metadata": {
    "collapsed": false
   },
   "outputs": [
    {
     "name": "stderr",
     "output_type": "stream",
     "text": [
      "/ocean/gsgarbi/anaconda3/lib/python3.6/site-packages/ipykernel/__main__.py:1: VisibleDeprecationWarning: using a non-integer number instead of an integer will result in an error in the future\n",
      "  if __name__ == '__main__':\n"
     ]
    },
    {
     "data": {
      "text/plain": [
       "9.96921e+36"
      ]
     },
     "execution_count": 175,
     "metadata": {},
     "output_type": "execute_result"
    }
   ],
   "source": [
    "hs[10, PLACES['Vancouver']['lon lat'][0], PLACES['Vancouver']['lon lat'][1]] #Vancouver"
   ]
  },
  {
   "cell_type": "code",
   "execution_count": null,
   "metadata": {
    "collapsed": true
   },
   "outputs": [],
   "source": []
  }
 ],
 "metadata": {
  "kernelspec": {
   "display_name": "Python 3",
   "language": "python",
   "name": "python3"
  },
  "language_info": {
   "codemirror_mode": {
    "name": "ipython",
    "version": 3
   },
   "file_extension": ".py",
   "mimetype": "text/x-python",
   "name": "python",
   "nbconvert_exporter": "python",
   "pygments_lexer": "ipython3",
   "version": "3.6.0"
  }
 },
 "nbformat": 4,
 "nbformat_minor": 2
}
