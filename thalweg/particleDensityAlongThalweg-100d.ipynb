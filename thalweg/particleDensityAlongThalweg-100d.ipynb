{
 "cells": [
  {
   "cell_type": "code",
   "execution_count": 1,
   "metadata": {
    "collapsed": false
   },
   "outputs": [],
   "source": [
    "import datetime as dt\n",
    "import os\n",
    "import netCDF4 as nc\n",
    "import matplotlib as mpl\n",
    "import time\n",
    "\n",
    "import numpy as np\n",
    "import numpy.ma as ma\n",
    "from scipy.spatial import distance\n",
    "import matplotlib\n",
    "from matplotlib import pyplot as plt\n",
    "import matplotlib.colors as mpl_colors\n",
    "from matplotlib import rc\n",
    "from mpl_toolkits.axes_grid1 import make_axes_locatable\n",
    "from scipy.stats import gaussian_kde\n",
    "from mpl_toolkits.mplot3d import Axes3D\n",
    "\n",
    "\n",
    "\n",
    "\n",
    "from salishsea_tools import geo_tools, viz_tools\n",
    "% matplotlib inline"
   ]
  },
  {
   "cell_type": "markdown",
   "metadata": {},
   "source": [
    "#### 1. First, load and select the desired trajectories. \n",
    "I have put the selected rows (nday=50) into an array called points which has the same 5 columns as the original traj.txt file"
   ]
  },
  {
   "cell_type": "code",
   "execution_count": null,
   "metadata": {
    "collapsed": false
   },
   "outputs": [],
   "source": [
    "# direct = \"/ocean/gsgarbi/analysis-giorgio/time_series/results2/20160601_20160630_264d/\"\n",
    "# traj=np.loadtxt(direct+\"/traj.txt\", delimiter = ' ')\n",
    "\n",
    "# nday=100\n",
    "# tunit=3600\n",
    "# ntfic=1\n",
    "# lmt=1896\n",
    "# # time as fraction of 1 tcyc:\n",
    "# ndaytcyc=nday*24*3600/(tunit*ntfic*lmt)\n",
    "\n",
    "# # find the location of the nearest time in the trajectories to the desired time\n",
    "# flocs=np.argmin(np.abs(traj[:,4]-ndaytcyc))\n",
    "# # get the actual time in the traj file\n",
    "# nearestT=traj[flocs,4]\n",
    "# # return only the points matching the desired time\n",
    "# crit=traj[:,4]==nearestT\n"
   ]
  },
  {
   "cell_type": "code",
   "execution_count": null,
   "metadata": {
    "collapsed": false
   },
   "outputs": [
    {
     "name": "stdout",
     "output_type": "stream",
     "text": [
      "20160201_20160229_401d\n"
     ]
    }
   ],
   "source": [
    "T1 = dt.datetime.now()\n",
    "\n",
    "path = \"/ocean/gsgarbi/analysis-giorgio/time_series/results2/2016/\"\n",
    "\n",
    "dirs = os.listdir( path )\n",
    "\n",
    "points = [[0,0,0,0,0]]\n",
    "\n",
    "nday=100\n",
    "tunit=3600\n",
    "ntfic=1\n",
    "lmt=1896\n",
    "# time as fraction of 1 tcyc:\n",
    "ndaytcyc=nday*24*3600/(tunit*ntfic*lmt)\n",
    "\n",
    "\n",
    "for file in dirs:\n",
    "    print (file)\n",
    "    \n",
    "    t1 = dt.datetime.now()\n",
    "    \n",
    "    traj=np.loadtxt(path+file+\"/traj.txt\", delimiter = ' ')\n",
    "\n",
    "\n",
    "\n",
    "    # find the location of the nearest time in the trajectories to the desired time\n",
    "    flocs=np.argmin(np.abs(traj[:,4]-ndaytcyc))\n",
    "    # get the actual time in the traj file\n",
    "    nearestT=traj[flocs,4]\n",
    "    # return only the points matching the desired time\n",
    "    crit=traj[:,4]==nearestT\n",
    "    \n",
    "    points = np.concatenate((points, traj[crit,:]), axis = 0)\n",
    "    print (\"each: \", np.shape(traj[crit,:]))\n",
    "    print (\"total\", np.shape(points))\n",
    "    \n",
    "    t2 = dt.datetime.now()\n",
    "    print (\"each: \", t1, t2)\n",
    "    \n",
    "T2 = dt.datetime.now()\n",
    "print (\"Total: \", T1, T2)\n"
   ]
  },
  {
   "cell_type": "code",
   "execution_count": null,
   "metadata": {
    "collapsed": false,
    "scrolled": true
   },
   "outputs": [],
   "source": [
    "print (np.shape(points))"
   ]
  },
  {
   "cell_type": "code",
   "execution_count": null,
   "metadata": {
    "collapsed": false
   },
   "outputs": [],
   "source": []
  },
  {
   "cell_type": "markdown",
   "metadata": {},
   "source": [
    "#### 2. Next, load and prep model grid variables that will be used to calculate the ocean volume estimate. The end result are a series of 1d arrays called modlon_oc, modlat_oc, modz_oc, and modV_oc, containing the coordinates and volumes associated with model grid cells containing water (not land)"
   ]
  },
  {
   "cell_type": "code",
   "execution_count": null,
   "metadata": {
    "collapsed": false
   },
   "outputs": [],
   "source": [
    "# set up array of zeros of shape of model domain; also load tmask, model lons and lats\n",
    "mesh = nc.Dataset(\"/ocean/gsgarbi/mesh_mask_downbyone2.nc\")\n",
    "tmask=np.copy(mesh.variables['tmask'])\n",
    "deptht=np.copy(mesh.variables['gdept_1d'][0,:])\n",
    "depthw=np.copy(mesh.variables['gdepw_1d'][0,:])\n",
    "e1t=np.copy(mesh.variables['e1t'][0,:,:])\n",
    "e2t=np.copy(mesh.variables['e2t'][0,:,:])\n",
    "e3t=np.copy(mesh.variables['e3t_0'][0,:,:,:])\n",
    "mesh.close()\n",
    "fb=nc.Dataset('/ocean/eolson/MEOPAR/NEMO-forcing/grid/bathy_downonegrid2.nc')\n",
    "nav_lon = np.copy(fb.variables['nav_lon'])\n",
    "nav_lat = np.copy(fb.variables['nav_lat'])\n",
    "bathy = np.copy(fb.variables['Bathymetry'])\n",
    "fb.close()"
   ]
  },
  {
   "cell_type": "code",
   "execution_count": null,
   "metadata": {
    "collapsed": false
   },
   "outputs": [],
   "source": [
    "# create aligned arrays (like meshgrid) of lat, lon, z, volume for all ocean points in model\n",
    "modlon=np.tile(nav_lon,(np.shape(e3t)[0],1,1))\n",
    "modlat=np.tile(nav_lat,(np.shape(e3t)[0],1,1))\n",
    "modz=np.tile(np.reshape(deptht,(-1,1,1)),(1,np.shape(e3t)[1],np.shape(e3t)[2]))\n",
    "mod_dx=np.tile(e1t,(np.shape(e3t)[0],1,1))\n",
    "mod_dy=np.tile(e2t,(np.shape(e3t)[0],1,1))\n",
    "modV=mod_dx*mod_dy*e3t\n",
    "\n",
    "# select only those points that contain water. This produces 1d arrays.\n",
    "modlon_oc=modlon[tmask[0,:,:,:]==1]\n",
    "modlat_oc=modlat[tmask[0,:,:,:]==1]\n",
    "modz_oc=modz[tmask[0,:,:,:]==1]\n",
    "modV_oc=modV[tmask[0,:,:,:]==1]"
   ]
  },
  {
   "cell_type": "markdown",
   "metadata": {},
   "source": [
    "#### 3. Load the  thalweg model indices and convert them from grid indices to lat, lon using nav_lat and nav_lon (which were loaded from the bathymetry file in step 2). \n",
    "Reduce the number of points by selecting only every 10th thalweg point. \n",
    "\n",
    "Extend the thalweg vertically to create a mesh."
   ]
  },
  {
   "cell_type": "code",
   "execution_count": null,
   "metadata": {
    "collapsed": false
   },
   "outputs": [],
   "source": [
    "thw = np.loadtxt(\n",
    "    '/ocean/gsgarbi/MEOPAR/tools/bathymetry/thalweg_working.txt',\n",
    "    delimiter=\" \", dtype=int)\n",
    "thw_lat = nav_lat[thw[:,0], thw[:,1]]\n",
    "thw_lon = nav_lon[thw[:,0], thw[:,1]]\n",
    "thw_bot = bathy[thw[:,0], thw[:,1]]"
   ]
  },
  {
   "cell_type": "code",
   "execution_count": null,
   "metadata": {
    "collapsed": false
   },
   "outputs": [],
   "source": [
    "#thw_lat5=[l for i,l in zip(range(0,len(thw_lat)),thw_lat) if i%5==0]\n",
    "#thw_lon5=[l for i,l in zip(range(0,len(thw_lon)),thw_lon) if i%5==0]\n",
    "thwsubN=7\n",
    "thw_lat_sub=[l for i,l in zip(range(0,len(thw_lat)),thw_lat) if i%thwsubN==0]\n",
    "thw_lon_sub=[l for i,l in zip(range(0,len(thw_lon)),thw_lon) if i%thwsubN==0]\n",
    "thw_bot_sub=[l for i,l in zip(range(0,len(thw_bot)),thw_bot) if i%thwsubN==0]\n",
    "print(len(thw_lon_sub))"
   ]
  },
  {
   "cell_type": "code",
   "execution_count": null,
   "metadata": {
    "collapsed": false
   },
   "outputs": [],
   "source": [
    "plt.plot(thw_lon,thw_lat, 'k.')\n",
    "plt.plot(thw_lon_sub,thw_lat_sub, 'r.')\n",
    "#plt.xlim((-123.5,-123.2))\n",
    "#plt.ylim(48.8,49.2)\n",
    "print(' number of points in reduced thalweg is: ',len(thw_lon_sub) )\n",
    "print(' distance between consecutive points is: ',\n",
    "      np.mean(geo_tools.haversine(thw_lon_sub[:-1],thw_lat_sub[:-1],\n",
    "                                thw_lon_sub[1:],thw_lat_sub[1:])), 'km')"
   ]
  },
  {
   "cell_type": "code",
   "execution_count": null,
   "metadata": {
    "collapsed": false
   },
   "outputs": [],
   "source": [
    "thwZ=10.0 # depth interval in thalweg mesh # 5 is too small for model grid\n",
    "thwzs=np.arange(thwZ/2.0,440.0,thwZ)\n",
    "# set up 2d mesh:\n",
    "thmlon=np.tile(thw_lon_sub,(len(thwzs),1))\n",
    "thmlat=np.tile(thw_lat_sub,(len(thwzs),1))\n",
    "thmz=np.tile(np.reshape(thwzs,(-1,1)),(1,len(thw_lon_sub)))\n",
    "thmbot=np.tile(thw_bot_sub,(len(thwzs),1))\n",
    "thm_isoc=(thmz<thmbot)\n",
    "print(np.sum(thm_isoc), 'ocean points in thalweg mesh')"
   ]
  },
  {
   "cell_type": "markdown",
   "metadata": {},
   "source": [
    "#### 4. Plot points in 3d to get an idea of what we are working with"
   ]
  },
  {
   "cell_type": "code",
   "execution_count": null,
   "metadata": {
    "collapsed": false
   },
   "outputs": [],
   "source": [
    "fig = plt.figure(figsize=(10,10))\n",
    "ax = fig.add_subplot(111, projection='3d')\n",
    "ax.scatter(points[:,1],points[:,2],points[:,3],c=points[:,3],s=5,lw=0.0)\n",
    "ax.plot(thw_lon_sub,thw_lat_sub,np.zeros(len(thw_lon_sub)))\n",
    "ax.plot(thw_lon_sub,thw_lat_sub,-50*np.ones(len(thw_lon_sub)))\n",
    "#ax.plot(thw_lon10,thw_lat10,-1*np.array(thw_bot10))\n",
    "ax.view_init(30, -60)\n",
    "ax.set_xlim([-126,-123.5])\n",
    "ax.set_ylim([49,51])\n",
    "ax.set_zlim(-300,0);"
   ]
  },
  {
   "cell_type": "markdown",
   "metadata": {},
   "source": [
    "#### 5. Define functions that will estimate concentration along thalweg mesh"
   ]
  },
  {
   "cell_type": "code",
   "execution_count": null,
   "metadata": {
    "collapsed": true
   },
   "outputs": [],
   "source": [
    "# gaussian functions for weighting data according to distance from target point\n",
    "def gweight(dist,dz,sigx,sigz):\n",
    "    # if len(dist)>1 and len(sig)=1, repeate sig for length of dist\n",
    "    if isinstance(dist,list): # handle list input\n",
    "        dist=np.array(dist)\n",
    "        dz=np.array(dz)\n",
    "    if isinstance(dist,np.ndarray): # handle list/vector input\n",
    "        sigx=sigx*np.ones(dist.shape)\n",
    "        sigz=sigz*np.ones(dist.shape)\n",
    "    return np.exp(-(dist**2/(2*sigx**2)+dz**2/(2*sigz**2)))"
   ]
  },
  {
   "cell_type": "code",
   "execution_count": null,
   "metadata": {
    "collapsed": false
   },
   "outputs": [],
   "source": [
    "# function to estimate weighted values at a single point in the thalweg mesh\n",
    "# calculate weighted N by inputing coords of points each with value of 1\n",
    "# calculate weighted V by inputing coords of model water points with volumes \n",
    "# of water at each point\n",
    "# concentration = weighted N / weighted V\n",
    "\n",
    "def weighted(reflon, reflat, refz, datalon, datalat, dataz, dataval, sigx, sigz):\n",
    "    \n",
    "    distx=geo_tools.haversine(datalon,datalat,\n",
    "                              reflon*np.ones(len(datalon)),reflat*np.ones(len(datalon)))\n",
    "    distz=dataz-refz\n",
    "    \n",
    "    ind = np.array((distx**2<9*sigx**2)&(distz**2<9*sigz**2)) # select points within 3 sig of reference point\n",
    "\n",
    "    weights = gweight(distx[ind],distz[ind],sigx,sigz)\n",
    "    \n",
    "    return np.sum(weights)"
   ]
  },
  {
   "cell_type": "code",
   "execution_count": null,
   "metadata": {
    "collapsed": true
   },
   "outputs": [],
   "source": [
    "# function to calculate concentration estimates along entire thalweg mesh\n",
    "def trajConcThw(thmlon,thmlat,thmz,thm_isoc,points,\n",
    "                modlon_oc,modlat_oc,modz_oc,modV_oc,sigx,sigz):\n",
    "    thmC=np.nan*np.ones(thmlon.shape)\n",
    "    thmlon=thmlon[thm_isoc]\n",
    "    thmlat=thmlat[thm_isoc]\n",
    "    thmz=thmz[thm_isoc]\n",
    "    thmC0=np.nan*np.ones(thmlon.shape)\n",
    "    #thmN0=np.nan*np.ones(thmlon.shape)\n",
    "    thmV0=np.nan*np.ones(thmlon.shape)\n",
    "    for ii in range(0,len(thmlon)):\n",
    "        reflon=thmlon[ii]; reflat=thmlat[ii]; refz=thmz[ii]\n",
    "        wN=weighted(reflon, reflat, refz, points[:,1], points[:,2], -1.0*points[:,3],\n",
    "                    np.ones(np.size(points[:,1])), sigx, sigz)\n",
    "        wV=weighted(reflon, reflat, refz, modlon_oc, modlat_oc, modz_oc, \n",
    "                    modV_oc, sigx, sigz)\n",
    "        # if always using the same thalweg grid (eg every 10th thalweg point and vertical resoluation 10 m) and \n",
    "        # the same sigx and sigz, wV could be saved and reloaded to save on calculation time\n",
    "        thmC0[ii]=wN/wV\n",
    "        #thmN0[ii]=wN\n",
    "        thmV0[ii]=wV\n",
    "    #remove measurements that are artificially large due to small sample volume:\n",
    "    mV=np.median(thmV0)\n",
    "    #mN=np.median(thmN0)\n",
    "    iii=thmV0<0.5*mV\n",
    "    thmC0[iii]=np.nan\n",
    "    thmC[thm_isoc]=thmC0\n",
    "    return thmC"
   ]
  },
  {
   "cell_type": "code",
   "execution_count": null,
   "metadata": {
    "collapsed": false
   },
   "outputs": [],
   "source": [
    "# choose sigx and sigz to be similar to grid: takes less than 20min\n",
    "\n",
    "t1 = dt.datetime.now()\n",
    "\n",
    "sigx=3 #km\n",
    "sigz=12 #m 5 is too small\n",
    "C=trajConcThw(thmlon,thmlat,thmz,thm_isoc,points,\n",
    "                modlon_oc,modlat_oc,modz_oc,modV_oc,sigx,sigz)\n",
    "\n",
    "t2 = dt.datetime.now()"
   ]
  },
  {
   "cell_type": "code",
   "execution_count": null,
   "metadata": {
    "collapsed": false
   },
   "outputs": [],
   "source": [
    "print (t1, t2)"
   ]
  },
  {
   "cell_type": "markdown",
   "metadata": {},
   "source": [
    "#6 Plot"
   ]
  },
  {
   "cell_type": "code",
   "execution_count": null,
   "metadata": {
    "collapsed": false
   },
   "outputs": [],
   "source": [
    "t1 = dt.datetime.now()\n",
    "\n",
    "fig,ax=plt.subplots(1,1,figsize=(12,3))\n",
    "pmesh=ax.pcolormesh(geo_tools.distance_along_curve(thmlon[0,:],thmlat[0,:]),thmz[:,0],np.ma.masked_where(np.isnan(C),C))\n",
    "ax.set_ylim(450,0)\n",
    "ax.set_xlabel('Distance (km, arbitrary)')\n",
    "ax.set_ylabel('Depth (m)')\n",
    "fig.colorbar(pmesh)\n",
    "ax.set_title('Particle density')\n",
    "\n",
    "t2 = dt.datetime.now()\n",
    "print (t1, t2)"
   ]
  },
  {
   "cell_type": "code",
   "execution_count": null,
   "metadata": {
    "collapsed": false
   },
   "outputs": [],
   "source": [
    "deptht[-5:]-deptht[-6:-1]"
   ]
  },
  {
   "cell_type": "code",
   "execution_count": null,
   "metadata": {
    "collapsed": true
   },
   "outputs": [],
   "source": []
  },
  {
   "cell_type": "markdown",
   "metadata": {},
   "source": [
    "7. Save"
   ]
  },
  {
   "cell_type": "code",
   "execution_count": null,
   "metadata": {
    "collapsed": true
   },
   "outputs": [],
   "source": [
    "fig.savefig(\"/ocean/gsgarbi/thalweg/2016_allmonths_{}days\".format(nday))"
   ]
  },
  {
   "cell_type": "code",
   "execution_count": null,
   "metadata": {
    "collapsed": true
   },
   "outputs": [],
   "source": []
  },
  {
   "cell_type": "code",
   "execution_count": null,
   "metadata": {
    "collapsed": true
   },
   "outputs": [],
   "source": []
  }
 ],
 "metadata": {
  "anaconda-cloud": {},
  "kernelspec": {
   "display_name": "Python 3",
   "language": "python",
   "name": "python3"
  },
  "language_info": {
   "codemirror_mode": {
    "name": "ipython",
    "version": 3
   },
   "file_extension": ".py",
   "mimetype": "text/x-python",
   "name": "python",
   "nbconvert_exporter": "python",
   "pygments_lexer": "ipython3",
   "version": "3.6.0"
  }
 },
 "nbformat": 4,
 "nbformat_minor": 2
}
