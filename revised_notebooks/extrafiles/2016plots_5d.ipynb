{
 "cells": [
  {
   "cell_type": "code",
   "execution_count": 1,
   "metadata": {
    "collapsed": true
   },
   "outputs": [],
   "source": [
    "import datetime as dt\n",
    "import os, sys\n",
    "import netCDF4 as nc\n",
    "import matplotlib as mpl\n",
    "import numpy as np\n",
    "import numpy.ma as ma\n",
    "from scipy.spatial import distance\n",
    "import matplotlib\n",
    "from matplotlib import pyplot as plt\n",
    "from matplotlib.patches import Ellipse\n",
    "from matplotlib import cm\n",
    "import matplotlib.colors as mpl_colors\n",
    "from matplotlib import rc\n",
    "from mpl_toolkits.axes_grid1 import make_axes_locatable\n",
    "\n",
    "\n",
    "from salishsea_tools import geo_tools, viz_tools\n",
    "\n",
    "get_ipython().magic('matplotlib inline')"
   ]
  },
  {
   "cell_type": "code",
   "execution_count": null,
   "metadata": {
    "collapsed": true
   },
   "outputs": [],
   "source": []
  },
  {
   "cell_type": "code",
   "execution_count": 2,
   "metadata": {
    "collapsed": false
   },
   "outputs": [],
   "source": [
    "#Parameters\n",
    "\n",
    "cmap = plt.get_cmap('nipy_spectral')\n",
    "cmap.set_bad('burlywood')\n",
    "\n",
    "H = 24 #One day in hours\n",
    "\n",
    "#Ariane parameters\n",
    "tunit= 3600\n",
    "\n",
    "outint = 20 * 60 # 20 min in seconds\n",
    "\n",
    "pph = int(tunit / outint) #points per hour\n",
    "\n",
    "lmt = 1896 #points per particle\n",
    "\n",
    "\n",
    "#RUN parameters\n",
    "\n",
    "nday= 5\n",
    "\n",
    "plotsdir = \"/ocean/gsgarbi/analysis-giorgio/time_series/results2016/plots\"\n",
    "\n",
    "\n",
    "position = nday * pph * H # d * num/h * h/d = num"
   ]
  },
  {
   "cell_type": "code",
   "execution_count": null,
   "metadata": {
    "collapsed": true
   },
   "outputs": [],
   "source": []
  },
  {
   "cell_type": "code",
   "execution_count": 3,
   "metadata": {
    "collapsed": false
   },
   "outputs": [],
   "source": [
    "#function to get points from an indiviual month\n",
    "\n",
    "def getpts(direct):\n",
    "    \n",
    "    points = []\n",
    "    \n",
    "    particle = 1 #start particle counter\n",
    "    \n",
    "    start = dt.datetime.now()\n",
    "    print (\"start {}: \".format(direct), start)\n",
    "\n",
    "\n",
    "    with open(direct + \"/traj.txt\") as file:\n",
    "\n",
    "        for i, line in enumerate(file):\n",
    "\n",
    "            line = line.strip('\\n').split()\n",
    "\n",
    "            line = [float(k) for k in line]\n",
    "\n",
    "            line = np.array(line)\n",
    "\n",
    "\n",
    "            if line[0] == particle:\n",
    "                index = i + position\n",
    "                particle += 1\n",
    "\n",
    "            if i == index:\n",
    "                points.append (line)\n",
    "                \n",
    "        print (\"time: \", dt.datetime.now() - start)\n",
    "                \n",
    "                \n",
    "    return points"
   ]
  },
  {
   "cell_type": "code",
   "execution_count": 4,
   "metadata": {
    "collapsed": false
   },
   "outputs": [],
   "source": [
    "# test cell\n",
    "\n",
    "# jan = get_pts(\"/ocean/gsgarbi/analysis-giorgio/time_series/results2016/20160101_20160131_427d/\")\n",
    "\n",
    "#feb = get_pts(\"/ocean/gsgarbi/analysis-giorgio/time_series/results2016/20160201_20160229_401d/\")"
   ]
  },
  {
   "cell_type": "code",
   "execution_count": 5,
   "metadata": {
    "collapsed": false
   },
   "outputs": [
    {
     "name": "stdout",
     "output_type": "stream",
     "text": [
      "start /ocean/gsgarbi/analysis-giorgio/time_series/results2016/20160201_20160229_401d:  2017-04-11 14:47:38.919019\n",
      "time:  0:03:34.652533\n",
      "start /ocean/gsgarbi/analysis-giorgio/time_series/results2016/20160401_20160430_325d:  2017-04-11 14:51:13.572646\n",
      "time:  0:03:01.038462\n",
      "start /ocean/gsgarbi/analysis-giorgio/time_series/results2016/20161101_20161130_111d:  2017-04-11 14:54:14.612022\n",
      "time:  0:01:01.802284\n",
      "start /ocean/gsgarbi/analysis-giorgio/time_series/results2016/20160101_20160131_427d:  2017-04-11 14:55:16.415354\n",
      "time:  0:03:58.734176\n",
      "start /ocean/gsgarbi/analysis-giorgio/time_series/results2016/20160601_20160630_264d:  2017-04-11 14:59:15.159928\n",
      "time:  0:02:20.574539\n",
      "start /ocean/gsgarbi/analysis-giorgio/time_series/results2016/20160901_20160930_172d:  2017-04-11 15:01:35.761106\n",
      "time:  0:01:32.865653\n",
      "start /ocean/gsgarbi/analysis-giorgio/time_series/results2016/20161001_20161031_141d:  2017-04-11 15:03:08.631893\n",
      "time:  0:01:18.290343\n",
      "start /ocean/gsgarbi/analysis-giorgio/time_series/results2016/20160301_20160331_355d:  2017-04-11 15:04:26.923438\n",
      "time:  0:03:15.444093\n",
      "start /ocean/gsgarbi/analysis-giorgio/time_series/results2016/20160801_20160831_217d:  2017-04-11 15:07:42.370587\n",
      "time:  0:02:00.393780\n",
      "start /ocean/gsgarbi/analysis-giorgio/time_series/results2016/20160501_20160531_294d:  2017-04-11 15:09:42.765270\n",
      "time:  0:02:44.042740\n",
      "start /ocean/gsgarbi/analysis-giorgio/time_series/results2016/20161201_20161231_95d:  2017-04-11 15:12:26.809519\n",
      "time:  0:00:51.819494\n",
      "start /ocean/gsgarbi/analysis-giorgio/time_series/results2016/20160701_20160731_252d:  2017-04-11 15:13:18.629985\n",
      "time:  0:02:12.268751\n",
      "start /ocean/gsgarbi/analysis-giorgio/time_series/results2016/plot100days.png:  2017-04-11 15:15:30.899537\n"
     ]
    },
    {
     "ename": "NotADirectoryError",
     "evalue": "[Errno 20] Not a directory: '/ocean/gsgarbi/analysis-giorgio/time_series/results2016/plot100days.png/traj.txt'",
     "output_type": "error",
     "traceback": [
      "\u001b[0;31m---------------------------------------------------------------------------\u001b[0m",
      "\u001b[0;31mNotADirectoryError\u001b[0m                        Traceback (most recent call last)",
      "\u001b[0;32m<ipython-input-5-6fc49b975755>\u001b[0m in \u001b[0;36m<module>\u001b[0;34m()\u001b[0m\n\u001b[1;32m      9\u001b[0m \u001b[0;34m\u001b[0m\u001b[0m\n\u001b[1;32m     10\u001b[0m \u001b[0;32mfor\u001b[0m \u001b[0mfile\u001b[0m \u001b[0;32min\u001b[0m \u001b[0mdirs\u001b[0m\u001b[0;34m:\u001b[0m\u001b[0;34m\u001b[0m\u001b[0m\n\u001b[0;32m---> 11\u001b[0;31m     \u001b[0myear\u001b[0m \u001b[0;34m+=\u001b[0m \u001b[0mgetpts\u001b[0m\u001b[0;34m(\u001b[0m\u001b[0mpath\u001b[0m \u001b[0;34m+\u001b[0m \u001b[0mfile\u001b[0m\u001b[0;34m)\u001b[0m\u001b[0;34m\u001b[0m\u001b[0m\n\u001b[0m\u001b[1;32m     12\u001b[0m \u001b[0;34m\u001b[0m\u001b[0m\n",
      "\u001b[0;32m<ipython-input-3-6816d9dd8953>\u001b[0m in \u001b[0;36mgetpts\u001b[0;34m(direct)\u001b[0m\n\u001b[1;32m     11\u001b[0m \u001b[0;34m\u001b[0m\u001b[0m\n\u001b[1;32m     12\u001b[0m \u001b[0;34m\u001b[0m\u001b[0m\n\u001b[0;32m---> 13\u001b[0;31m     \u001b[0;32mwith\u001b[0m \u001b[0mopen\u001b[0m\u001b[0;34m(\u001b[0m\u001b[0mdirect\u001b[0m \u001b[0;34m+\u001b[0m \u001b[0;34m\"/traj.txt\"\u001b[0m\u001b[0;34m)\u001b[0m \u001b[0;32mas\u001b[0m \u001b[0mfile\u001b[0m\u001b[0;34m:\u001b[0m\u001b[0;34m\u001b[0m\u001b[0m\n\u001b[0m\u001b[1;32m     14\u001b[0m \u001b[0;34m\u001b[0m\u001b[0m\n\u001b[1;32m     15\u001b[0m         \u001b[0;32mfor\u001b[0m \u001b[0mi\u001b[0m\u001b[0;34m,\u001b[0m \u001b[0mline\u001b[0m \u001b[0;32min\u001b[0m \u001b[0menumerate\u001b[0m\u001b[0;34m(\u001b[0m\u001b[0mfile\u001b[0m\u001b[0;34m)\u001b[0m\u001b[0;34m:\u001b[0m\u001b[0;34m\u001b[0m\u001b[0m\n",
      "\u001b[0;31mNotADirectoryError\u001b[0m: [Errno 20] Not a directory: '/ocean/gsgarbi/analysis-giorgio/time_series/results2016/plot100days.png/traj.txt'"
     ]
    }
   ],
   "source": [
    "# Get points for the year - this process should take about 42min for 12 months (3.5min per month)\n",
    "\n",
    "path = \"/ocean/gsgarbi/analysis-giorgio/time_series/results2016/\"\n",
    "\n",
    "dirs = os.listdir( path )\n",
    "\n",
    "year = []\n",
    "\n",
    "\n",
    "for file in dirs:\n",
    "    year += getpts(path + file)\n",
    "    \n"
   ]
  },
  {
   "cell_type": "code",
   "execution_count": 6,
   "metadata": {
    "collapsed": false
   },
   "outputs": [
    {
     "name": "stdout",
     "output_type": "stream",
     "text": [
      "start:  2017-04-12 14:21:45.222621\n",
      "time:  0:00:46.603942\n"
     ]
    },
    {
     "data": {
      "image/png": "[encoded data removed]",
      "text/plain": [
       "<matplotlib.figure.Figure at 0x7fc048678f28>"
      ]
     },
     "metadata": {},
     "output_type": "display_data"
    },
    {
     "data": {
      "image/png": "[encoded data removed]",
      "text/plain": [
       "<matplotlib.figure.Figure at 0x7fc01c344b38>"
      ]
     },
     "metadata": {},
     "output_type": "display_data"
    }
   ],
   "source": [
    "#prepare plot\n",
    "\n",
    "points = np.array(year) #back to original name. convert to np.array\n",
    "\n",
    "start = dt.datetime.now()\n",
    "print (\"start: \", start)\n",
    "\n",
    "\n",
    "# In[7]:\n",
    "\n",
    "\n",
    "\n",
    "np.shape(points)\n",
    "\n",
    "\n",
    "# In[8]:\n",
    "\n",
    "# set up array of zeros of shape of model domain; also load tmask, model lons and lats\n",
    "mesh = nc.Dataset(\"/ocean/gsgarbi/mesh_mask_downbyone2.nc\")\n",
    "tmask=np.copy(mesh.variables['tmask'])\n",
    "mesh.close()\n",
    "fb=nc.Dataset('/ocean/eolson/MEOPAR/NEMO-forcing/grid/bathy_downonegrid2.nc')\n",
    "nav_lon=np.copy(fb.variables['nav_lon'])\n",
    "nav_lat=np.copy(fb.variables['nav_lat'])\n",
    "fb.close()\n",
    "\n",
    "\n",
    "# In[9]:\n",
    "\n",
    "tmask.shape\n",
    "\n",
    "\n",
    "# In[10]:\n",
    "\n",
    "griddata=0.0*tmask[0,0,:,:]\n",
    "griddata.shape\n",
    "\n",
    "\n",
    "# In[11]:\n",
    "\n",
    "np.shape(points)[0]\n",
    "\n",
    "\n",
    "# In[12]:\n",
    "\n",
    "for ii in range(0,np.shape(points)[0]):\n",
    "    j,i=geo_tools.find_closest_model_point(points[ii,1],points[ii,2],nav_lon,nav_lat)\n",
    "    #print(points[ii,1],points[ii,2],j,i)\n",
    "    griddata[j,i]=griddata[j,i]+1\n",
    "\n",
    "\n",
    "# In[13]:\n",
    "\n",
    "fig, axs = plt.subplots(1,1,figsize=(9,8))\n",
    "mesh0 = axs.pcolormesh(nav_lon,nav_lat,np.ma.masked_where(tmask[0,0,:,:]==0,griddata),cmap=cmap)\n",
    "\n",
    "viz_tools.set_aspect(axs,coords='map')\n",
    "\n",
    "\n",
    "# In[14]:\n",
    "\n",
    "# model grid is too small. use hist2d for larger bins, then overlay grid\n",
    "\n",
    "\n",
    "# In[15]:\n",
    "\n",
    "lonlim=[np.min(nav_lon),np.max(nav_lon)]\n",
    "latlim=[np.min(nav_lat),np.max(nav_lat)]\n",
    "\n",
    "griddata, iedges, jedges = np.histogram2d(points[:,1],points[:,2],bins=[100,200],range=[lonlim,latlim])\n",
    "\n",
    "\n",
    "# In[16]:\n",
    "\n",
    "Jedges,Iedges=np.meshgrid(jedges,iedges)\n",
    "\n",
    "\n",
    "# In[17]:\n",
    "\n",
    "Jedges.shape\n",
    "\n",
    "\n",
    "# In[18]:\n",
    "\n",
    "griddata.shape\n",
    "\n",
    "\n",
    "# In[19]:\n",
    "\n",
    "xl=(-125,-122.4)\n",
    "yl=(48,50)\n",
    "fig, axs = plt.subplots(1,1,figsize=(9,8))\n",
    "mesh0 = axs.pcolormesh(Iedges,Jedges,griddata,cmap=cmap)\n",
    "axs.set_xlim(xl)\n",
    "axs.set_ylim(yl)\n",
    "#axs.plot(-124.0,49.5,'r*')\n",
    "viz_tools.set_aspect(axs,coords='map')\n",
    "pos=axs.get_position()\n",
    "axs2 = plt.axes(pos)\n",
    "mesh1=axs2.pcolormesh(nav_lon,nav_lat,np.ma.masked_where(tmask[0,0,:,:]==1,tmask[0,0,:,:]),cmap='YlOrRd')\n",
    "axs2.set_xlim(xl)\n",
    "axs2.set_ylim(yl)\n",
    "axs2.patch.set_alpha(0)\n",
    "viz_tools.set_aspect(axs2,coords='map')\n",
    "\n",
    "\n",
    "print (\"time: \", dt.datetime.now() - start)\n"
   ]
  },
  {
   "cell_type": "code",
   "execution_count": 9,
   "metadata": {
    "collapsed": false
   },
   "outputs": [
    {
     "data": {
      "text/plain": [
       "1.1363636363636362"
      ]
     },
     "execution_count": 9,
     "metadata": {},
     "output_type": "execute_result"
    },
    {
     "data": {
      "text/plain": [
       "<matplotlib.figure.Figure at 0x7fc01bf3aef0>"
      ]
     },
     "metadata": {},
     "output_type": "display_data"
    },
    {
     "data": {
      "image/png": "[encoded data removed]",
      "text/plain": [
       "<matplotlib.figure.Figure at 0x7fc01bf10c88>"
      ]
     },
     "metadata": {},
     "output_type": "display_data"
    }
   ],
   "source": [
    "#plot\n",
    "\n",
    "\n",
    "plt.clf()\n",
    "\n",
    "Iona = (-123.30898284912109, 49.187351226806641)\n",
    "S15 = (-123.3114, 49.130412)\n",
    "S16 = (-123.317415, 49.1214)\n",
    "\n",
    "\n",
    "lonlim=[np.min(nav_lon),np.max(nav_lon)]\n",
    "latlim=[np.min(nav_lat),np.max(nav_lat)]\n",
    "\n",
    "griddata, iedges, jedges = np.histogram2d(points[:,1],points[:,2],bins=[100,200],range=[lonlim,latlim])\n",
    "\n",
    "\n",
    "\n",
    "\n",
    "Jedges,Iedges=np.meshgrid(jedges,iedges)\n",
    "\n",
    "\n",
    "\n",
    "\n",
    "Jedges.shape\n",
    "\n",
    "\n",
    "\n",
    "\n",
    "griddata.shape\n",
    "\n",
    "\n",
    "\n",
    "\n",
    "xl=(-125,-122.4)\n",
    "yl=(48,50)\n",
    "fig, axs = plt.subplots(1,1,figsize=(9,8))\n",
    "\n",
    "\n",
    "\n",
    "mesh0 = axs.pcolormesh(Iedges,Jedges,griddata,cmap=cmap)\n",
    "\n",
    "#-----------\n",
    "\n",
    "\n",
    "# Make plot with vertical (default) colorbar\n",
    "\n",
    "\n",
    "data = griddata\n",
    "\n",
    "cax = axs.imshow(data, interpolation='nearest')\n",
    "axs.set_title(\"Density plot for final positions after {} days\\n\".format(nday) +\n",
    "          \"26280 particles. 3 per hour in 2016. Initial depths(m): \")\n",
    "\n",
    "# Add colorbar, make sure to specify tick locations to match desired ticklabels\n",
    "cbar = fig.colorbar(cax)\n",
    "  # vertically oriented colorbar\n",
    "    \n",
    "cbar.set_label (\"Counts\")\n",
    "\n",
    "#------------\n",
    "\n",
    "axs.set_xlim(xl)\n",
    "axs.set_ylim(yl)\n",
    "#axs.plot(-124.0,49.5,'r*')\n",
    "viz_tools.set_aspect(axs,coords='map')\n",
    "\n",
    "pos=axs.get_position()\n",
    "axs2 = plt.axes(pos)\n",
    "mesh1=axs2.pcolormesh(nav_lon,nav_lat,np.ma.masked_where(tmask[0,0,:,:]==1,tmask[0,0,:,:]),cmap='YlOrRd')\n",
    "\n",
    "\n",
    "\n",
    "axs2.set_xlim(xl)\n",
    "axs2.set_ylim(yl)\n",
    "axs2.patch.set_alpha(0)\n",
    "\n",
    "\n",
    "el = Ellipse((2, -1), 0.5, 0.5)\n",
    "\n",
    "axs2.annotate(\n",
    "        \"IONA\",\n",
    "        xy=(Iona[0], Iona[1]), xytext=(50, 10),\n",
    "        textcoords='offset points', ha='left', va='bottom', color = (0.937, 0.439, 0.043),\n",
    "        arrowprops=dict(arrowstyle=\"wedge,tail_width=1.\",\n",
    "                                  fc=(1,1,1), ec=(1., .5, .5),\n",
    "                                  patchA=None,\n",
    "                                  patchB=el,\n",
    "                                  relpos=(0.2, 0.8),\n",
    "                                  connectionstyle=\"arc3,rad=-0.1\"))\n",
    "\n",
    "\n",
    "axs2.annotate(\n",
    "        \"STATION 15\",\n",
    "        xy=(S15[0],S15[1]), xytext=(50, 10),\n",
    "            textcoords='offset points', ha='left', va='bottom', color = \"blue\",\n",
    "        #bbox=dict(boxstyle='round,pad=0.5', fc='yellow', alpha=0.5),\n",
    "        arrowprops=dict(arrowstyle=\"wedge,tail_width=1.\",\n",
    "                                  fc=(1,1,1), ec=(1., .5, .5),\n",
    "                                  patchA=None,\n",
    "                                  patchB=el,\n",
    "                                  relpos=(0.2, 0.8),\n",
    "                                  connectionstyle=\"arc3,rad=-0.1\"))\n",
    "\n",
    "axs2.annotate(\n",
    "        \"STATION 16\",\n",
    "        xy=(S16[0],S16[1]), xytext=(50, 10),\n",
    "        textcoords='offset points', ha='left', va='top', color = 'blue',\n",
    "        #bbox=dict(boxstyle='round,pad=0.5', fc='yellow', alpha=0.5),\n",
    "                          arrowprops=dict(arrowstyle=\"wedge,tail_width=1.\",\n",
    "                                  fc=(1,1,1), ec=(1., .5, .5),\n",
    "                                  patchA=None,\n",
    "                                  patchB=el,\n",
    "                                  relpos=(0.2, 0.8),\n",
    "                                  connectionstyle=\"arc3,rad=-0.1\"))\n",
    "\n",
    "\n",
    "\n",
    "axs2.annotate(\n",
    "        \"JUAN DE FUCA\",\n",
    "        xy=(-124,48.21), xytext=(50, 10),\n",
    "        textcoords='offset points', ha='left', va='top', color = 'white')\n",
    "\n",
    "viz_tools.set_aspect(axs2,coords='map')"
   ]
  },
  {
   "cell_type": "code",
   "execution_count": null,
   "metadata": {
    "collapsed": true
   },
   "outputs": [],
   "source": []
  },
  {
   "cell_type": "code",
   "execution_count": 10,
   "metadata": {
    "collapsed": true
   },
   "outputs": [],
   "source": [
    "#save plots (50 or 100 for now)\n",
    "\n",
    "fig.savefig(plotsdir + \"/plot{}d_depth_all\".format(nday, depth))"
   ]
  },
  {
   "cell_type": "code",
   "execution_count": null,
   "metadata": {
    "collapsed": true
   },
   "outputs": [],
   "source": []
  }
 ],
 "metadata": {
  "kernelspec": {
   "display_name": "Python 3",
   "language": "python",
   "name": "python3"
  },
  "language_info": {
   "codemirror_mode": {
    "name": "ipython",
    "version": 3
   },
   "file_extension": ".py",
   "mimetype": "text/x-python",
   "name": "python",
   "nbconvert_exporter": "python",
   "pygments_lexer": "ipython3",
   "version": "3.6.0"
  }
 },
 "nbformat": 4,
 "nbformat_minor": 2
}
