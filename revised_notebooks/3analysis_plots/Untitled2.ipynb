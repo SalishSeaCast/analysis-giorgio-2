{
 "cells": [
  {
   "cell_type": "code",
   "execution_count": 1,
   "metadata": {
    "collapsed": true
   },
   "outputs": [],
   "source": [
    "import netCDF4 as nc"
   ]
  },
  {
   "cell_type": "code",
   "execution_count": 2,
   "metadata": {
    "collapsed": true
   },
   "outputs": [],
   "source": [
    "dir1 = \"/ocean/gsgarbi/arianefiles/20160601_20160630_100d/ariane_trajectories_qualitative.nc\""
   ]
  },
  {
   "cell_type": "code",
   "execution_count": 3,
   "metadata": {
    "collapsed": true
   },
   "outputs": [],
   "source": [
    "g = nc.Dataset(dir1)"
   ]
  },
  {
   "cell_type": "code",
   "execution_count": 5,
   "metadata": {
    "collapsed": false
   },
   "outputs": [
    {
     "data": {
      "text/plain": [
       "OrderedDict([('init_x', <class 'netCDF4._netCDF4.Variable'>\n",
       "              float64 init_x(ntraj)\n",
       "                  title: What is init_x ?\n",
       "                  longname: Initial position in i\n",
       "                  units: No dimension\n",
       "                  missing_value: 1e+20\n",
       "              unlimited dimensions: \n",
       "              current shape = (2157,)\n",
       "              filling off), ('init_y', <class 'netCDF4._netCDF4.Variable'>\n",
       "              float64 init_y(ntraj)\n",
       "                  title: What is init_y ?\n",
       "                  longname: Initial position in j\n",
       "                  units: No dimension\n",
       "                  missing_value: 1e+20\n",
       "              unlimited dimensions: \n",
       "              current shape = (2157,)\n",
       "              filling off), ('init_z', <class 'netCDF4._netCDF4.Variable'>\n",
       "              float64 init_z(ntraj)\n",
       "                  title: What is init_z ?\n",
       "                  longname: Initial position in k\n",
       "                  units: No dimension\n",
       "                  missing_value: 1e+20\n",
       "              unlimited dimensions: \n",
       "              current shape = (2157,)\n",
       "              filling off), ('init_t', <class 'netCDF4._netCDF4.Variable'>\n",
       "              float64 init_t(ntraj)\n",
       "                  title: What is init_t ?\n",
       "                  longname: Initial position in l (time)\n",
       "                  units: See global attributes...\n",
       "                  missing_value: 1e+20\n",
       "              unlimited dimensions: \n",
       "              current shape = (2157,)\n",
       "              filling off), ('init_age', <class 'netCDF4._netCDF4.Variable'>\n",
       "              float64 init_age(ntraj)\n",
       "                  title: What is init_age ?\n",
       "                  longname: Initial age (time)\n",
       "                  units: seconds\n",
       "                  missing_value: 1e+20\n",
       "              unlimited dimensions: \n",
       "              current shape = (2157,)\n",
       "              filling off), ('init_transp', <class 'netCDF4._netCDF4.Variable'>\n",
       "              float64 init_transp(ntraj)\n",
       "                  title: What is init_transp ?\n",
       "                  longname: Initial transport\n",
       "                  units: m3/s\n",
       "                  missing_value: 1e+20\n",
       "              unlimited dimensions: \n",
       "              current shape = (2157,)\n",
       "              filling off), ('final_x', <class 'netCDF4._netCDF4.Variable'>\n",
       "              float64 final_x(ntraj)\n",
       "                  title: What is final_x ?\n",
       "                  longname: Final position in x (or i)\n",
       "                  units: No dimension\n",
       "                  missing_value: 1e+20\n",
       "              unlimited dimensions: \n",
       "              current shape = (2157,)\n",
       "              filling off), ('final_y', <class 'netCDF4._netCDF4.Variable'>\n",
       "              float64 final_y(ntraj)\n",
       "                  title: What is final_y ?\n",
       "                  longname: Final position in y (or j)\n",
       "                  units: No dimension\n",
       "                  missing_value: 1e+20\n",
       "              unlimited dimensions: \n",
       "              current shape = (2157,)\n",
       "              filling off), ('final_z', <class 'netCDF4._netCDF4.Variable'>\n",
       "              float64 final_z(ntraj)\n",
       "                  title: What is final_z ?\n",
       "                  longname: Final position in z (or k)\n",
       "                  units: No dimension\n",
       "                  missing_value: 1e+20\n",
       "              unlimited dimensions: \n",
       "              current shape = (2157,)\n",
       "              filling off), ('final_t', <class 'netCDF4._netCDF4.Variable'>\n",
       "              float64 final_t(ntraj)\n",
       "                  title: What is final_t ?\n",
       "                  longname: Final position in t (time)\n",
       "                  units: See global attributes...\n",
       "                  missing_value: 1e+20\n",
       "              unlimited dimensions: \n",
       "              current shape = (2157,)\n",
       "              filling off), ('final_age', <class 'netCDF4._netCDF4.Variable'>\n",
       "              float64 final_age(ntraj)\n",
       "                  title: What is fial_age ?\n",
       "                  longname: Final Age.\n",
       "                  units: seconds\n",
       "                  missing_value: 1e+20\n",
       "              unlimited dimensions: \n",
       "              current shape = (2157,)\n",
       "              filling off), ('final_transp',\n",
       "              <class 'netCDF4._netCDF4.Variable'>\n",
       "              float64 final_transp(ntraj)\n",
       "                  title: What is final_transp ?\n",
       "                  longname: Final transport\n",
       "                  units: m3/s\n",
       "                  missing_value: 1e+20\n",
       "              unlimited dimensions: \n",
       "              current shape = (2157,)\n",
       "              filling off), ('traj_lon', <class 'netCDF4._netCDF4.Variable'>\n",
       "              float64 traj_lon(nb_output, ntraj)\n",
       "                  title: What is traj_lon ?\n",
       "                  longname: Trajectory: x positions\n",
       "                  units: No dimension\n",
       "                  missing_value: 1e+20\n",
       "              unlimited dimensions: \n",
       "              current shape = (7200, 2157)\n",
       "              filling off), ('traj_lat', <class 'netCDF4._netCDF4.Variable'>\n",
       "              float64 traj_lat(nb_output, ntraj)\n",
       "                  title: What is traj_lat ?\n",
       "                  longname: Trajectory: y positions\n",
       "                  units: No dimension\n",
       "                  missing_value: 1e+20\n",
       "              unlimited dimensions: \n",
       "              current shape = (7200, 2157)\n",
       "              filling off), ('traj_depth', <class 'netCDF4._netCDF4.Variable'>\n",
       "              float64 traj_depth(nb_output, ntraj)\n",
       "                  title: What is traj_depth ?\n",
       "                  longname: Trajectory: z positions\n",
       "                  units: No dimension\n",
       "                  missing_value: 1e+20\n",
       "              unlimited dimensions: \n",
       "              current shape = (7200, 2157)\n",
       "              filling off), ('traj_time', <class 'netCDF4._netCDF4.Variable'>\n",
       "              float64 traj_time(nb_output, ntraj)\n",
       "                  title: What is traj_time ?\n",
       "                  longname: Trajectory: time positions\n",
       "                  units: See global attributes\n",
       "                  missing_value: 1e+20\n",
       "              unlimited dimensions: \n",
       "              current shape = (7200, 2157)\n",
       "              filling off)])"
      ]
     },
     "execution_count": 5,
     "metadata": {},
     "output_type": "execute_result"
    }
   ],
   "source": [
    "g.variables"
   ]
  },
  {
   "cell_type": "code",
   "execution_count": 27,
   "metadata": {
    "collapsed": false
   },
   "outputs": [],
   "source": [
    "traj_time = g.variables['final_age'][0]/60/60/24/30"
   ]
  },
  {
   "cell_type": "code",
   "execution_count": 28,
   "metadata": {
    "collapsed": false
   },
   "outputs": [
    {
     "data": {
      "text/plain": [
       "3.8461458211369097e+30"
      ]
     },
     "execution_count": 28,
     "metadata": {},
     "output_type": "execute_result"
    }
   ],
   "source": [
    "traj_time"
   ]
  },
  {
   "cell_type": "code",
   "execution_count": null,
   "metadata": {
    "collapsed": true
   },
   "outputs": [],
   "source": []
  },
  {
   "cell_type": "code",
   "execution_count": null,
   "metadata": {
    "collapsed": true
   },
   "outputs": [],
   "source": []
  }
 ],
 "metadata": {
  "kernelspec": {
   "display_name": "Python 3",
   "language": "python",
   "name": "python3"
  },
  "language_info": {
   "codemirror_mode": {
    "name": "ipython",
    "version": 3
   },
   "file_extension": ".py",
   "mimetype": "text/x-python",
   "name": "python",
   "nbconvert_exporter": "python",
   "pygments_lexer": "ipython3",
   "version": "3.6.0"
  }
 },
 "nbformat": 4,
 "nbformat_minor": 2
}
