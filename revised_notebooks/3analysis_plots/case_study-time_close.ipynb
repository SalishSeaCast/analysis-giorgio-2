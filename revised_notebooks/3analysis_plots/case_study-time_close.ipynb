{
 "cells": [
  {
   "cell_type": "code",
   "execution_count": 1,
   "metadata": {
    "collapsed": false
   },
   "outputs": [],
   "source": [
    "import datetime as dt\n",
    "import os, sys\n",
    "import netCDF4 as nc\n",
    "import matplotlib as mpl\n",
    "import numpy as np\n",
    "import numpy.ma as ma\n",
    "from scipy.spatial import distance\n",
    "import matplotlib\n",
    "from matplotlib import pyplot as plt\n",
    "from matplotlib.patches import Ellipse\n",
    "from matplotlib import cm\n",
    "import matplotlib.colors as mpl_colors\n",
    "from matplotlib import rc\n",
    "from mpl_toolkits.axes_grid1 import make_axes_locatable\n",
    "from dateutil.relativedelta import relativedelta\n",
    "from matplotlib import rcParams\n",
    "\n",
    "\n",
    "\n",
    "import numpy as np\n",
    "import datetime as dtm\n",
    "import dateutil.parser as dparser\n",
    "import matplotlib.pyplot as plt\n",
    "import matplotlib.animation as animation\n",
    "import cmocean\n",
    "\n",
    "# from mpl_toolkits.basemap import Basemap (rotate, ben's suggestion)\n",
    "\n",
    "\n",
    "\n",
    "from salishsea_tools import geo_tools, viz_tools\n",
    "\n",
    "get_ipython().magic('matplotlib inline')\n",
    "rcParams.update({'figure.autolayout': True})"
   ]
  },
  {
   "cell_type": "code",
   "execution_count": 2,
   "metadata": {
    "collapsed": false
   },
   "outputs": [],
   "source": [
    "test = True\n",
    "\n",
    "filesdir = \"/ocean/gsgarbi/selected_days/\"\n",
    "\n",
    "dirs = os.listdir(filesdir)\n",
    "\n",
    "\n",
    "\n",
    "#Iona = (-123.30898284912109, 49.187351226806641)\n",
    "Iona = (-123.30807, 49.19026) #value from first point in traj.txt (Ariane output)\n",
    "\n",
    "S15 = (-123.3114, 49.130412)\n",
    "S16 = (-123.317415, 49.1214)\n",
    "xl=(-126.2,-122.2)\n",
    "yl=(47.1,51)\n",
    "\n",
    "cmap_p = mpl.cm.get_cmap('Oranges')\n",
    "cmap_w = cmocean.cm.dense_r"
   ]
  },
  {
   "cell_type": "code",
   "execution_count": null,
   "metadata": {
    "collapsed": true
   },
   "outputs": [],
   "source": []
  },
  {
   "cell_type": "code",
   "execution_count": 3,
   "metadata": {
    "collapsed": false
   },
   "outputs": [],
   "source": [
    "def param(timef): #background\n",
    "    \n",
    "    size = 5\n",
    "    ms = 5/2\n",
    "    S15 = (-123.3114, 49.130412)\n",
    "    S16 = (-123.317415, 49.1214) \n",
    "    bathy = nc.Dataset(\"/ocean/gsgarbi/bathy_meter_SalishSea2.nc\")\n",
    "    model_lats = bathy.variables['nav_lat'][:]\n",
    "    model_lons = bathy.variables['nav_lon'][:]\n",
    "    depth = bathy.variables['Bathymetry'][:]        \n",
    "    #End of spit\n",
    "    late = 49.205\n",
    "    lone = -123.26\n",
    "    #Further up spit\n",
    "    lats = 49.214\n",
    "    lons = -123.22\n",
    "        \n",
    "    dx = 1.2\n",
    "    lat = late + dx * (late - lats)\n",
    "    lon = lone + dx * (lone - lons)\n",
    "    y, x = geo_tools.find_closest_model_point(lon, lat, model_lons, model_lats)\n",
    "\n",
    "    outy = y - 1\n",
    "    outx = x - 1\n",
    "    \n",
    "    deep = 110\n",
    "    shallow = 35\n",
    "    \n",
    "    time_0 = 0\n",
    "    \n",
    "    time_f = 2\n",
    "    \n",
    "    new_limx = (-124.5,-122.5)\n",
    "    \n",
    "    new_limy = (48.7,49.5)\n",
    "\n",
    "    \n",
    "    new_ticksx = (new_limx[0], float(sum(new_limx))/2, new_limx[1])\n",
    "    \n",
    "    new_ticksy = (new_limy[0], float(sum(new_limy))/2, new_limy[1])\n",
    "                       \n",
    "    \n",
    "    Iona =(model_lons[outy, outx], model_lats[outy, outx])\n",
    "    \n",
    "        \n",
    "    global fig, axs\n",
    "    \n",
    "    fig, axs = plt.subplots(LIN,COL, figsize = (6,3.2))\n",
    "\n",
    "    \n",
    "    if LIN == 1 or COL == 1:\n",
    "        \n",
    "        axs=np.reshape(axs,(1,1))\n",
    "    \n",
    "    \n",
    "    \n",
    "    for j in range(LIN):\n",
    "        for k in range (COL):\n",
    "            \n",
    "            divider = make_axes_locatable(axs[j,k])\n",
    "            \n",
    "\n",
    "            \n",
    "            cax_w = divider.append_axes(\"right\", size=\"5%\", pad=0.05)\n",
    "            \n",
    "\n",
    "            cb_w = mpl.colorbar.ColorbarBase(cax_w, \n",
    "                                             cmap = mpl.cm.get_cmap(cmap_w),\n",
    "                                             norm = mpl.colors.Normalize(vmin=shallow, \n",
    "                                                                         vmax=deep),\n",
    "                                             orientation='vertical')\n",
    "\n",
    "\n",
    "            cb_w.set_label(\"Water depth (m)\")\n",
    "            \n",
    "\n",
    "            mesh_w = axs[j,k].pcolormesh(\n",
    "                                          model_lons, \n",
    "                                          model_lats, \n",
    "                                          depth, \n",
    "                                          cmap = cmap_w\n",
    "                                        )\n",
    "\n",
    "            axs[j,k].set_xlim(new_limx)\n",
    "            axs[j,k].set_xticks(new_ticksx)\n",
    "            axs[j,k].set_xticklabels(('%s W' %-new_limx[0], \n",
    "                                      '%s W' %-round(float(sum(new_limx))/2,2), \n",
    "                                      '%s W' %-new_limx[1]))\n",
    "            axs[j,k].set_xlabel('Longitude')\n",
    "            \n",
    "            axs[j,k].set_ylim(new_limy)\n",
    "            axs[j,k].set_yticks(new_ticksy)\n",
    "            axs[j,k].set_yticklabels(('%s N' %new_limy[0], \n",
    "                                      '%s N' %round(float(sum(new_limy))/2,1), \n",
    "                                      '%s N' %new_limy[1]))\n",
    "            axs[j,k].set_ylabel('Latitude')\n",
    "            \n",
    "            \n",
    "            #Iona\n",
    "            axs[j,k].plot(Iona[0], Iona[1], 'wo', ms = ms)\n",
    "            #New Stations\n",
    "    \n",
    "            axs[j,k].plot(S15[0],S15[1], 'wo', ms = ms)\n",
    "            \n",
    "            axs[j,k].plot(S16[0],S16[1], 'wo', ms = ms)\n",
    "            \n",
    "            axs[j,k].annotate(\n",
    "            \"Iona outfall\",\n",
    "            xy=(model_lons[outy, outx], model_lats[outy, outx]), xytext=(50, 10),\n",
    "            textcoords='offset points', ha='left', va='bottom',\n",
    "            #bbox=dict(boxstyle='round,pad=0.5', fc='yellow', alpha=0.5),\n",
    "            arrowprops=dict(arrowstyle = '->', connectionstyle='arc3,rad=0'))\n",
    "            \n",
    "            axs[j,k].annotate(\n",
    "            \"Station 15\",\n",
    "            xy=(S15[0],S15[1]), xytext=(50, 10),\n",
    "            textcoords='offset points', ha='left', va='bottom',\n",
    "            #bbox=dict(boxstyle='round,pad=0.5', fc='yellow', alpha=0.5),\n",
    "            arrowprops=dict(arrowstyle = '->', connectionstyle='arc3,rad=0'))\n",
    "    \n",
    "            axs[j,k].annotate(\n",
    "            \"Station 16\",\n",
    "            xy=(S16[0],S16[1]), xytext=(50, 10),\n",
    "            textcoords='offset points', ha='left', va='top',\n",
    "            #bbox=dict(boxstyle='round,pad=0.5', fc='yellow', alpha=0.5),\n",
    "            arrowprops=dict(arrowstyle = '->', connectionstyle='arc3,rad=0'))\n",
    "        \n",
    "    plt.tight_layout()\n",
    "\n",
    "    return axs\n",
    "\n",
    "# In[31]:|\n",
    "\n",
    "    \n"
   ]
  },
  {
   "cell_type": "code",
   "execution_count": 4,
   "metadata": {
    "collapsed": true
   },
   "outputs": [],
   "source": [
    "# #72 particulas por dia e 72 pontos por dia por trajetoria\n",
    "\n",
    "RAWDIR = \"/ocean/gsgarbi/ariane_raw/2016+jan2017/\"\n",
    "    \n",
    "OUTPUTDIR = \"/ocean/gsgarbi/selected_days/\"\n",
    "\n",
    "H = 24\n",
    "\n",
    "pph = 3\n",
    "\n",
    "ppd = H * pph #(also number of outputs per trajectory per day since we have 3 outputs per hour)\n"
   ]
  },
  {
   "cell_type": "code",
   "execution_count": 5,
   "metadata": {
    "collapsed": false
   },
   "outputs": [],
   "source": [
    "def find_direct (RAWDIR, date, traj_len):\n",
    "    init_date = date - dt.timedelta(days = traj_len)\n",
    "    y = str(init_date.year)\n",
    "    m = str(init_date.month)\n",
    "    n = str(date.month)\n",
    "    w = str(date.year)\n",
    "    \n",
    "\n",
    "\n",
    "    if len (m) == 1:\n",
    "        m = \"0\"+str(m)\n",
    "        \n",
    "    if len (n) == 1:\n",
    "        n = \"0\"+str(n)\n",
    "    \n",
    "    direct = [i for i in os.listdir(RAWDIR) if y+m == i[:6] or w+n == i[:6] ]\n",
    "    \n",
    "    print (\"got directory\")\n",
    "    \n",
    "    return direct\n",
    "    \n"
   ]
  },
  {
   "cell_type": "code",
   "execution_count": 6,
   "metadata": {
    "collapsed": false
   },
   "outputs": [],
   "source": [
    "def get_points(direct, date, traj_len, phase = 0):\n",
    "    '''\n",
    "    get 72 trajs (3 per hour) starting on date.day with fixed traj len\n",
    "    '''\n",
    "    init_date = date\n",
    "    \n",
    "    phase = phase * 3\n",
    "    pts = []\n",
    "\n",
    "    d = init_date.day\n",
    "    #select the particles\n",
    "    parts = range (1 + ppd*(d - 1) + phase, 1 + ppd*(d - 1) + phase + 72)\n",
    "    part = parts[0]\n",
    "\n",
    "    \n",
    "    for directory in direct:\n",
    "\n",
    "\n",
    "        with open(RAWDIR + directory + \"/traj.txt\") as file:\n",
    "\n",
    "\n",
    "\n",
    "            count = 0\n",
    "            traj = []\n",
    "\n",
    "\n",
    "            for i, line in enumerate(file):  \n",
    "                line = line.strip('\\n').split()\n",
    "                line = [float(k) for k in line]\n",
    "\n",
    "\n",
    "                if line[0] == part:\n",
    "\n",
    "                    traj.append(line)\n",
    "                    count +=1\n",
    "                if count == traj_len * ppd:\n",
    "\n",
    "                    pts.append(traj)\n",
    "                    traj = [] #reset traj\n",
    "                    count = 0 #reset counter\n",
    "                    part += 1 #go to the next particle\n",
    "                    #traj_len -= int(i/3) * 3 #next length will be smaller\n",
    "                if part == parts[-1]+1:\n",
    "                    break\n",
    "            else:\n",
    "                    print (\"month transition -> open next file\")\n",
    "\n",
    "\n",
    "                    parts = range (1, parts[-1] - part)\n",
    "                    part = parts[0]\n",
    "\n",
    "                \n",
    "\n",
    "\n",
    "\n",
    "\n",
    "    return pts\n",
    "    \n",
    "   "
   ]
  },
  {
   "cell_type": "code",
   "execution_count": null,
   "metadata": {
    "collapsed": false
   },
   "outputs": [],
   "source": []
  },
  {
   "cell_type": "code",
   "execution_count": 7,
   "metadata": {
    "collapsed": false
   },
   "outputs": [],
   "source": [
    "LIN = 1\n",
    "COL = 1                                                                        \n",
    "\n",
    "                 \n",
    "\n",
    "                                                       \n"
   ]
  },
  {
   "cell_type": "code",
   "execution_count": null,
   "metadata": {
    "collapsed": true
   },
   "outputs": [],
   "source": []
  },
  {
   "cell_type": "code",
   "execution_count": 8,
   "metadata": {
    "collapsed": false,
    "scrolled": true
   },
   "outputs": [],
   "source": [
    "# test_version = True\n",
    "\n",
    "# if test_version:\n",
    "#     print (\"test\")\n",
    "\n",
    "# traj_len = 3\n",
    "# phase = 23\n",
    "\n",
    "\n",
    "# times = np.array(\n",
    "#     [\n",
    "#     dt.datetime(2016, 7, 19),\n",
    "#     dt.datetime(2016, 7, 26),\n",
    "#     dt.datetime(2016, 8, 2),\n",
    "#     dt.datetime(2016, 8, 9),\n",
    "#     dt.datetime(2016, 8, 16),\n",
    "#     dt.datetime(2016, 8, 23),\n",
    "#     ]\n",
    "#                             )\n",
    "\n",
    "# init_depths = [45,59,77]\n",
    "\n",
    "# fl = ['a','b','c']\n",
    "\n",
    "# test = times_day_before = np.array(\n",
    "#     [\n",
    "#     dt.datetime(2016, 8, 2),\n",
    "#     dt.datetime(2016, 8, 9),\n",
    "#     ]\n",
    "#                             )\n",
    "\n",
    "\n",
    "# for date in times:\n",
    "    \n",
    "#     print (date)\n",
    "\n",
    "\n",
    "\n",
    "#     direct = find_direct(RAWDIR, date, traj_len)\n",
    "#     print (\"direct: \", direct)\n",
    "\n",
    "\n",
    "\n",
    "#     pts = get_points(direct, date, traj_len, phase)\n",
    "\n",
    "\n",
    "\n",
    "\n",
    "#     init_date = date - dt.timedelta(days = traj_len)\n",
    "\n",
    "#     for i_0 in range(len(init_depths)):\n",
    "        \n",
    "\n",
    "        \n",
    "#         END = len(pts[i_0::3][0])\n",
    "        \n",
    "\n",
    "\n",
    "#         axs = param(traj_len)\n",
    "        \n",
    "#         T = 0\n",
    "        \n",
    "#         print (\"num of trajectories: \", len(pts[i_0::3]))\n",
    "\n",
    "#         for num, part in enumerate(pts[i_0::3]):\n",
    "            \n",
    "            \n",
    "\n",
    "            \n",
    "            \n",
    "# #            part = part[:-(num*3 +1)] #cut the end of traj\n",
    "\n",
    "#             end = len(part)\n",
    "            \n",
    "\n",
    "\n",
    "\n",
    "\n",
    "#             for t in range (end):\n",
    "\n",
    "                \n",
    "\n",
    "#                 scaled_t = 1-(END - (t + T) ) / END\n",
    "#                 cmap = cmap_p\n",
    "#                 color = cmap(scaled_t)\n",
    "#                 axs[0,0].scatter(part[t][1], part[t][2], \n",
    "#                                  color = color, marker='o',s=.05)\n",
    "#                 fdate1 = date.strftime('%m/%d/%Y')\n",
    "#                 fdate2 = date.strftime('%m_%d_%Y')\n",
    "                \n",
    "#                 axs[0,0].set_title(\"{}) {} - Initial depth: {} m\".format(fl[i_0],\n",
    "#                                                                      fdate1,\n",
    "                                                                   \n",
    "#                                        init_depths[i_0]),\n",
    "                                   \n",
    "#                                        fontsize = 12) \n",
    "            \n",
    "#             T += 3\n",
    "\n",
    "\n",
    "                                                        \n",
    "\n",
    "#         dirs = \"/ocean/gsgarbi/MEOPAR/private-docs/reports\" + \"/IonaProject/ionafigs/cs_{}_{}d_{}.png\".format(fdate2, \n",
    "#                                                              traj_len, \n",
    "#                                                              init_depths[i_0])\n",
    "        \n",
    "        \n",
    "        \n",
    "#         if test_version:\n",
    "            \n",
    "#             dirs = dirs [:-4] + \"_test\" + dirs [-4:]  \n",
    "\n",
    "            \n",
    "#         plt.savefig(fig.savefig(dirs, dpi = 400 ) )\n",
    "        \n",
    "#         print (\"saved in: \", dirs)\n",
    "                                                        \n",
    "#         plt.tight_layout()\n",
    "#         plt.show()\n",
    "    \n",
    "    \n",
    "\n",
    "\n",
    "# #         viz_tools.set_aspect(axs[0,0])\n",
    "    \n",
    "\n",
    "\n",
    "\n",
    "\n",
    "\n"
   ]
  },
  {
   "cell_type": "code",
   "execution_count": 9,
   "metadata": {
    "collapsed": false
   },
   "outputs": [],
   "source": [
    "# fig, axs = plt.subplots(1,1, figsize = (5,1))\n",
    "\n",
    "# # divider = make_axes_locatable(axs[1,0])\n",
    "\n",
    "\n",
    "# # cax_p = divider.append_axes(\"bottom\", size=\"5%\", pad=0.5)\n",
    "# cb_p = mpl.colorbar.ColorbarBase(axs, \n",
    "#                                 cmap = cmap_p,\n",
    "#                                 norm = mpl.colors.Normalize(vmin=0, \n",
    "#                                                             vmax=traj_len*24), \n",
    "\n",
    "#                                 orientation='horizontal')\n",
    "# cb_p.set_label(\"Time (hours)\")\n",
    "\n",
    "\n",
    "# plt.tight_layout()\n",
    "# plt.savefig(\"/ocean/gsgarbi/MEOPAR/private-docs/reports/IonaProject/ionafigs/cbar.png\",\n",
    "#            transparent = True, dpi = 400)\n",
    "\n",
    "# plt.show()"
   ]
  },
  {
   "cell_type": "code",
   "execution_count": null,
   "metadata": {
    "collapsed": false
   },
   "outputs": [],
   "source": []
  },
  {
   "cell_type": "code",
   "execution_count": 10,
   "metadata": {
    "collapsed": false
   },
   "outputs": [],
   "source": [
    "def close(p, q = S15, distance = 0.5):\n",
    "    d = geo_tools.haversine (p[0],p[1], q[0], q[1])\n",
    " #   print (\"The distance is {}\".format(d))\n",
    "    if d.all() < distance:\n",
    "\n",
    "        return True\n",
    "    else:\n",
    "\n",
    "        return False\n",
    "    \n",
    "def dist(p, q = S15):\n",
    "    d = geo_tools.haversine (p[1],p[2], q[0], q[1])\n",
    "    return d\n",
    "\n",
    "def min_dist_traj(traj, q = S15):\n",
    "    ds = [geo_tools.haversine (p[1],p[2], q[0], q[1]) for p in traj]\n",
    "    return min (ds)"
   ]
  },
  {
   "cell_type": "code",
   "execution_count": 11,
   "metadata": {
    "collapsed": false
   },
   "outputs": [
    {
     "name": "stdout",
     "output_type": "stream",
     "text": [
      "got directory\n",
      "got directory\n",
      "got directory\n",
      "got directory\n",
      "got directory\n",
      "got directory\n"
     ]
    }
   ],
   "source": [
    "pts = []\n",
    "\n",
    "traj_len = 7\n",
    "\n",
    "times = np.array(\n",
    "    [\n",
    "    dt.datetime(2016, 7, 19),\n",
    "    dt.datetime(2016, 7, 26),\n",
    "    dt.datetime(2016, 8, 2),\n",
    "    dt.datetime(2016, 8, 9),\n",
    "    dt.datetime(2016, 8, 16),\n",
    "    dt.datetime(2016, 8, 23),\n",
    "    ]\n",
    "                            )\n",
    "north = [dt.datetime(2016, 7, 26), dt.datetime(2016, 8, 23)]\n",
    "\n",
    "\n",
    "test = np.array(\n",
    "    [\n",
    "    dt.datetime(2016, 7, 19),\n",
    "    dt.datetime(2016, 7, 26)\n",
    "    ]\n",
    ")\n",
    "\n",
    "\n",
    "\n",
    "for date in times:\n",
    "    \n",
    "    direct = find_direct(RAWDIR, date, traj_len)\n",
    "    \n",
    "    pts.append(get_points(direct, date, traj_len, phase = 0))"
   ]
  },
  {
   "cell_type": "code",
   "execution_count": 12,
   "metadata": {
    "collapsed": false
   },
   "outputs": [],
   "source": [
    "full_period = [k for sublist in pts for k in sublist]"
   ]
  },
  {
   "cell_type": "code",
   "execution_count": 13,
   "metadata": {
    "collapsed": false
   },
   "outputs": [
    {
     "name": "stdout",
     "output_type": "stream",
     "text": [
      "particle 1301.0 close to S15\n",
      "particle 1302.0 close to S15\n",
      "particle 73.0 close to S15\n",
      "particle 76.0 close to S15\n",
      "particle 77.0 close to S15\n",
      "particle 80.0 close to S15\n",
      "particle 82.0 close to S15\n",
      "particle 83.0 close to S15\n",
      "particle 86.0 close to S15\n",
      "particle 89.0 close to S15\n",
      "particle 92.0 close to S15\n",
      "particle 95.0 close to S15\n",
      "particle 98.0 close to S15\n",
      "particle 124.0 close to S15\n",
      "particle 582.0 close to S15\n",
      "particle 587.0 close to S15\n",
      "particle 588.0 close to S15\n",
      "particle 593.0 close to S15\n",
      "particle 600.0 close to S15\n",
      "particle 621.0 close to S15\n",
      "particle 627.0 close to S15\n",
      "particle 636.0 close to S15\n",
      "particle 641.0 close to S15\n",
      "particle 644.0 close to S15\n"
     ]
    }
   ],
   "source": [
    "close_parts = []\n",
    "c_p_w_dist = []\n",
    "\n",
    "D = 1.2\n",
    "\n",
    "for traj in full_period:\n",
    "    for pt in traj:\n",
    "\n",
    "        if (dist(pt, S15) < D or dist(pt, S16) < D) and not (pt[0] in close_parts):\n",
    "            close_parts.append(pt[0])\n",
    "            c_p_w_dist.append([pt, traj.index(pt)/3])\n",
    "            print (\"particle {} close to S15\".format(pt[0]))"
   ]
  },
  {
   "cell_type": "code",
   "execution_count": 14,
   "metadata": {
    "collapsed": false
   },
   "outputs": [
    {
     "name": "stdout",
     "output_type": "stream",
     "text": [
      "43.666666666666664\n",
      "17.333333333333332\n",
      "18.0\n",
      "90.66666666666667\n",
      "18.666666666666668\n",
      "14.666666666666666\n",
      "15.666666666666666\n",
      "14.666666666666666\n",
      "13.333333333333334\n",
      "15.666666666666666\n",
      "16.333333333333332\n",
      "32.666666666666664\n",
      "33.333333333333336\n",
      "27.0\n",
      "60.333333333333336\n",
      "41.333333333333336\n",
      "108.33333333333333\n",
      "31.0\n",
      "53.0\n",
      "95.33333333333333\n",
      "120.33333333333333\n",
      "90.0\n",
      "42.666666666666664\n",
      "76.33333333333333\n"
     ]
    }
   ],
   "source": [
    "for i in c_p_w_dist:\n",
    "    print (i[1])"
   ]
  },
  {
   "cell_type": "markdown",
   "metadata": {
    "collapsed": true
   },
   "source": [
    "<b> 72 particles released on each of the following days:     [\n",
    "    dt.datetime(2016, 7, 19),\n",
    "    dt.datetime(2016, 7, 26),\n",
    "    dt.datetime(2016, 8, 2),\n",
    "    dt.datetime(2016, 8, 9),\n",
    "    dt.datetime(2016, 8, 16),\n",
    "    dt.datetime(2016, 8, 23),\n",
    "    ]</b>"
   ]
  },
  {
   "cell_type": "code",
   "execution_count": 15,
   "metadata": {
    "collapsed": false
   },
   "outputs": [
    {
     "data": {
      "text/plain": [
       "<matplotlib.text.Text at 0x7f9e468beb70>"
      ]
     },
     "execution_count": 15,
     "metadata": {},
     "output_type": "execute_result"
    },
    {
     "name": "stderr",
     "output_type": "stream",
     "text": [
      "/ocean/gsgarbi/anaconda3/lib/python3.6/site-packages/matplotlib/figure.py:1742: UserWarning: This figure includes Axes that are not compatible with tight_layout, so its results might be incorrect.\n",
      "  warnings.warn(\"This figure includes Axes that are not \"\n"
     ]
    },
    {
     "data": {
      "image/png": "[encoded data removed]",
      "text/plain": [
       "<matplotlib.figure.Figure at 0x7f9e4d5d3ac8>"
      ]
     },
     "metadata": {},
     "output_type": "display_data"
    }
   ],
   "source": [
    "min_ds = []\n",
    "for traj in full_period:\n",
    "    min_ds.append(min_dist_traj(traj))\n",
    "\n",
    "fig,ax=plt.subplots(1,1,figsize=(4,6))\n",
    "bin_num = 20\n",
    "\n",
    "ax.hist(min_ds, bin_num, alpha=0.5)\n",
    "ax.set_xlabel(\"Distance from S15\")\n",
    "ax.set_ylabel(\"Number of trajectories\")"
   ]
  },
  {
   "cell_type": "markdown",
   "metadata": {},
   "source": [
    "<b> For particles that move north from the start of their trajectories, their min distance from S15 and S16 will be respectively in km: <b>"
   ]
  },
  {
   "cell_type": "code",
   "execution_count": 16,
   "metadata": {
    "collapsed": false
   },
   "outputs": [
    {
     "data": {
      "text/plain": [
       "6.6550168679961761"
      ]
     },
     "execution_count": 16,
     "metadata": {},
     "output_type": "execute_result"
    }
   ],
   "source": [
    "geo_tools.haversine(Iona[0], Iona[1], S15[0], S15[1])"
   ]
  },
  {
   "cell_type": "code",
   "execution_count": 17,
   "metadata": {
    "collapsed": false
   },
   "outputs": [
    {
     "data": {
      "text/plain": [
       "7.6821555732069138"
      ]
     },
     "execution_count": 17,
     "metadata": {},
     "output_type": "execute_result"
    }
   ],
   "source": [
    "geo_tools.haversine(Iona[0], Iona[1], S16[0], S16[1])"
   ]
  },
  {
   "cell_type": "markdown",
   "metadata": {},
   "source": [
    "<b>This allows us to limit the hostogram range to (0,6)"
   ]
  },
  {
   "cell_type": "code",
   "execution_count": 18,
   "metadata": {
    "collapsed": false
   },
   "outputs": [
    {
     "name": "stdout",
     "output_type": "stream",
     "text": [
      "6.655016868\n"
     ]
    },
    {
     "name": "stderr",
     "output_type": "stream",
     "text": [
      "/ocean/gsgarbi/anaconda3/lib/python3.6/site-packages/matplotlib/figure.py:1742: UserWarning: This figure includes Axes that are not compatible with tight_layout, so its results might be incorrect.\n",
      "  warnings.warn(\"This figure includes Axes that are not \"\n"
     ]
    },
    {
     "data": {
      "image/png": "[encoded data removed]",
      "text/plain": [
       "<matplotlib.figure.Figure at 0x7f9e4683d320>"
      ]
     },
     "metadata": {},
     "output_type": "display_data"
    }
   ],
   "source": [
    "min_ds = []\n",
    "for traj in full_period:\n",
    "    min_ds.append(min_dist_traj(traj))\n",
    "\n",
    "fig,ax=plt.subplots(1,1,figsize=(4,6))\n",
    "bin_num = 24\n",
    "\n",
    "ax.hist(min_ds, bin_num, alpha=0.5, range = (0,6))\n",
    "ax.set_xlabel(\"Minimum distance from S15 (km)\")\n",
    "ax.set_ylabel(\"Number of trajectories\")\n",
    "\n",
    "\n",
    "\n",
    "ax.set_ylim(0, 26)\n",
    "\n",
    "ax.set_yticks([k for k in range(2,28, 4)])\n",
    "ax.set_xticks([k for k in range(0, 7)])\n",
    "\n",
    "ax.plot([0.5, 0.5], [0,28], 'y--')\n",
    "\n",
    "print (max(min_ds))"
   ]
  },
  {
   "cell_type": "code",
   "execution_count": 19,
   "metadata": {
    "collapsed": false
   },
   "outputs": [
    {
     "data": {
      "text/plain": [
       "[<matplotlib.lines.Line2D at 0x7f9e464f3fd0>]"
      ]
     },
     "execution_count": 19,
     "metadata": {},
     "output_type": "execute_result"
    },
    {
     "name": "stderr",
     "output_type": "stream",
     "text": [
      "/ocean/gsgarbi/anaconda3/lib/python3.6/site-packages/matplotlib/figure.py:1742: UserWarning: This figure includes Axes that are not compatible with tight_layout, so its results might be incorrect.\n",
      "  warnings.warn(\"This figure includes Axes that are not \"\n"
     ]
    },
    {
     "data": {
      "image/png": "[encoded data removed]",
      "text/plain": [
       "<matplotlib.figure.Figure at 0x7f9e4682ef60>"
      ]
     },
     "metadata": {},
     "output_type": "display_data"
    }
   ],
   "source": [
    "min_ds = []\n",
    "for traj in full_period:\n",
    "    min_ds.append(min_dist_traj(traj, q = S16))\n",
    "\n",
    "\n",
    "fig,ax=plt.subplots(1,1,figsize=(4,6))\n",
    "bin_num = 28\n",
    "\n",
    "ax.hist(min_ds, bin_num, alpha=0.5, range = (0, 7))\n",
    "ax.set_xlabel(\"Minimum distance from S16 (km)\")\n",
    "ax.set_ylabel(\"Number of trajectories\")\n",
    "ax.set_yticks([k for k in range(2,24, 2)])\n",
    "\n",
    "ax.set_ylim(0, 18)\n",
    "\n",
    "ax.plot([0.5, 0.5], [0,24], 'y--')"
   ]
  },
  {
   "cell_type": "code",
   "execution_count": null,
   "metadata": {
    "collapsed": false
   },
   "outputs": [],
   "source": []
  },
  {
   "cell_type": "markdown",
   "metadata": {
    "collapsed": true
   },
   "source": [
    "the age at which the particles are in the (0,500) m range. first point that crosses within the radius => age"
   ]
  },
  {
   "cell_type": "code",
   "execution_count": 20,
   "metadata": {
    "collapsed": false
   },
   "outputs": [
    {
     "data": {
      "text/plain": [
       "1.0928175670067095"
      ]
     },
     "execution_count": 20,
     "metadata": {},
     "output_type": "execute_result"
    }
   ],
   "source": [
    "geo_tools.haversine(S15[0], S15[1], S16[0], S16[1])"
   ]
  },
  {
   "cell_type": "code",
   "execution_count": 21,
   "metadata": {
    "collapsed": true
   },
   "outputs": [],
   "source": [
    "df = [k [1] for k in c_p_w_dist ]"
   ]
  },
  {
   "cell_type": "code",
   "execution_count": 25,
   "metadata": {
    "collapsed": false
   },
   "outputs": [
    {
     "data": {
      "text/plain": [
       "<matplotlib.text.Text at 0x7f9e462c9a58>"
      ]
     },
     "execution_count": 25,
     "metadata": {},
     "output_type": "execute_result"
    },
    {
     "name": "stderr",
     "output_type": "stream",
     "text": [
      "/ocean/gsgarbi/anaconda3/lib/python3.6/site-packages/matplotlib/figure.py:1742: UserWarning: This figure includes Axes that are not compatible with tight_layout, so its results might be incorrect.\n",
      "  warnings.warn(\"This figure includes Axes that are not \"\n"
     ]
    },
    {
     "data": {
      "image/png": "[encoded data removed]",
      "text/plain": [
       "<matplotlib.figure.Figure at 0x7f9e4624aba8>"
      ]
     },
     "metadata": {},
     "output_type": "display_data"
    }
   ],
   "source": [
    "fig,ax=plt.subplots(1,1,figsize=(4,6))\n",
    "bin_num = 8\n",
    "\n",
    "ax.hist(df, bin_num, alpha=0.5)\n",
    "ax.set_xlabel(\"Age (h)\")\n",
    "ax.set_ylabel(\"Number of trajectories\")\n"
   ]
  },
  {
   "cell_type": "code",
   "execution_count": null,
   "metadata": {
    "collapsed": true
   },
   "outputs": [],
   "source": []
  },
  {
   "cell_type": "code",
   "execution_count": null,
   "metadata": {
    "collapsed": true
   },
   "outputs": [],
   "source": []
  }
 ],
 "metadata": {
  "kernelspec": {
   "display_name": "Python 3",
   "language": "python",
   "name": "python3"
  },
  "language_info": {
   "codemirror_mode": {
    "name": "ipython",
    "version": 3
   },
   "file_extension": ".py",
   "mimetype": "text/x-python",
   "name": "python",
   "nbconvert_exporter": "python",
   "pygments_lexer": "ipython3",
   "version": "3.6.0"
  }
 },
 "nbformat": 4,
 "nbformat_minor": 2
}
