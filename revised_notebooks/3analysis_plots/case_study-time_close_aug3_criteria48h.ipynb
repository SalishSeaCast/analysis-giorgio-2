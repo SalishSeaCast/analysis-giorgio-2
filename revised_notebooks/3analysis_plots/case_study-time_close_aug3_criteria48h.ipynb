{
 "cells": [
  {
   "cell_type": "code",
   "execution_count": 1,
   "metadata": {
    "collapsed": false
   },
   "outputs": [],
   "source": [
    "import datetime as dt\n",
    "import os, sys\n",
    "import netCDF4 as nc\n",
    "import matplotlib as mpl\n",
    "import numpy as np\n",
    "import numpy.ma as ma\n",
    "from scipy.spatial import distance\n",
    "import matplotlib\n",
    "from matplotlib import pyplot as plt\n",
    "from matplotlib.patches import Ellipse\n",
    "from matplotlib import cm\n",
    "import matplotlib.colors as mpl_colors\n",
    "from matplotlib import rc\n",
    "from mpl_toolkits.axes_grid1 import make_axes_locatable\n",
    "from dateutil.relativedelta import relativedelta\n",
    "from matplotlib import rcParams\n",
    "\n",
    "\n",
    "\n",
    "import numpy as np\n",
    "import datetime as dtm\n",
    "import dateutil.parser as dparser\n",
    "import matplotlib.pyplot as plt\n",
    "import matplotlib.animation as animation\n",
    "import cmocean\n",
    "\n",
    "# from mpl_toolkits.basemap import Basemap (rotate, ben's suggestion)\n",
    "\n",
    "\n",
    "\n",
    "from salishsea_tools import geo_tools, viz_tools\n",
    "\n",
    "get_ipython().magic('matplotlib inline')\n",
    "rcParams.update({'figure.autolayout': True})"
   ]
  },
  {
   "cell_type": "code",
   "execution_count": 2,
   "metadata": {
    "collapsed": false
   },
   "outputs": [],
   "source": [
    "test = True\n",
    "\n",
    "filesdir = \"/ocean/gsgarbi/selected_days/\"\n",
    "\n",
    "dirs = os.listdir(filesdir)\n",
    "\n",
    "\n",
    "\n",
    "#Iona = (-123.30898284912109, 49.187351226806641)\n",
    "Iona = (-123.30807, 49.19026) #value from first point in traj.txt (Ariane output)\n",
    "\n",
    "S15 = (-123.3114, 49.130412)\n",
    "S16 = (-123.317415, 49.1214)\n",
    "xl=(-126.2,-122.2)\n",
    "yl=(47.1,51)\n",
    "\n",
    "cmap_p = mpl.cm.get_cmap('Oranges')\n",
    "cmap_w = cmocean.cm.dense_r"
   ]
  },
  {
   "cell_type": "code",
   "execution_count": null,
   "metadata": {
    "collapsed": true
   },
   "outputs": [],
   "source": []
  },
  {
   "cell_type": "code",
   "execution_count": 3,
   "metadata": {
    "collapsed": true
   },
   "outputs": [],
   "source": [
    "# #72 particulas por dia e 72 pontos por dia por trajetoria\n",
    "\n",
    "RAWDIR = \"/ocean/gsgarbi/ariane_raw/2016+jan2017/\"\n",
    "    \n",
    "OUTPUTDIR = \"/ocean/gsgarbi/selected_days/\"\n",
    "\n",
    "H = 24\n",
    "\n",
    "pph = 3\n",
    "\n",
    "ppd = H * pph #(also number of outputs per trajectory per day since we have 3 outputs per hour)\n"
   ]
  },
  {
   "cell_type": "code",
   "execution_count": 4,
   "metadata": {
    "collapsed": false
   },
   "outputs": [],
   "source": [
    "def find_direct (RAWDIR, date, traj_len):\n",
    "    init_date = date - dt.timedelta(days = traj_len)\n",
    "    y = str(init_date.year)\n",
    "    m = str(init_date.month)\n",
    "    n = str(date.month)\n",
    "    w = str(date.year)\n",
    "    \n",
    "\n",
    "\n",
    "    if len (m) == 1:\n",
    "        m = \"0\"+str(m)\n",
    "        \n",
    "    if len (n) == 1:\n",
    "        n = \"0\"+str(n)\n",
    "    \n",
    "    direct = [i for i in os.listdir(RAWDIR) if y+m == i[:6] or w+n == i[:6] ]\n",
    "    \n",
    "    print (\"got directory\")\n",
    "    \n",
    "    return direct\n",
    "    \n"
   ]
  },
  {
   "cell_type": "code",
   "execution_count": 5,
   "metadata": {
    "collapsed": false
   },
   "outputs": [],
   "source": [
    "def get_points(direct, date, traj_len, phase = 0):\n",
    "    '''\n",
    "    get 72 trajs (3 per hour) starting on date.day with fixed traj len\n",
    "    '''\n",
    "    init_date = date\n",
    "    \n",
    "    phase = phase * 3\n",
    "    pts = []\n",
    "\n",
    "    d = init_date.day\n",
    "    #select the particles\n",
    "    parts = range (1 + ppd*(d - 1) + phase, 1 + ppd*(d - 1) + phase + 72)\n",
    "    part = parts[0]\n",
    "\n",
    "    \n",
    "    for directory in direct:\n",
    "\n",
    "\n",
    "        with open(RAWDIR + directory + \"/traj.txt\") as file:\n",
    "\n",
    "\n",
    "\n",
    "            count = 0\n",
    "            traj = []\n",
    "\n",
    "\n",
    "            for i, line in enumerate(file):  \n",
    "                line = line.strip('\\n').split()\n",
    "                line = [float(k) for k in line]\n",
    "\n",
    "\n",
    "                if line[0] == part:\n",
    "\n",
    "                    traj.append(line)\n",
    "                    count +=1\n",
    "                if count == traj_len * ppd:\n",
    "\n",
    "                    pts.append(traj)\n",
    "                    traj = [] #reset traj\n",
    "                    count = 0 #reset counter\n",
    "                    part += 1 #go to the next particle\n",
    "                    #traj_len -= int(i/3) * 3 #next length will be smaller\n",
    "                if part == parts[-1]+1:\n",
    "                    break\n",
    "            else:\n",
    "                    print (\"month transition -> open next file\")\n",
    "\n",
    "\n",
    "                    parts = range (1, parts[-1] - part)\n",
    "                    part = parts[0]\n",
    "\n",
    "                \n",
    "\n",
    "\n",
    "\n",
    "\n",
    "    return pts\n",
    "    \n",
    "   "
   ]
  },
  {
   "cell_type": "code",
   "execution_count": null,
   "metadata": {
    "collapsed": false
   },
   "outputs": [],
   "source": []
  },
  {
   "cell_type": "code",
   "execution_count": null,
   "metadata": {
    "collapsed": false
   },
   "outputs": [],
   "source": []
  },
  {
   "cell_type": "code",
   "execution_count": 6,
   "metadata": {
    "collapsed": false
   },
   "outputs": [],
   "source": [
    "def close(p, q = S15, distance = 0.5):\n",
    "    d = geo_tools.haversine (p[0],p[1], q[0], q[1])\n",
    " #   print (\"The distance is {}\".format(d))\n",
    "    if d.all() < distance:\n",
    "\n",
    "        return True\n",
    "    else:\n",
    "\n",
    "        return False\n",
    "    \n",
    "def dist(p, q = S15):\n",
    "    d = geo_tools.haversine (p[1],p[2], q[0], q[1])\n",
    "    return d\n",
    "\n",
    "def min_dist_traj(traj, q = S15):\n",
    "    ds = [geo_tools.haversine (p[1],p[2], q[0], q[1]) for p in traj]\n",
    "    return min (ds)"
   ]
  },
  {
   "cell_type": "code",
   "execution_count": 7,
   "metadata": {
    "collapsed": true
   },
   "outputs": [],
   "source": [
    "def traj_analysis (traj, time = 24, distance = 1.2): #change traj len if necessary too\n",
    "    '''output : time series w start date. out 1: boolean if in the region within time T and distance D (arguments + traj). output2: the age it first enters the region (0 it doesnt). then run for a few days. \n",
    "    then run for june, august, july, sept. \n",
    "    plot a time series with 0 and 1 from output 1.'''\n",
    "    \n",
    "    check = 0\n",
    "    \n",
    "    age = 0\n",
    "    \n",
    "    for pt in traj:\n",
    "\n",
    "\n",
    "        if (dist(pt, S15) < distance or dist(pt, S16) < distance) and traj.index(pt)/3 < time:\n",
    "            check = 1\n",
    "            age = traj.index(pt)/3\n",
    "            break\n",
    "    return (check, age)"
   ]
  },
  {
   "cell_type": "code",
   "execution_count": 8,
   "metadata": {
    "collapsed": true
   },
   "outputs": [],
   "source": [
    "time0 = dt.datetime(2016, 6, 1)"
   ]
  },
  {
   "cell_type": "code",
   "execution_count": 9,
   "metadata": {
    "collapsed": false
   },
   "outputs": [
    {
     "name": "stdout",
     "output_type": "stream",
     "text": [
      "got directory\n",
      "got directory\n",
      "got directory\n",
      "got directory\n",
      "got directory\n",
      "got directory\n",
      "got directory\n",
      "got directory\n",
      "got directory\n",
      "got directory\n",
      "got directory\n",
      "got directory\n",
      "got directory\n",
      "got directory\n",
      "got directory\n",
      "got directory\n",
      "got directory\n",
      "got directory\n",
      "got directory\n",
      "got directory\n",
      "got directory\n",
      "got directory\n",
      "got directory\n",
      "got directory\n",
      "got directory\n",
      "got directory\n",
      "got directory\n",
      "got directory\n",
      "got directory\n",
      "got directory\n",
      "month transition -> open next file\n",
      "got directory\n",
      "got directory\n",
      "got directory\n",
      "got directory\n",
      "got directory\n",
      "got directory\n",
      "got directory\n",
      "got directory\n",
      "got directory\n",
      "got directory\n",
      "got directory\n",
      "got directory\n",
      "got directory\n",
      "got directory\n",
      "got directory\n",
      "got directory\n",
      "got directory\n",
      "got directory\n",
      "got directory\n",
      "got directory\n",
      "got directory\n",
      "got directory\n",
      "got directory\n",
      "got directory\n",
      "got directory\n",
      "got directory\n",
      "got directory\n",
      "got directory\n",
      "got directory\n",
      "got directory\n",
      "got directory\n",
      "month transition -> open next file\n",
      "got directory\n",
      "got directory\n",
      "got directory\n",
      "got directory\n",
      "got directory\n",
      "got directory\n",
      "got directory\n",
      "got directory\n",
      "got directory\n",
      "got directory\n",
      "got directory\n",
      "got directory\n",
      "got directory\n",
      "got directory\n",
      "got directory\n",
      "got directory\n",
      "got directory\n",
      "got directory\n",
      "got directory\n",
      "got directory\n",
      "got directory\n",
      "got directory\n",
      "got directory\n",
      "got directory\n",
      "got directory\n",
      "got directory\n",
      "got directory\n",
      "got directory\n",
      "got directory\n",
      "got directory\n",
      "got directory\n",
      "month transition -> open next file\n",
      "got directory\n",
      "got directory\n",
      "got directory\n",
      "got directory\n",
      "got directory\n",
      "got directory\n",
      "got directory\n",
      "got directory\n",
      "got directory\n",
      "got directory\n",
      "got directory\n",
      "got directory\n",
      "got directory\n",
      "got directory\n",
      "got directory\n",
      "got directory\n",
      "got directory\n",
      "got directory\n",
      "got directory\n",
      "got directory\n",
      "got directory\n",
      "got directory\n",
      "got directory\n",
      "got directory\n",
      "got directory\n",
      "got directory\n",
      "got directory\n",
      "got directory\n",
      "got directory\n",
      "got directory\n",
      "month transition -> open next file\n"
     ]
    }
   ],
   "source": [
    "pts = []\n",
    "\n",
    "traj_len = 2\n",
    "\n",
    "times = np.array(\n",
    "    [\n",
    "    dt.datetime(2016, 7, 19),\n",
    "    dt.datetime(2016, 7, 26),\n",
    "    dt.datetime(2016, 8, 2),\n",
    "    dt.datetime(2016, 8, 9),\n",
    "    dt.datetime(2016, 8, 16),\n",
    "    dt.datetime(2016, 8, 23),\n",
    "    ]\n",
    "                            )\n",
    "north = [dt.datetime(2016, 7, 26), dt.datetime(2016, 8, 23)]\n",
    "\n",
    "\n",
    "test = np.array(\n",
    "    [\n",
    "    dt.datetime(2016, 7, 19),\n",
    "    dt.datetime(2016, 7, 26)\n",
    "    ]\n",
    ")\n",
    "\n",
    "time0 = dt.datetime(2016, 6, 1)\n",
    "\n",
    "date = time0\n",
    "\n",
    "while date != dt.datetime(2016, 10, 1):\n",
    "    \n",
    "    direct = find_direct(RAWDIR, date, traj_len)\n",
    "    \n",
    "    pts.append(get_points(direct, date, traj_len, phase = 0))\n",
    "    \n",
    "    date = date + dt.timedelta (days = 1)"
   ]
  },
  {
   "cell_type": "code",
   "execution_count": 10,
   "metadata": {
    "collapsed": false
   },
   "outputs": [],
   "source": [
    "full_period = [k for sublist in pts for k in sublist]"
   ]
  },
  {
   "cell_type": "code",
   "execution_count": 11,
   "metadata": {
    "collapsed": false
   },
   "outputs": [],
   "source": [
    "close_parts = []\n",
    "c_p_w_dist = []\n",
    "results = []\n",
    "\n",
    "for traj in full_period:\n",
    "    results.append(traj_analysis(traj, time = 48))"
   ]
  },
  {
   "cell_type": "code",
   "execution_count": 12,
   "metadata": {
    "collapsed": false
   },
   "outputs": [
    {
     "name": "stdout",
     "output_type": "stream",
     "text": [
      "8496\n"
     ]
    }
   ],
   "source": [
    "print (len(results))"
   ]
  },
  {
   "cell_type": "markdown",
   "metadata": {
    "collapsed": true
   },
   "source": [
    "the age at which the particles are in the (0,500) m range. first point that crosses within the radius => age"
   ]
  },
  {
   "cell_type": "markdown",
   "metadata": {
    "collapsed": true
   },
   "source": [
    "output : time series w start date. out 1: boolean if in the region within time T and distance D (arguments + traj). output2: the age it first enters the region (0 it doesnt). then run for a few days. then run for june, august, july, sept. plot a time series with 0 and 1 from output 1.\n",
    "\n",
    "discussion: correlations between those things (0 and 1 times series, winds and *tides*)"
   ]
  },
  {
   "cell_type": "code",
   "execution_count": 13,
   "metadata": {
    "collapsed": true
   },
   "outputs": [],
   "source": [
    "results = np.array(results)"
   ]
  },
  {
   "cell_type": "code",
   "execution_count": null,
   "metadata": {
    "collapsed": false
   },
   "outputs": [],
   "source": []
  },
  {
   "cell_type": "code",
   "execution_count": 14,
   "metadata": {
    "collapsed": false
   },
   "outputs": [],
   "source": [
    "def plot_ts (results, init_date = dt.datetime(2016, 6, 1) ):\n",
    "    fig, axs = plt.subplots(1,1, figsize = (9,8))\n",
    "    \n",
    "    days = [int(k/72) for k in range (len(results))]\n",
    "    \n",
    "    xaxis = [init_date + dt.timedelta(days = i) for i in days]\n",
    "    \n",
    "    faxis = [(k.day)  for k in xaxis]\n",
    "    \n",
    "    axs.plot( xaxis, results[:,1], 'bo'  )\n",
    "    axs.set_xlabel(\"Date\")\n",
    "    \n",
    "    axs.set_ylabel('Crossing time')\n",
    "    \n",
    "    plt.tight_layout()\n",
    "        "
   ]
  },
  {
   "cell_type": "code",
   "execution_count": null,
   "metadata": {
    "collapsed": true
   },
   "outputs": [],
   "source": []
  },
  {
   "cell_type": "code",
   "execution_count": 15,
   "metadata": {
    "collapsed": false
   },
   "outputs": [
    {
     "name": "stderr",
     "output_type": "stream",
     "text": [
      "/ocean/gsgarbi/anaconda3/lib/python3.6/site-packages/matplotlib/figure.py:1742: UserWarning: This figure includes Axes that are not compatible with tight_layout, so its results might be incorrect.\n",
      "  warnings.warn(\"This figure includes Axes that are not \"\n"
     ]
    },
    {
     "data": {
      "image/png": "[encoded data removed]",
      "text/plain": [
       "<matplotlib.figure.Figure at 0x7f3a9ed53b38>"
      ]
     },
     "metadata": {},
     "output_type": "display_data"
    }
   ],
   "source": [
    "plot_ts(results)"
   ]
  },
  {
   "cell_type": "code",
   "execution_count": null,
   "metadata": {
    "collapsed": true
   },
   "outputs": [],
   "source": []
  }
 ],
 "metadata": {
  "kernelspec": {
   "display_name": "Python 3",
   "language": "python",
   "name": "python3"
  },
  "language_info": {
   "codemirror_mode": {
    "name": "ipython",
    "version": 3
   },
   "file_extension": ".py",
   "mimetype": "text/x-python",
   "name": "python",
   "nbconvert_exporter": "python",
   "pygments_lexer": "ipython3",
   "version": "3.6.0"
  }
 },
 "nbformat": 4,
 "nbformat_minor": 2
}
