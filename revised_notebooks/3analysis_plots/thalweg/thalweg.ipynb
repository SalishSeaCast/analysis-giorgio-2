{
 "cells": [
  {
   "cell_type": "code",
   "execution_count": 6,
   "metadata": {
    "collapsed": true
   },
   "outputs": [],
   "source": [
    "import datetime as dt\n",
    "import os, sys\n",
    "import netCDF4 as nc\n",
    "import matplotlib as mpl\n",
    "import numpy as np\n",
    "import numpy.ma as ma\n",
    "from scipy.spatial import distance\n",
    "import matplotlib\n",
    "from matplotlib import pyplot as plt\n",
    "from matplotlib.patches import Ellipse\n",
    "from matplotlib import cm\n",
    "import matplotlib.colors as mpl_colors\n",
    "from matplotlib import rc\n",
    "from mpl_toolkits.axes_grid1 import make_axes_locatable\n",
    "\n",
    "\n",
    "\n",
    "from salishsea_tools import geo_tools, viz_tools\n",
    "\n",
    "get_ipython().magic('matplotlib inline')"
   ]
  },
  {
   "cell_type": "code",
   "execution_count": 8,
   "metadata": {
    "collapsed": false
   },
   "outputs": [
    {
     "name": "stdout",
     "output_type": "stream",
     "text": [
      "[[406   2]\n",
      " [406   3]\n",
      " [406   4]\n",
      " ..., \n",
      " [896  43]\n",
      " [896  42]\n",
      " [897  42]]\n"
     ]
    }
   ],
   "source": [
    "fb=nc.Dataset('/ocean/eolson/MEOPAR/NEMO-forcing/grid/bathy_downonegrid2.nc')\n",
    "nav_lon = np.copy(fb.variables['nav_lon'])\n",
    "nav_lat = np.copy(fb.variables['nav_lat'])\n",
    "bathy = np.copy(fb.variables['Bathymetry'])\n",
    "fb.close()\n",
    "thw = np.loadtxt(\n",
    "    '/ocean/gsgarbi/MEOPAR/tools/bathymetry/thalweg_working.txt',\n",
    "    delimiter=\" \", dtype=int)\n",
    "\n",
    "print (thw)\n",
    "thw_lat = nav_lat[thw[:,0], thw[:,1]]\n",
    "thw_lon = nav_lon[thw[:,0], thw[:,1]]"
   ]
  },
  {
   "cell_type": "code",
   "execution_count": 40,
   "metadata": {
    "collapsed": false
   },
   "outputs": [
    {
     "data": {
      "text/plain": [
       "<matplotlib.figure.Figure at 0x7f45a2a4bba8>"
      ]
     },
     "metadata": {},
     "output_type": "display_data"
    },
    {
     "data": {
      "image/png": "[encoded data removed]",
      "text/plain": [
       "<matplotlib.figure.Figure at 0x7f45a2c4a470>"
      ]
     },
     "metadata": {},
     "output_type": "display_data"
    }
   ],
   "source": [
    "# cmap = plt.get_cmap('Oranges')\n",
    "# cmap.set_bad('k')\n",
    "\n",
    "Iona = (-123.30898284912109, 49.187351226806641)\n",
    "S15 = (-123.3114, 49.130412)\n",
    "S16 = (-123.317415, 49.1214)\n",
    "xl=(-126.2,-122.2)\n",
    "yl=(47.1,51)\n",
    "plt.clf()\n",
    "start = dt.datetime.now()\n",
    "\n",
    "\n",
    "mesh = nc.Dataset(\"/ocean/gsgarbi/mesh_mask_downbyone2.nc\")\n",
    "tmask=np.copy(mesh.variables['tmask'])\n",
    "mesh.close()\n",
    "fb=nc.Dataset('/ocean/eolson/MEOPAR/NEMO-forcing/grid/bathy_downonegrid2.nc')\n",
    "nav_lon=np.copy(fb.variables['nav_lon'])\n",
    "nav_lat=np.copy(fb.variables['nav_lat'])\n",
    "fb.close()\n",
    "\n",
    "\n",
    "\n",
    "\n",
    "\n",
    "fig, axs2 = plt.subplots(1,1,figsize=(5,4))\n",
    "mesh1=axs2.pcolormesh(nav_lon,nav_lat,np.ma.masked_where(tmask[0,0,:,:]==1,tmask[0,0,:,:]),cmap = 'YlOrRd')\n",
    "axs2.set_xlim(xl)\n",
    "axs2.set_ylim(yl)\n",
    "axs2.patch.set_alpha(0.8)\n",
    "viz_tools.set_aspect(axs2,coords='map')\n",
    "\n",
    "\n",
    "\n",
    "\n",
    "\n",
    "el = Ellipse((2, -1), 0.5, 0.5)\n",
    "axs2.annotate(\n",
    "        \"   IONA\",\n",
    "        xy=(Iona[0], Iona[1]), xytext=(50, 10),\n",
    "        textcoords='offset points', ha='left', va='bottom', color = 'black',\n",
    "        arrowprops=dict(arrowstyle=\"wedge,tail_width=0.6\",\n",
    "                                  fc=(1,1,1), ec=(1., .5, .5),\n",
    "                                  patchA=None,\n",
    "                                  patchB=el,\n",
    "                                  relpos=(0.2, 0.8),\n",
    "                                  connectionstyle=\"arc3,rad=-0.1\"))\n",
    "\n",
    "fb=nc.Dataset('/ocean/gsgarbi/revised_notebooks/ncfiles/bathymetry_201702.nc')\n",
    "\n",
    "B = np.copy(fb.variables ['Bathymetry'])\n",
    "LON = np.copy(fb.variables ['nav_lon'])\n",
    "LAT = np.copy(fb.variables ['nav_lat'])\n",
    "fb.close()\n",
    "\n",
    "axs2.plot(thw_lon, thw_lat, '--', ms = '0.8', color = \"aqua\")\n",
    "\n",
    "axs2.set_facecolor('black')\n",
    "\n",
    "\n",
    "axs2.set_title(\"Thalweg\")\n",
    "\n",
    "\n",
    "fig.savefig(\"/ocean/gsgarbi/MEOPAR/private-docs/reports/IonaProject/ionafigs/thalweg.png\")"
   ]
  },
  {
   "cell_type": "code",
   "execution_count": null,
   "metadata": {
    "collapsed": true
   },
   "outputs": [],
   "source": []
  }
 ],
 "metadata": {
  "kernelspec": {
   "display_name": "Python 3",
   "language": "python",
   "name": "python3"
  },
  "language_info": {
   "codemirror_mode": {
    "name": "ipython",
    "version": 3
   },
   "file_extension": ".py",
   "mimetype": "text/x-python",
   "name": "python",
   "nbconvert_exporter": "python",
   "pygments_lexer": "ipython3",
   "version": "3.6.0"
  }
 },
 "nbformat": 4,
 "nbformat_minor": 2
}
