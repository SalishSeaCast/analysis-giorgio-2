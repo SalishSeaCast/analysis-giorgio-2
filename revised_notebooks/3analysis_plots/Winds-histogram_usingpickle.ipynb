{
 "cells": [
  {
   "cell_type": "code",
   "execution_count": 1,
   "metadata": {
    "collapsed": false
   },
   "outputs": [],
   "source": [
    "import netCDF4 as nc\n",
    "import matplotlib.pyplot as plt\n",
    "import numpy as np\n",
    "import datetime\n",
    "import os\n",
    "import glob\n",
    "import csv\n",
    "import pandas as pd\n",
    "from dateutil import tz\n",
    "import datetime as dt\n",
    "import seaborn as sns\n",
    "import pickle\n",
    "\n",
    "from salishsea_tools import tidetools, places, geo_tools, viz_tools\n",
    "import matplotlib.dates as md\n",
    "\n",
    "from dateutil.relativedelta import relativedelta\n",
    "\n",
    "\n",
    "\n",
    "%matplotlib inline"
   ]
  },
  {
   "cell_type": "markdown",
   "metadata": {},
   "source": [
    "<b> Constants <b>"
   ]
  },
  {
   "cell_type": "code",
   "execution_count": 2,
   "metadata": {
    "collapsed": false
   },
   "outputs": [],
   "source": [
    "sns.set_palette('gray')\n",
    "sns.set_style('ticks')\n",
    "sns.set_color_codes\n",
    "\n",
    "start = dt.datetime(2016, 7, 1, 0, 0)\n",
    "end = dt.datetime(2016, 9, 30)\n",
    "\n",
    "\n",
    "\n",
    "Iona = (-123.30807, 49.19026) #value from first point in traj.txt (Ariane output)\n",
    "\n",
    "S15 = (-123.3114, 49.130412)\n",
    "S16 = (-123.317415, 49.1214)\n",
    "xl=(-126.2,-122.2)\n",
    "yl=(47.1,51)\n",
    "\n",
    "RAWDIR = \"/ocean/gsgarbi/ariane_raw/2016+jan2017/\"\n",
    "    \n",
    "OUTPUTDIR = \"/ocean/gsgarbi/selected_days/\"\n",
    "\n",
    "H = 24\n",
    "\n",
    "pph = 3\n",
    "\n",
    "ppd = H * pph #(also number of outputs per trajectory per day since we have 3 outputs per hour)\n"
   ]
  },
  {
   "cell_type": "markdown",
   "metadata": {},
   "source": [
    "Nancy's adapted functions"
   ]
  },
  {
   "cell_type": "code",
   "execution_count": 44,
   "metadata": {
    "collapsed": false
   },
   "outputs": [],
   "source": [
    "def list_wind_files(\n",
    "    to, tf,\n",
    "    wind_dir='/results/forcing/atmospheric/GEM2.5/operational/'\n",
    "):\n",
    "    \"\"\"List operational wind files in date range [to, tf]\n",
    "\n",
    "    :arg to: beginning of date range\n",
    "    :type to: datetime object\n",
    "\n",
    "    :arg tf: end of date range\n",
    "    :type tf: datetime object\n",
    "\n",
    "    :arg wind_dir: directory were wind files are stored\n",
    "    :type wind_dir: str\n",
    "\n",
    "    :returns: filesOP, a list of files in date range\n",
    "    \"\"\"\n",
    "\n",
    "           \n",
    "    sstr = to.strftime('ops_y%Ym%md%d.nc')\n",
    "    estr = tf.strftime('ops_y%Ym%md%d.nc')\n",
    "    files = glob.glob(os.path.join(wind_dir, 'ops_*.nc'))\n",
    "\n",
    "    filesOP = []\n",
    "\n",
    "    for filename in files:\n",
    "\n",
    "        if os.path.basename(filename) >= sstr:\n",
    "            if os.path.basename(filename) <= estr:\n",
    "                filesOP.append(filename)\n",
    "\n",
    "        filesOP.sort(key=os.path.basename)        \n",
    "\n",
    "        \n",
    "    \n",
    "    filesOP.sort(key=os.path.basename)\n",
    "    return filesOP\n",
    "\n",
    "       \n",
    "        \n",
    "\n",
    "def compile_winds_study(j, i, files, study):\n",
    "    \"\"\"\n",
    "    Compile a time series of operational atmospheric products stored in files\n",
    "    at grid point j, i. First 24 hours of each file are used\n",
    "\n",
    "    :arg j: the y-index of the grid point\n",
    "    :type j: non-negative integer\n",
    "\n",
    "    :arg i: the x-index of the grid point\n",
    "    :type i: non-negative interger\n",
    "\n",
    "    :arg files: list of atmospheric operational files\n",
    "    :type files: list\n",
    "\n",
    "    :returns: wind, direc, t, pr, tem, sol, the, qr, pre, all arrays\n",
    "    wind speed, diretion, time, pressure, temperature, solar radiation,\n",
    "    humidity, precipitation.\n",
    "\n",
    "    \"\"\"\n",
    "    wind = []\n",
    "    direc = []\n",
    "    t = []\n",
    "    pr = []\n",
    "    sol = []\n",
    "    the = []\n",
    "    pre = []\n",
    "    tem = []\n",
    "    qr = []\n",
    "    \n",
    "    hours_dict = separate(study)\n",
    "    \n",
    "    \n",
    "    \n",
    "    for f in files:\n",
    "        G = nc.Dataset(f)\n",
    "        d = int(f [-5:-3])\n",
    "        m = int(f [-8:-6])\n",
    "        y = int(f [-13: -9])\n",
    "        \n",
    "        date = dt.date(y, m, d)\n",
    "        \n",
    "        if date in hours_dict.keys():\n",
    "        \n",
    "            hours = hours_dict[date]\n",
    "        \n",
    "        else:\n",
    "            continue\n",
    "            \n",
    "        \n",
    "        u = []\n",
    "        v = []\n",
    "        for h in hours:\n",
    "            u.append(G.variables['u_wind'][h, j, i])\n",
    "            v.append(G.variables['v_wind'][h, j, i])\n",
    "        \n",
    "        u = np.array(u)\n",
    "        v = np.array(v)\n",
    "        \n",
    "        speed = np.sqrt(u**2 + v**2)\n",
    "        wind.append(speed)\n",
    "\n",
    "\n",
    "        d = np.arctan2(v, u)\n",
    "        d = np.rad2deg(d + (d < 0)*2*np.pi)\n",
    "        direc.append(d)\n",
    "\n",
    "\n",
    "#     wind = np.array(wind).reshape(numdays*24,)\n",
    "#    direc = np.array(direc, 'double').reshape(numdays*24,)\n",
    "#     t = np.array(t).reshape(numdays*24,)\n",
    "#     pr = np.array(pr).reshape(numdays*24,)\n",
    "#     tem = np.array(tem).reshape(numdays*24,)\n",
    "#     sol = np.array(sol).reshape(numdays*24,)\n",
    "#     the = np.array(the).reshape(numdays*24,)\n",
    "#     qr = np.array(qr).reshape(numdays*24,)\n",
    "#     pre = np.array(pre).reshape(numdays*24,)\n",
    "\n",
    "    print (wind[2:10])\n",
    "\n",
    "    return wind, direc\n",
    "\n",
    "def find_model_point(lon, lat, X, Y, tol_lon=0.016, tol_lat=0.011):\n",
    "    \"\"\"Finds a model grid point close to a specified latitude and longitude.\n",
    "    Should be used for non-NEMO grids like the atmospheric forcing grid.\n",
    "\n",
    "    :arg lon: The longitude we are trying to match.\n",
    "    :type lon: float\n",
    "\n",
    "    :arg lat: The latitude we are trying to match.\n",
    "    :type lat: float\n",
    "\n",
    "    :arg X: The model longitude grid.\n",
    "    :type X: numpy array\n",
    "\n",
    "    :arg Y: The model latitude grid.\n",
    "    :type Y: numpy array\n",
    "\n",
    "    :arg tol_lon: tolerance on grid spacing for longitude\n",
    "    :type tol_lon: float\n",
    "\n",
    "    :arg tol_lat: tolerance on grid spacing for latitude\n",
    "    :type tol_lat: float\n",
    "\n",
    "    :returns: j-index and i-index of the closest model grid point.\n",
    "    \"\"\"\n",
    "\n",
    "    # Search for a grid point with longitude or latitude within\n",
    "    # tolerance of measured location\n",
    "    j, i = np.where(\n",
    "        np.logical_and(\n",
    "            (np.logical_and(X > lon - tol_lon, X < lon + tol_lon)),\n",
    "            (np.logical_and(Y > lat - tol_lat, Y < lat + tol_lat))))\n",
    "\n",
    "    if j.size > 1 or i.size > 1:\n",
    "        raise ValueError(\n",
    "            'Multiple model points found. tol_lon/tol_lat too big.'\n",
    "        )\n",
    "    elif not j or not i:\n",
    "        raise ValueError(\n",
    "            'No model point found. tol_lon/tol_lat too small or '\n",
    "            'lon/lat outside of domain.'\n",
    "        )\n",
    "    return j, i\n",
    "\n",
    "\n",
    "\n",
    "def dateParserMeasured2(s):\n",
    "    \"\"\"\n",
    "    converts string in %d-%b-%Y %H:%M:%S format Pacific time to a\n",
    "    datetime object UTC time.\n",
    "    \"\"\"\n",
    "    PST = tz.tzoffset(\"PST\", -28800)\n",
    "    # convert the string to a datetime object\n",
    "    unaware = datetime.datetime.strptime(s, \"%d-%b-%Y %H:%M:%S \")\n",
    "    # add in the local time zone (Canada/Pacific)\n",
    "    aware = unaware.replace(tzinfo=PST)\n",
    "    # convert to UTC\n",
    "    return aware.astimezone(tz.tzutc())\n",
    "\n",
    "\n"
   ]
  },
  {
   "cell_type": "markdown",
   "metadata": {},
   "source": [
    "Get points and separate them according to chosen criteria."
   ]
  },
  {
   "cell_type": "code",
   "execution_count": 4,
   "metadata": {
    "collapsed": true
   },
   "outputs": [],
   "source": [
    "def find_direct (RAWDIR, date, traj_len):\n",
    "    'traj len needs to be equal to or less than 30 (days)'\n",
    "    start = date\n",
    "    end = date + dt.timedelta(days = traj_len) \n",
    "    y = str(start.year)\n",
    "    m = str(start.month)\n",
    "    n = str(end.month)\n",
    "    w = str(end.year)\n",
    "    \n",
    "\n",
    "\n",
    "    if len (m) == 1:\n",
    "        m = \"0\"+str(m)\n",
    "        \n",
    "    if len (n) == 1:\n",
    "        n = \"0\"+str(n)\n",
    "    \n",
    "    direct = [ i for i in os.listdir(RAWDIR) if y+m == i[:6] or w+n == i[:6] ]\n",
    "    \n",
    "    direct = sorted(direct)\n",
    "    \n",
    "    print (\"got directory(ies)\")\n",
    "    \n",
    "    return direct"
   ]
  },
  {
   "cell_type": "code",
   "execution_count": 5,
   "metadata": {
    "collapsed": true
   },
   "outputs": [],
   "source": [
    "def get_points(direct, init_date, traj_len, phase = 0):\n",
    "    '''\n",
    "    get 72 trajs (3 per hour) starting on date.day with fixed traj len\n",
    "    '''\n",
    "    \n",
    "    date0 = dt.datetime( init_date.year, init_date.month, 1, 0, 0)\n",
    "    \n",
    "    phase = phase * 3\n",
    "    pts = []\n",
    "\n",
    "    d = init_date.day\n",
    "    #select the particles\n",
    "    parts = range (1 + ppd*(d - 1) + phase, 1 + ppd*(d - 1) + phase + 72)\n",
    "\n",
    "    part = parts[0]\n",
    "    \n",
    "\n",
    "    for directory in direct:\n",
    "\n",
    "\n",
    "        with open(RAWDIR + directory + \"/traj.txt\") as file:\n",
    "            \n",
    "            \n",
    "\n",
    "            count = 0\n",
    "            traj = []\n",
    "            \n",
    "            date0 += relativedelta( months = direct.index(directory) )\n",
    "\n",
    "            \n",
    "            \n",
    "            for i, line in enumerate(file):\n",
    "\n",
    "                line = line.strip('\\n').split()\n",
    "                line = [float(k) for k in line]\n",
    "\n",
    "\n",
    "                if line[0] == part:\n",
    "                    \n",
    "\n",
    "                    \n",
    "                    mins0 = 60*int( (part-1)/3 )\n",
    "                    \n",
    "                    time = date0 + dt.timedelta( minutes = mins0) + dt.timedelta( minutes = count * 20)\n",
    "                    \n",
    "                    \n",
    "                    traj.append(line + [time])\n",
    "                    \n",
    "\n",
    "                    count +=1\n",
    "                if count == traj_len * ppd:\n",
    "\n",
    "                    pts.append(traj)\n",
    "                    traj = [] #reset traj\n",
    "                    count = 0 #reset counter\n",
    "                    part += 1 #go to the next particle\n",
    "\n",
    "                if part == parts[-1]+1:\n",
    "                    break\n",
    "            else:\n",
    "                    print (\"month transition -> open next file\")\n",
    "                    \n",
    "\n",
    "\n",
    "                    parts = range (1, parts[-1] - part)\n",
    "                    part = parts[0]\n",
    "\n",
    "    return pts"
   ]
  },
  {
   "cell_type": "markdown",
   "metadata": {},
   "source": [
    "Trajectory analysis"
   ]
  },
  {
   "cell_type": "code",
   "execution_count": 6,
   "metadata": {
    "collapsed": true
   },
   "outputs": [],
   "source": [
    "def dist(p, q = S15):\n",
    "    d = geo_tools.haversine (p[1],p[2], q[0], q[1])\n",
    "    return d"
   ]
  },
  {
   "cell_type": "code",
   "execution_count": 7,
   "metadata": {
    "collapsed": false
   },
   "outputs": [],
   "source": [
    "def traj_analysis (traj, time = 24, distance = 1.2):\n",
    "\n",
    "    age = 0\n",
    "    \n",
    "    date = [ traj[0][-1] + dt.timedelta(hours = h) for h in range (24) ] \n",
    "    \n",
    "    for pt in traj:\n",
    "        \n",
    "\n",
    "        if (dist(pt, S15) < distance or dist(pt, S16) < distance) and traj.index(pt)/3 < time:\n",
    "\n",
    "            \n",
    "            age = traj.index(pt)/3\n",
    "            break\n",
    "    return (date, age)"
   ]
  },
  {
   "cell_type": "code",
   "execution_count": 8,
   "metadata": {
    "collapsed": true
   },
   "outputs": [],
   "source": [
    "def separate (study):\n",
    "    dd = {}\n",
    "    dates = [k.date() for k in study]\n",
    "    for date in set(dates):\n",
    "        dd[date] = []\n",
    "    \n",
    "    for date in study:\n",
    "        dd[date.date()].append(int(date.hour))\n",
    "        \n",
    "\n",
    "        \n",
    "    return dd"
   ]
  },
  {
   "cell_type": "markdown",
   "metadata": {},
   "source": [
    "Analysis"
   ]
  },
  {
   "cell_type": "code",
   "execution_count": 9,
   "metadata": {
    "collapsed": false
   },
   "outputs": [],
   "source": [
    "def save_trajs (start, end, traj_len, direct):\n",
    "    pts = []\n",
    "\n",
    "    date = start\n",
    "\n",
    "\n",
    "    while date != end + dt.timedelta(days=1):\n",
    "\n",
    "        direct = find_direct(RAWDIR, date, traj_len)\n",
    "\n",
    "        pts.append(get_points(direct, date, traj_len, phase = 0))\n",
    "\n",
    "        date = date + dt.timedelta (days = 1)\n",
    "\n",
    "\n",
    "    full_period = [k for sublist in pts for k in sublist]\n",
    "\n",
    "    with open(fullperiod_direct, 'wb') as fp:\n",
    "        pickle.dump(full_period, fp)"
   ]
  },
  {
   "cell_type": "code",
   "execution_count": 56,
   "metadata": {
    "collapsed": true
   },
   "outputs": [],
   "source": [
    "def load_river_flow(file_loc, date0, datef):\n",
    "    \n",
    "    results = []\n",
    "    \n",
    "    date = date0\n",
    "    \n",
    "    \n",
    "    while date != datef + datetime.timedelta(days = 1):\n",
    "    \n",
    "        year = date.year\n",
    "        mon = date.month\n",
    "        day = date.day\n",
    "\n",
    "\n",
    "\n",
    "        with open(file_loc) as file:\n",
    "            for line in file:\n",
    "                line = line.strip('\\n').split()\n",
    "                linedata = [int(k) for k in line[0:3]]\n",
    "                \n",
    "                if linedata == [year, mon, day]:\n",
    "                    results.append(linedata + [float(line[3])])\n",
    "    \n",
    "        date = date + datetime.timedelta(days=1)\n",
    "        \n",
    "    return results"
   ]
  },
  {
   "cell_type": "code",
   "execution_count": 10,
   "metadata": {
    "collapsed": false
   },
   "outputs": [
    {
     "name": "stdout",
     "output_type": "stream",
     "text": [
      "got directory(ies)\n",
      "got directory(ies)\n",
      "got directory(ies)\n",
      "got directory(ies)\n",
      "got directory(ies)\n",
      "got directory(ies)\n",
      "got directory(ies)\n",
      "got directory(ies)\n",
      "got directory(ies)\n",
      "got directory(ies)\n",
      "got directory(ies)\n",
      "got directory(ies)\n",
      "got directory(ies)\n",
      "got directory(ies)\n",
      "got directory(ies)\n",
      "got directory(ies)\n",
      "got directory(ies)\n",
      "got directory(ies)\n",
      "got directory(ies)\n",
      "got directory(ies)\n",
      "got directory(ies)\n",
      "got directory(ies)\n",
      "got directory(ies)\n",
      "got directory(ies)\n",
      "got directory(ies)\n",
      "got directory(ies)\n",
      "got directory(ies)\n",
      "got directory(ies)\n",
      "got directory(ies)\n",
      "got directory(ies)\n",
      "got directory(ies)\n",
      "month transition -> open next file\n",
      "got directory(ies)\n",
      "got directory(ies)\n",
      "got directory(ies)\n",
      "got directory(ies)\n",
      "got directory(ies)\n",
      "got directory(ies)\n",
      "got directory(ies)\n",
      "got directory(ies)\n",
      "got directory(ies)\n",
      "got directory(ies)\n",
      "got directory(ies)\n",
      "got directory(ies)\n",
      "got directory(ies)\n",
      "got directory(ies)\n",
      "got directory(ies)\n",
      "got directory(ies)\n",
      "got directory(ies)\n",
      "got directory(ies)\n",
      "got directory(ies)\n",
      "got directory(ies)\n",
      "got directory(ies)\n",
      "got directory(ies)\n",
      "got directory(ies)\n",
      "got directory(ies)\n",
      "got directory(ies)\n",
      "got directory(ies)\n",
      "got directory(ies)\n",
      "got directory(ies)\n",
      "got directory(ies)\n",
      "got directory(ies)\n",
      "got directory(ies)\n",
      "month transition -> open next file\n",
      "got directory(ies)\n",
      "got directory(ies)\n",
      "got directory(ies)\n",
      "got directory(ies)\n",
      "got directory(ies)\n",
      "got directory(ies)\n",
      "got directory(ies)\n",
      "got directory(ies)\n",
      "got directory(ies)\n",
      "got directory(ies)\n",
      "got directory(ies)\n",
      "got directory(ies)\n",
      "got directory(ies)\n",
      "got directory(ies)\n",
      "got directory(ies)\n",
      "got directory(ies)\n",
      "got directory(ies)\n",
      "got directory(ies)\n",
      "got directory(ies)\n",
      "got directory(ies)\n",
      "got directory(ies)\n",
      "got directory(ies)\n",
      "got directory(ies)\n",
      "got directory(ies)\n",
      "got directory(ies)\n",
      "got directory(ies)\n",
      "got directory(ies)\n",
      "got directory(ies)\n",
      "got directory(ies)\n",
      "got directory(ies)\n",
      "month transition -> open next file\n"
     ]
    }
   ],
   "source": [
    "traj_len = 1 #24 hours\n",
    "fullperiod_direct = '/ocean/gsgarbi/revised_notebooks/3analysis_plots/jun_sep_nolastdays_trajlen{}d.npy'.format(traj_len)\n",
    "save_trajs (start = start, end = end, traj_len = traj_len, direct = fullperiod_direct)"
   ]
  },
  {
   "cell_type": "markdown",
   "metadata": {},
   "source": [
    "We can start here after we have full_period"
   ]
  },
  {
   "cell_type": "code",
   "execution_count": 34,
   "metadata": {
    "collapsed": true
   },
   "outputs": [],
   "source": [
    "with open (fullperiod_direct, 'rb') as fp:\n",
    "    full_period = pickle.load(fp)"
   ]
  },
  {
   "cell_type": "code",
   "execution_count": 35,
   "metadata": {
    "collapsed": false,
    "scrolled": false
   },
   "outputs": [],
   "source": [
    "results = []\n",
    "\n",
    "for traj in full_period:\n",
    "    results.append(traj_analysis(traj))\n",
    "\n",
    "results = np.array(results)\n"
   ]
  },
  {
   "cell_type": "code",
   "execution_count": 36,
   "metadata": {
    "collapsed": false
   },
   "outputs": [],
   "source": [
    "control = []\n",
    "study = []\n",
    "for i in results:\n",
    "    if i [1] == 0:\n",
    "        control.append(i[0])\n",
    "    else:\n",
    "        study.append(i[0])\n",
    "\n",
    "study_points = [k for sublist in study for k in sublist]\n",
    "control_points = [k for sublist in control for k in sublist]"
   ]
  },
  {
   "cell_type": "code",
   "execution_count": 37,
   "metadata": {
    "collapsed": false
   },
   "outputs": [],
   "source": [
    "study_dictionary = separate (study_points)\n",
    "study_dates = [key for key in study_dictionary.keys()]\n",
    "\n",
    "\n",
    "control_dictionary = separate (control_points)\n",
    "\n",
    "\n",
    "control_dates = [key for key in control_dictionary.keys()]\n",
    "\n"
   ]
  },
  {
   "cell_type": "code",
   "execution_count": 38,
   "metadata": {
    "collapsed": false
   },
   "outputs": [],
   "source": [
    "#Iona = (-123.30898284912109, 49.187351226806641)\n",
    "Iona = (-123.30807, 49.19026) #value from first point in traj.txt (Ariane output)\n",
    "\n",
    "\n",
    "sdt = start\n",
    "edt = end\n",
    "\n",
    "OP = nc.Dataset('/ocean/gsgarbi/ops_y2014m11d18.nc')\n",
    "OPlon =OP.variables['nav_lon'][:]-360\n",
    "OPlat = OP.variables['nav_lat'][:]\n",
    "\n",
    "lons, lats = OPlon, OPlat\n",
    "\n",
    "lon, lat = [Iona[0], Iona[1]]\n",
    "wind_files = list_wind_files(sdt, edt)\n",
    "\n",
    "\n",
    "j,i=find_model_point(lon,lat,lons,lats)\n",
    "\n",
    "windS, direcS = compile_winds_study(j,i,wind_files, study_points)\n",
    "windC, direcC = compile_winds_study(j,i,wind_files, control_points)"
   ]
  },
  {
   "cell_type": "code",
   "execution_count": 59,
   "metadata": {
    "collapsed": false
   },
   "outputs": [],
   "source": [
    "study_group = [k for sublist in windS for k in sublist ]\n",
    "control_group = [k for sublist in windC for k in sublist ]\n",
    "\n",
    "for i in range (2):                    \n",
    "    study_group = [k for sublist in study_group for k in sublist ]\n",
    "    control_group = [k for sublist in control_group for k in sublist ]"
   ]
  },
  {
   "cell_type": "code",
   "execution_count": 60,
   "metadata": {
    "collapsed": false
   },
   "outputs": [
    {
     "data": {
      "text/plain": [
       "<matplotlib.legend.Legend at 0x7f8f9114c0f0>"
      ]
     },
     "execution_count": 60,
     "metadata": {},
     "output_type": "execute_result"
    },
    {
     "data": {
      "image/png": "[encoded data removed]",
      "text/plain": [
       "<matplotlib.figure.Figure at 0x7f8f8ee55d68>"
      ]
     },
     "metadata": {},
     "output_type": "display_data"
    }
   ],
   "source": [
    "fig, axs = plt.subplots(1,1, figsize = (8,7))\n",
    "\n",
    "labels = ('Other trajectories', 'Southern trajectories')\n",
    "\n",
    "groups = [control_group, study_group]\n",
    "\n",
    "colors = ['b','r']\n",
    "\n",
    "\n",
    "\n",
    "\n",
    "\n",
    "axs.hist(\n",
    "        groups, \n",
    "        color= colors, \n",
    "        alpha=0.8, \n",
    "        normed = True,\n",
    "        label = labels, \n",
    "        )\n",
    "\n",
    "axs.set_ylabel (\"Percentage of trajectories\")\n",
    "axs.set_xlabel (\"Wind speed in m/s measured at Iona at the start of the trajectory\")\n",
    "\n",
    "axs.set_title ('Wind speed \\n June 1 - September 30', size = 18)\n",
    "\n",
    "\n",
    "plt.legend()"
   ]
  },
  {
   "cell_type": "code",
   "execution_count": 53,
   "metadata": {
    "collapsed": true
   },
   "outputs": [],
   "source": [
    "study_group = [k for sublist in direcS for k in sublist ]\n",
    "control_group = [k for sublist in direcC for k in sublist ]\n",
    "\n",
    "for i in range (2):                    \n",
    "    study_group = [k for sublist in study_group for k in sublist ]\n",
    "    control_group = [k for sublist in control_group for k in sublist ]"
   ]
  },
  {
   "cell_type": "code",
   "execution_count": 54,
   "metadata": {
    "collapsed": false
   },
   "outputs": [
    {
     "data": {
      "text/plain": [
       "<matplotlib.legend.Legend at 0x7f8f90cc6fd0>"
      ]
     },
     "execution_count": 54,
     "metadata": {},
     "output_type": "execute_result"
    },
    {
     "data": {
      "image/png": "[encoded data removed]",
      "text/plain": [
       "<matplotlib.figure.Figure at 0x7f8f8ff16f60>"
      ]
     },
     "metadata": {},
     "output_type": "display_data"
    }
   ],
   "source": [
    "fig, axs = plt.subplots(1,1, figsize = (8,7))\n",
    "\n",
    "labels = ('Other trajectories', 'Southern trajectories')\n",
    "\n",
    "groups = [control_group, study_group]\n",
    "\n",
    "colors = ['b','r']\n",
    "\n",
    "\n",
    "\n",
    "\n",
    "\n",
    "axs.hist(\n",
    "        groups, \n",
    "        color= colors, \n",
    "        alpha=0.8, \n",
    "        normed = True,\n",
    "        label = labels, \n",
    "        )\n",
    "\n",
    "axs.set_ylabel (\"Percentage of trajectories\")\n",
    "axs.set_xlabel (\"Wind direction measured at Iona at the start of the trajectory\")\n",
    "\n",
    "axs.set_title ('Wind direction \\n June 1 - September 30', size = 18)\n",
    "\n",
    "\n",
    "plt.legend()"
   ]
  },
  {
   "cell_type": "code",
   "execution_count": 58,
   "metadata": {
    "collapsed": true
   },
   "outputs": [],
   "source": [
    "river = load_river_flow('/ocean/gsgarbi/Fraser_flow', start, end\n",
    "               \n",
    "               )"
   ]
  },
  {
   "cell_type": "code",
   "execution_count": null,
   "metadata": {
    "collapsed": true
   },
   "outputs": [],
   "source": []
  }
 ],
 "metadata": {
  "kernelspec": {
   "display_name": "Python 3",
   "language": "python",
   "name": "python3"
  },
  "language_info": {
   "codemirror_mode": {
    "name": "ipython",
    "version": 3
   },
   "file_extension": ".py",
   "mimetype": "text/x-python",
   "name": "python",
   "nbconvert_exporter": "python",
   "pygments_lexer": "ipython3",
   "version": "3.6.0"
  }
 },
 "nbformat": 4,
 "nbformat_minor": 2
}
