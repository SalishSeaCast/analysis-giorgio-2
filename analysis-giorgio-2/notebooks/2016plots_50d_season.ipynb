{
 "cells": [
  {
   "cell_type": "code",
   "execution_count": 1,
   "metadata": {
    "collapsed": true
   },
   "outputs": [],
   "source": [
    "import datetime as dt\n",
    "import os, sys\n",
    "import netCDF4 as nc\n",
    "import matplotlib as mpl\n",
    "import numpy as np\n",
    "import numpy.ma as ma\n",
    "from scipy.spatial import distance\n",
    "import matplotlib\n",
    "from matplotlib import pyplot as plt\n",
    "from matplotlib.patches import Ellipse\n",
    "from matplotlib import cm\n",
    "import matplotlib.colors as mpl_colors\n",
    "from matplotlib import rc\n",
    "from mpl_toolkits.axes_grid1 import make_axes_locatable\n",
    "\n",
    "\n",
    "from salishsea_tools import geo_tools, viz_tools\n",
    "\n",
    "get_ipython().magic('matplotlib inline')"
   ]
  },
  {
   "cell_type": "code",
   "execution_count": 2,
   "metadata": {
    "collapsed": false
   },
   "outputs": [],
   "source": [
    "#Parameters\n",
    "\n",
    "cmap = plt.get_cmap('nipy_spectral')\n",
    "cmap.set_bad('burlywood')\n",
    "\n",
    "H = 24 #One day in hours\n",
    "\n",
    "#Ariane parameters\n",
    "tunit= 3600\n",
    "\n",
    "outint = 20 * 60 # 20 min in seconds\n",
    "\n",
    "pph = int(tunit / outint) #points per hour\n",
    "\n",
    "lmt = 1896 #points per particle\n",
    "\n",
    "\n",
    "#RUN parameters\n",
    "\n",
    "nday= 5\n",
    "\n",
    "basedir = \"/ocean/gsgarbi/analysis-giorgio/time_series/results2016/\"\n",
    "\n",
    "plotsdir = \"/ocean/gsgarbi/analysis-giorgio/time_series/results2016/plots\"\n",
    "\n",
    "depth = 2\n",
    "\n",
    "\n",
    "position = nday * pph * H # d * num/h * h/d = num"
   ]
  },
  {
   "cell_type": "code",
   "execution_count": null,
   "metadata": {
    "collapsed": true
   },
   "outputs": [],
   "source": []
  },
  {
   "cell_type": "code",
   "execution_count": 3,
   "metadata": {
    "collapsed": false
   },
   "outputs": [],
   "source": [
    "#function to get points from an indiviual month\n",
    "\n",
    "def get_pts(direct):\n",
    "    \n",
    "    points = points0 = points1 = points2 = []\n",
    "    \n",
    "    particle = 1 #start particle counter\n",
    "    \n",
    "    start = dt.datetime.now()\n",
    "    print (\"start {}: \".format(direct), start)\n",
    "\n",
    "\n",
    "    with open(basedir + direct + \"/traj.txt\") as file:\n",
    "\n",
    "        for i, line in enumerate(file):\n",
    "\n",
    "            line = line.strip('\\n').split()\n",
    "\n",
    "            line = [float(k) for k in line]\n",
    "\n",
    "            line = np.array(line)\n",
    "\n",
    "\n",
    "            if line[0] == particle:\n",
    "                index = i + position\n",
    "                particle += 1\n",
    "\n",
    "            if i == index:\n",
    "                points.append (line)\n",
    "                \n",
    "        print (\"time: \", dt.datetime.now() - start)\n",
    "                \n",
    "                \n",
    "    return points"
   ]
  },
  {
   "cell_type": "code",
   "execution_count": 4,
   "metadata": {
    "collapsed": false
   },
   "outputs": [],
   "source": [
    "# # test cell\n",
    "\n",
    "# year0 = year1 = year2 = [] #for each depth\n",
    "\n",
    "# jan = get_pts(\"/ocean/gsgarbi/analysis-giorgio/time_series/results2016/20160101_20160131_427d/\")\n",
    "\n",
    "# feb = get_pts(\"/ocean/gsgarbi/analysis-giorgio/time_series/results2016/20160201_20160229_401d/\")\n",
    "\n",
    "\n",
    "# year0 = jan[0::3] + feb[0::3]\n",
    "# year1 = jan[1::3] + feb[1::3]\n",
    "# year2 = jan[2::3] + feb[2::3]\n",
    "\n"
   ]
  },
  {
   "cell_type": "code",
   "execution_count": 5,
   "metadata": {
    "collapsed": false
   },
   "outputs": [],
   "source": [
    "# Get points for the year - this process should take about 42min for 12 months (3.5min per month)\n",
    "\n",
    "path = \"/ocean/gsgarbi/analysis-giorgio/time_series/results2016/\"\n",
    "\n",
    "dirs = os.listdir( path )\n",
    "\n",
    "dirs.sort()\n",
    "\n",
    "year1 = year2 = year3 = []\n",
    "    \n"
   ]
  },
  {
   "cell_type": "code",
   "execution_count": null,
   "metadata": {
    "collapsed": false
   },
   "outputs": [],
   "source": [
    "\n"
   ]
  },
  {
   "cell_type": "code",
   "execution_count": null,
   "metadata": {
    "collapsed": true
   },
   "outputs": [],
   "source": [
    "\n",
    "    "
   ]
  },
  {
   "cell_type": "code",
   "execution_count": 6,
   "metadata": {
    "collapsed": false
   },
   "outputs": [],
   "source": [
    "def plot(points):\n",
    "    \n",
    "    plt.clf()\n",
    "    \n",
    "    #prepare plot\n",
    "\n",
    "    start = dt.datetime.now()\n",
    "    print (\"start: \", start)\n",
    "\n",
    "\n",
    "    # In[7]:\n",
    "\n",
    "\n",
    "\n",
    "    np.shape(points)\n",
    "\n",
    "\n",
    "    # In[8]:\n",
    "\n",
    "    # set up array of zeros of shape of model domain; also load tmask, model lons and lats\n",
    "    mesh = nc.Dataset(\"/ocean/gsgarbi/mesh_mask_downbyone2.nc\")\n",
    "    tmask=np.copy(mesh.variables['tmask'])\n",
    "    mesh.close()\n",
    "    fb=nc.Dataset('/ocean/eolson/MEOPAR/NEMO-forcing/grid/bathy_downonegrid2.nc')\n",
    "    nav_lon=np.copy(fb.variables['nav_lon'])\n",
    "    nav_lat=np.copy(fb.variables['nav_lat'])\n",
    "    fb.close()\n",
    "\n",
    "\n",
    "    # In[9]:\n",
    "\n",
    "    tmask.shape\n",
    "\n",
    "\n",
    "    # In[10]:\n",
    "\n",
    "    griddata=0.0*tmask[0,0,:,:]\n",
    "    griddata.shape\n",
    "\n",
    "\n",
    "    # In[11]:\n",
    "\n",
    "    np.shape(points)[0]\n",
    "\n",
    "\n",
    "    # In[12]:\n",
    "\n",
    "    for ii in range(0,np.shape(points)[0]):\n",
    "        j,i=geo_tools.find_closest_model_point(points[ii,1],points[ii,2],nav_lon,nav_lat)\n",
    "        #print(points[ii,1],points[ii,2],j,i)\n",
    "        griddata[j,i]=griddata[j,i]+1\n",
    "\n",
    "\n",
    "    # In[13]:\n",
    "\n",
    "    fig, axs = plt.subplots(1,1,figsize=(9,8))\n",
    "    mesh0 = axs.pcolormesh(nav_lon,nav_lat,np.ma.masked_where(tmask[0,0,:,:]==0,griddata),cmap=cmap)\n",
    "\n",
    "    viz_tools.set_aspect(axs,coords='map')\n",
    "\n",
    "\n",
    "    # In[14]:\n",
    "\n",
    "    # model grid is too small. use hist2d for larger bins, then overlay grid\n",
    "\n",
    "\n",
    "    # In[15]:\n",
    "\n",
    "    lonlim=[np.min(nav_lon),np.max(nav_lon)]\n",
    "    latlim=[np.min(nav_lat),np.max(nav_lat)]\n",
    "\n",
    "    griddata, iedges, jedges = np.histogram2d(points[:,1],points[:,2],bins=[100,200],range=[lonlim,latlim])\n",
    "\n",
    "\n",
    "    # In[16]:\n",
    "\n",
    "    Jedges,Iedges=np.meshgrid(jedges,iedges)\n",
    "\n",
    "\n",
    "    # In[17]:\n",
    "\n",
    "    Jedges.shape\n",
    "\n",
    "\n",
    "    # In[18]:\n",
    "\n",
    "    griddata.shape\n",
    "\n",
    "\n",
    "    # In[19]:\n",
    "\n",
    "    xl=(-125,-122.4)\n",
    "    yl=(48,50)\n",
    "    fig, axs = plt.subplots(1,1,figsize=(9,8))\n",
    "    mesh0 = axs.pcolormesh(Iedges,Jedges,griddata,cmap=cmap)\n",
    "    axs.set_xlim(xl)\n",
    "    axs.set_ylim(yl)\n",
    "    #axs.plot(-124.0,49.5,'r*')\n",
    "    viz_tools.set_aspect(axs,coords='map')\n",
    "    pos=axs.get_position()\n",
    "    axs2 = plt.axes(pos)\n",
    "    mesh1=axs2.pcolormesh(nav_lon,nav_lat,np.ma.masked_where(tmask[0,0,:,:]==1,tmask[0,0,:,:]),cmap='YlOrRd')\n",
    "    axs2.set_xlim(xl)\n",
    "    axs2.set_ylim(yl)\n",
    "    axs2.patch.set_alpha(0)\n",
    "    viz_tools.set_aspect(axs2,coords='map')\n",
    "\n",
    "\n",
    "    print (\"time: \", dt.datetime.now() - start)\n",
    "\n",
    "    plt.clf()\n",
    "\n",
    "    Iona = (-123.30898284912109, 49.187351226806641)\n",
    "    S15 = (-123.3114, 49.130412)\n",
    "    S16 = (-123.317415, 49.1214)\n",
    "\n",
    "\n",
    "    lonlim=[np.min(nav_lon),np.max(nav_lon)]\n",
    "    latlim=[np.min(nav_lat),np.max(nav_lat)]\n",
    "\n",
    "    griddata, iedges, jedges = np.histogram2d(points[:,1],points[:,2],bins=[100,200],range=[lonlim,latlim])\n",
    "\n",
    "\n",
    "\n",
    "\n",
    "    Jedges,Iedges=np.meshgrid(jedges,iedges)\n",
    "\n",
    "\n",
    "\n",
    "\n",
    "    Jedges.shape\n",
    "\n",
    "\n",
    "\n",
    "\n",
    "    griddata.shape\n",
    "\n",
    "\n",
    "\n",
    "\n",
    "    xl=(-125,-122.4)\n",
    "    yl=(48,50)\n",
    "    fig, axs = plt.subplots(1,1,figsize=(9,8))\n",
    "\n",
    "\n",
    "\n",
    "    mesh0 = axs.pcolormesh(Iedges,Jedges,griddata,cmap=cmap)\n",
    "\n",
    "    #-----------\n",
    "\n",
    "\n",
    "    # Make plot with vertical (default) colorbar\n",
    "\n",
    "\n",
    "    data = griddata\n",
    "\n",
    "    cax = axs.imshow(data, interpolation='nearest')\n",
    "    axs.set_title(\"Density plot for final positions after {} days\\n\".format(nday) +\n",
    "              \"26280 particles. 3 per hour in 2016. Initial depths(m): \")\n",
    "\n",
    "    # Add colorbar, make sure to specify tick locations to match desired ticklabels\n",
    "    cbar = fig.colorbar(cax)\n",
    "      # vertically oriented colorbar\n",
    "\n",
    "    cbar.set_label (\"Counts\")\n",
    "\n",
    "    #------------\n",
    "\n",
    "    axs.set_xlim(xl)\n",
    "    axs.set_ylim(yl)\n",
    "    #axs.plot(-124.0,49.5,'r*')\n",
    "    viz_tools.set_aspect(axs,coords='map')\n",
    "\n",
    "    pos=axs.get_position()\n",
    "    axs2 = plt.axes(pos)\n",
    "    mesh1=axs2.pcolormesh(nav_lon,nav_lat,np.ma.masked_where(tmask[0,0,:,:]==1,tmask[0,0,:,:]),cmap='YlOrRd')\n",
    "\n",
    "\n",
    "\n",
    "    axs2.set_xlim(xl)\n",
    "    axs2.set_ylim(yl)\n",
    "    axs2.patch.set_alpha(0)\n",
    "\n",
    "\n",
    "    el = Ellipse((2, -1), 0.5, 0.5)\n",
    "\n",
    "    axs2.annotate(\n",
    "            \"IONA\",\n",
    "            xy=(Iona[0], Iona[1]), xytext=(50, 10),\n",
    "            textcoords='offset points', ha='left', va='bottom', color = (0.937, 0.439, 0.043),\n",
    "            arrowprops=dict(arrowstyle=\"wedge,tail_width=1.\",\n",
    "                                      fc=(1,1,1), ec=(1., .5, .5),\n",
    "                                      patchA=None,\n",
    "                                      patchB=el,\n",
    "                                      relpos=(0.2, 0.8),\n",
    "                                      connectionstyle=\"arc3,rad=-0.1\"))\n",
    "\n",
    "\n",
    "    axs2.annotate(\n",
    "            \"STATION 15\",\n",
    "            xy=(S15[0],S15[1]), xytext=(50, 10),\n",
    "                textcoords='offset points', ha='left', va='bottom', color = \"blue\",\n",
    "            #bbox=dict(boxstyle='round,pad=0.5', fc='yellow', alpha=0.5),\n",
    "            arrowprops=dict(arrowstyle=\"wedge,tail_width=1.\",\n",
    "                                      fc=(1,1,1), ec=(1., .5, .5),\n",
    "                                      patchA=None,\n",
    "                                      patchB=el,\n",
    "                                      relpos=(0.2, 0.8),\n",
    "                                      connectionstyle=\"arc3,rad=-0.1\"))\n",
    "\n",
    "    axs2.annotate(\n",
    "            \"STATION 16\",\n",
    "            xy=(S16[0],S16[1]), xytext=(50, 10),\n",
    "            textcoords='offset points', ha='left', va='top', color = 'blue',\n",
    "            #bbox=dict(boxstyle='round,pad=0.5', fc='yellow', alpha=0.5),\n",
    "                              arrowprops=dict(arrowstyle=\"wedge,tail_width=1.\",\n",
    "                                      fc=(1,1,1), ec=(1., .5, .5),\n",
    "                                      patchA=None,\n",
    "                                      patchB=el,\n",
    "                                      relpos=(0.2, 0.8),\n",
    "                                      connectionstyle=\"arc3,rad=-0.1\"))\n",
    "\n",
    "\n",
    "\n",
    "    axs2.annotate(\n",
    "            \"JUAN DE FUCA\",\n",
    "            xy=(-124,48.21), xytext=(50, 10),\n",
    "            textcoords='offset points', ha='left', va='top', color = 'white')\n",
    "\n",
    "    viz_tools.set_aspect(axs2,coords='map')"
   ]
  },
  {
   "cell_type": "code",
   "execution_count": 7,
   "metadata": {
    "collapsed": false
   },
   "outputs": [],
   "source": [
    "dirs.sort()\n",
    "winter = spring = summer = fall = []"
   ]
  },
  {
   "cell_type": "code",
   "execution_count": null,
   "metadata": {
    "collapsed": false
   },
   "outputs": [
    {
     "name": "stdout",
     "output_type": "stream",
     "text": [
      "start 20160101_20160131_427d:  2017-04-15 21:13:59.915078\n",
      "time:  0:03:38.662320\n",
      "start 20160201_20160229_401d:  2017-04-15 21:17:38.578377\n"
     ]
    }
   ],
   "source": [
    "for file in dirs[0:3]:\n",
    "    month = get_pts(file)\n",
    "    winter += month"
   ]
  },
  {
   "cell_type": "code",
   "execution_count": null,
   "metadata": {
    "collapsed": true
   },
   "outputs": [],
   "source": [
    "for file in dirs[3:6]:\n",
    "    month = get_pts(file)\n",
    "    spring += month"
   ]
  },
  {
   "cell_type": "code",
   "execution_count": null,
   "metadata": {
    "collapsed": true
   },
   "outputs": [],
   "source": [
    "for file in dirs[6:9]:\n",
    "    month = get_pts(file)\n",
    "    summer += month"
   ]
  },
  {
   "cell_type": "code",
   "execution_count": null,
   "metadata": {
    "collapsed": true
   },
   "outputs": [],
   "source": [
    "for file in dirs[9:12]:\n",
    "    month = get_pts(file)\n",
    "    fall+= month"
   ]
  },
  {
   "cell_type": "code",
   "execution_count": null,
   "metadata": {
    "collapsed": false
   },
   "outputs": [],
   "source": [
    "\n",
    "points = np.array(winter) #back to original name. convert to np.array\n",
    "\n",
    "plot (points)"
   ]
  },
  {
   "cell_type": "code",
   "execution_count": null,
   "metadata": {
    "collapsed": true
   },
   "outputs": [],
   "source": [
    "\n",
    "points = np.array(spring) #back to original name. convert to np.array\n",
    "\n",
    "plot (points)"
   ]
  },
  {
   "cell_type": "code",
   "execution_count": null,
   "metadata": {
    "collapsed": false
   },
   "outputs": [],
   "source": [
    "\n",
    "points = np.array(summer) #back to original name. convert to np.array\n",
    "\n",
    "plot (points)"
   ]
  },
  {
   "cell_type": "code",
   "execution_count": null,
   "metadata": {
    "collapsed": true
   },
   "outputs": [],
   "source": [
    "points = np.array(fall) #back to original name. convert to np.array\n",
    "\n",
    "plot (points)"
   ]
  },
  {
   "cell_type": "code",
   "execution_count": null,
   "metadata": {
    "collapsed": true
   },
   "outputs": [],
   "source": []
  }
 ],
 "metadata": {
  "kernelspec": {
   "display_name": "Python 3",
   "language": "python",
   "name": "python3"
  },
  "language_info": {
   "codemirror_mode": {
    "name": "ipython",
    "version": 3
   },
   "file_extension": ".py",
   "mimetype": "text/x-python",
   "name": "python",
   "nbconvert_exporter": "python",
   "pygments_lexer": "ipython3",
   "version": "3.6.0"
  }
 },
 "nbformat": 4,
 "nbformat_minor": 2
}
