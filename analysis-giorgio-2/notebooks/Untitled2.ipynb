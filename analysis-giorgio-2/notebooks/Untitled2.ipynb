{
 "cells": [
  {
   "cell_type": "code",
   "execution_count": 6,
   "metadata": {
    "collapsed": false
   },
   "outputs": [
    {
     "name": "stdout",
     "output_type": "stream",
     "text": [
      "['20160101_20160131_427d', '20160201_20160229_401d', '20160301_20160331_355d', '20160401_20160430_325d', '20160501_20160531_294d', '20160601_20160630_264d', '20160701_20160731_252d', '20160801_20160831_217d', '20160901_20160930_172d', '20161001_20161031_141d', '20161101_20161130_111d', '20161201_20161231_95d']\n",
      "20160101_20160131_427d\n",
      "20160201_20160229_401d\n",
      "20160301_20160331_355d\n",
      "20160401_20160430_325d\n",
      "20160501_20160531_294d\n",
      "20160601_20160630_264d\n",
      "20160701_20160731_252d\n",
      "20160801_20160831_217d\n",
      "20160901_20160930_172d\n",
      "20161001_20161031_141d\n",
      "20161101_20161130_111d\n",
      "20161201_20161231_95d\n"
     ]
    }
   ],
   "source": [
    "# Get points for the year - this process should take about 42min for 12 months (3.5min per month)\n",
    "\n",
    "import os\n",
    "\n",
    "path = \"/ocean/gsgarbi/analysis-giorgio/time_series/results2016/\"\n",
    "\n",
    "dirs = os.listdir( path )\n",
    "\n",
    "year_p1 = year_p2 = year_p3 = []\n",
    "\n",
    "dirs.sort()\n",
    "\n",
    "print (dirs)\n",
    "\n",
    "for file in dirs:\n",
    "    print (file)"
   ]
  },
  {
   "cell_type": "code",
   "execution_count": null,
   "metadata": {
    "collapsed": true
   },
   "outputs": [],
   "source": []
  }
 ],
 "metadata": {
  "kernelspec": {
   "display_name": "Python 3",
   "language": "python",
   "name": "python3"
  },
  "language_info": {
   "codemirror_mode": {
    "name": "ipython",
    "version": 3
   },
   "file_extension": ".py",
   "mimetype": "text/x-python",
   "name": "python",
   "nbconvert_exporter": "python",
   "pygments_lexer": "ipython3",
   "version": "3.6.0"
  }
 },
 "nbformat": 4,
 "nbformat_minor": 2
}
