{
 "cells": [
  {
   "cell_type": "code",
   "execution_count": 7,
   "metadata": {
    "collapsed": false
   },
   "outputs": [],
   "source": [
    "import datetime as dt\n",
    "import os, sys\n",
    "import netCDF4 as nc\n",
    "import matplotlib as mpl\n",
    "import numpy as np\n",
    "import numpy.ma as ma\n",
    "from scipy.spatial import distance\n",
    "import matplotlib\n",
    "from matplotlib import pyplot as plt\n",
    "from matplotlib.patches import Ellipse\n",
    "from matplotlib import cm\n",
    "import matplotlib.colors as mpl_colors\n",
    "from matplotlib import rc\n",
    "from mpl_toolkits.axes_grid1 import make_axes_locatable\n",
    "\n",
    "\n",
    "from salishsea_tools import geo_tools, viz_tools\n",
    "\n",
    "get_ipython().magic('matplotlib inline')"
   ]
  },
  {
   "cell_type": "markdown",
   "metadata": {},
   "source": [
    "<b> Parameters </b>"
   ]
  },
  {
   "cell_type": "code",
   "execution_count": 8,
   "metadata": {
    "collapsed": false
   },
   "outputs": [],
   "source": [
    "#Parameters\n",
    "\n",
    "cmap = plt.get_cmap('nipy_spectral')\n",
    "cmap.set_bad('burlywood')\n",
    "\n",
    "H = 24 #One day in hours\n",
    "\n",
    "#Ariane parameters\n",
    "tunit= 3600\n",
    "\n",
    "outint = 20 * 60 # 20 min in seconds\n",
    "\n",
    "pph = int(tunit / outint) #points per hour\n",
    "\n",
    "lmt = 1896 #points per particle\n",
    "\n",
    "\n",
    "#RUN parameters\n",
    "\n",
    "nday= 10\n",
    "\n",
    "RAWDIR = \"/ocean/gsgarbi/analysis-giorgio/time_series/results2/2016+jan2017/\"\n",
    "\n",
    "FILESDIR = \"/ocean/gsgarbi/analysis-giorgio/selected_days/\"\n",
    "\n",
    "dirs = os.listdir(RAWDIR)\n",
    "\n",
    "dirs = sorted(dirs)\n",
    "\n",
    "dirs = dirs[:12]\n",
    "\n",
    "position = nday * pph * H # d * num/h * h/d = num"
   ]
  },
  {
   "cell_type": "markdown",
   "metadata": {
    "collapsed": true
   },
   "source": [
    "<b> Function to get points after <i> nday </i> days from an indiviual month </b>"
   ]
  },
  {
   "cell_type": "code",
   "execution_count": 9,
   "metadata": {
    "collapsed": false
   },
   "outputs": [],
   "source": [
    "def get_pts(direct):\n",
    "    \n",
    "    points = []\n",
    "    \n",
    "    particle = 1 #start particle counter\n",
    "    \n",
    "    start = dt.datetime.now()\n",
    "    print (\"start {}: \".format(direct), start)\n",
    "\n",
    "\n",
    "    with open(RAWDIR + direct + \"/traj.txt\") as file:\n",
    "\n",
    "        for i, line in enumerate(file):\n",
    "\n",
    "            line = line.strip('\\n').split()\n",
    "\n",
    "            line = [float(k) for k in line]\n",
    "\n",
    "\n",
    "            if line[0] == particle:\n",
    "                index = i + position\n",
    "                particle += 1\n",
    "\n",
    "            if i == index:\n",
    "                points.append (line)\n",
    "                \n",
    "        print (\"time: \", dt.datetime.now() - start)\n",
    "                \n",
    "                \n",
    "    return points"
   ]
  },
  {
   "cell_type": "markdown",
   "metadata": {},
   "source": [
    "<b> Function to load points from a individual points </b>"
   ]
  },
  {
   "cell_type": "code",
   "execution_count": 10,
   "metadata": {
    "collapsed": false
   },
   "outputs": [],
   "source": [
    "def load_pts(direct):\n",
    "    myArray = np.load(open(FILESDIR + \"10d.npy\", 'rb'))\n",
    "    return myArray\n"
   ]
  },
  {
   "cell_type": "markdown",
   "metadata": {},
   "source": [
    "<b> Load 2016 </b>"
   ]
  },
  {
   "cell_type": "code",
   "execution_count": 12,
   "metadata": {
    "collapsed": false
   },
   "outputs": [
    {
     "name": "stdout",
     "output_type": "stream",
     "text": [
      "start 20160101_20160131_365d:  2017-06-05 15:28:12.219912\n",
      "time:  0:01:55.473652\n",
      "got points for 20160101_20160131_365d\n",
      "saved points for 20160101_20160131_365d \n",
      "\n",
      "start 20160201_20160229_365d:  2017-06-05 15:30:07.701616\n",
      "time:  0:01:47.423858\n",
      "got points for 20160201_20160229_365d\n",
      "saved points for 20160201_20160229_365d \n",
      "\n",
      "start 20160301_20160331_355d:  2017-06-05 15:31:55.140880\n",
      "time:  0:01:53.536917\n",
      "got points for 20160301_20160331_355d\n",
      "saved points for 20160301_20160331_355d \n",
      "\n",
      "start 20160401_20160430_325d:  2017-06-05 15:33:48.686050\n",
      "time:  0:01:39.116699\n",
      "got points for 20160401_20160430_325d\n",
      "saved points for 20160401_20160430_325d \n",
      "\n",
      "start 20160501_20160531_294d:  2017-06-05 15:35:27.811654\n",
      "time:  0:01:33.759785\n",
      "got points for 20160501_20160531_294d\n",
      "saved points for 20160501_20160531_294d \n",
      "\n",
      "start 20160601_20160630_264d:  2017-06-05 15:37:01.579185\n",
      "time:  0:01:21.309609\n",
      "got points for 20160601_20160630_264d\n",
      "saved points for 20160601_20160630_264d \n",
      "\n",
      "start 20160701_20160731_252d:  2017-06-05 15:38:22.896257\n",
      "time:  0:01:21.148009\n",
      "got points for 20160701_20160731_252d\n",
      "saved points for 20160701_20160731_252d \n",
      "\n",
      "start 20160801_20160831_217d:  2017-06-05 15:39:44.052048\n",
      "time:  0:01:09.044482\n",
      "got points for 20160801_20160831_217d\n",
      "saved points for 20160801_20160831_217d \n",
      "\n",
      "start 20160901_20160930_172d:  2017-06-05 15:40:53.103448\n",
      "time:  0:00:52.526058\n",
      "got points for 20160901_20160930_172d\n",
      "saved points for 20160901_20160930_172d \n",
      "\n",
      "start 20161001_20161031_141d:  2017-06-05 15:41:45.647704\n",
      "time:  0:00:45.367675\n",
      "got points for 20161001_20161031_141d\n",
      "saved points for 20161001_20161031_141d \n",
      "\n",
      "start 20161101_20161130_111d:  2017-06-05 15:42:31.025791\n",
      "time:  0:00:34.367646\n",
      "got points for 20161101_20161130_111d\n",
      "saved points for 20161101_20161130_111d \n",
      "\n",
      "start 20161201_20161231_109d:  2017-06-05 15:43:05.401511\n",
      "time:  0:00:42.163037\n",
      "got points for 20161201_20161231_109d\n",
      "saved points for 20161201_20161231_109d \n",
      "\n"
     ]
    }
   ],
   "source": [
    "for mon_file in dirs:\n",
    "    mon = get_pts(mon_file)\n",
    "    print (\"got points for {}\".format(mon_file))\n",
    "    np.array(mon).dump(open(FILESDIR + mon_file[:17] + \"_{}d.npy\".format(nday), 'wb'))\n",
    "    print (\"saved points for {} \\n\".format(mon_file))\n",
    "\n"
   ]
  },
  {
   "cell_type": "code",
   "execution_count": null,
   "metadata": {
    "collapsed": true
   },
   "outputs": [],
   "source": []
  },
  {
   "cell_type": "code",
   "execution_count": null,
   "metadata": {
    "collapsed": true
   },
   "outputs": [],
   "source": [
    "for nday in range (10)"
   ]
  },
  {
   "cell_type": "code",
   "execution_count": null,
   "metadata": {
    "collapsed": false
   },
   "outputs": [],
   "source": []
  },
  {
   "cell_type": "code",
   "execution_count": null,
   "metadata": {
    "collapsed": true
   },
   "outputs": [],
   "source": []
  }
 ],
 "metadata": {
  "kernelspec": {
   "display_name": "Python 3",
   "language": "python",
   "name": "python3"
  },
  "language_info": {
   "codemirror_mode": {
    "name": "ipython",
    "version": 3
   },
   "file_extension": ".py",
   "mimetype": "text/x-python",
   "name": "python",
   "nbconvert_exporter": "python",
   "pygments_lexer": "ipython3",
   "version": "3.6.0"
  }
 },
 "nbformat": 4,
 "nbformat_minor": 2
}
