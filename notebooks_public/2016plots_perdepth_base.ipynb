{
 "cells": [
  {
   "cell_type": "code",
   "execution_count": 1,
   "metadata": {
    "collapsed": false
   },
   "outputs": [],
   "source": [
    "import datetime as dt\n",
    "import os, sys\n",
    "import netCDF4 as nc\n",
    "import matplotlib as mpl\n",
    "import numpy as np\n",
    "import numpy.ma as ma\n",
    "from scipy.spatial import distance\n",
    "import matplotlib\n",
    "from matplotlib import pyplot as plt\n",
    "from matplotlib.patches import Ellipse\n",
    "from matplotlib import cm\n",
    "import matplotlib.colors as mpl_colors\n",
    "from matplotlib import rc\n",
    "from mpl_toolkits.axes_grid1 import make_axes_locatable\n",
    "\n",
    "\n",
    "\n",
    "from salishsea_tools import geo_tools, viz_tools\n",
    "\n",
    "get_ipython().magic('matplotlib inline')"
   ]
  },
  {
   "cell_type": "code",
   "execution_count": 2,
   "metadata": {
    "collapsed": false
   },
   "outputs": [],
   "source": [
    "#Parameters\n",
    "\n",
    "cmap = plt.get_cmap('nipy_spectral')\n",
    "cmap.set_bad('burlywood')\n",
    "\n",
    "H = 24 #One day in hours\n",
    "\n",
    "#Ariane parameters\n",
    "tunit= 3600\n",
    "\n",
    "outint = 20 * 60 # 20 min in seconds\n",
    "\n",
    "pph = int(tunit / outint) #points per hour\n",
    "\n",
    "lmt = 1896 #points per particle\n",
    "\n",
    "\n",
    "#RUN parameters\n",
    "\n",
    "nday= 50\n",
    "\n",
    "basedir = \"/ocean/gsgarbi/analysis-giorgio/time_series/results2016/\"\n",
    "\n",
    "plotsdir = \"/ocean/gsgarbi/analysis-giorgio/time_series/results2016/plots\"\n",
    "\n",
    "\n",
    "position = nday * pph * H # d * num/h * h/d = num"
   ]
  },
  {
   "cell_type": "code",
   "execution_count": null,
   "metadata": {
    "collapsed": true
   },
   "outputs": [],
   "source": []
  },
  {
   "cell_type": "code",
   "execution_count": 3,
   "metadata": {
    "collapsed": false
   },
   "outputs": [],
   "source": [
    "#function to get points from an indiviual month\n",
    "\n",
    "def get_pts(direct):\n",
    "    \n",
    "    points = []\n",
    "        \n",
    "    particle = 1 #start particle counter\n",
    "    \n",
    "    start = dt.datetime.now()\n",
    "    print (\"start {}: \".format(direct), start)\n",
    "\n",
    "\n",
    "    with open(basedir + direct + \"/traj.txt\") as file:\n",
    "\n",
    "        for i, line in enumerate(file):\n",
    "\n",
    "            line = line.strip('\\n').split()\n",
    "\n",
    "            line = [float(k) for k in line]\n",
    "\n",
    "            line = np.array(line)\n",
    "\n",
    "\n",
    "            if line[0] == particle:\n",
    "                index = i + position\n",
    "                particle += 1\n",
    "\n",
    "            if i == index:\n",
    "                points.append (line)\n",
    "                \n",
    "        print (\"time: \", dt.datetime.now() - start)\n",
    "                \n",
    "                \n",
    "    return points"
   ]
  },
  {
   "cell_type": "code",
   "execution_count": 4,
   "metadata": {
    "collapsed": false
   },
   "outputs": [],
   "source": [
    "# # test cell\n",
    "\n",
    "# year0 = year1 = year2 = [] #for each depth\n",
    "\n",
    "# jan = get_pts(\"/ocean/gsgarbi/analysis-giorgio/time_series/results2016/20160101_20160131_427d/\")\n",
    "\n",
    "# feb = get_pts(\"/ocean/gsgarbi/analysis-giorgio/time_series/results2016/20160201_20160229_401d/\")\n",
    "\n",
    "\n",
    "# year0 = jan[0::3] + feb[0::3]\n",
    "# year1 = jan[1::3] + feb[1::3]\n",
    "# year2 = jan[2::3] + feb[2::3]\n",
    "\n"
   ]
  },
  {
   "cell_type": "code",
   "execution_count": 5,
   "metadata": {
    "collapsed": false
   },
   "outputs": [],
   "source": [
    "# Get points for the year - this process should take about 42min for 12 months (3.5min per month)\n",
    "\n",
    "path = \"/ocean/gsgarbi/analysis-giorgio/time_series/results2016/\"\n",
    "\n",
    "dirs = os.listdir( path )\n",
    "\n",
    "dirs.sort()\n",
    "\n",
    "dirs = dirs [0:12]\n",
    "    \n"
   ]
  },
  {
   "cell_type": "code",
   "execution_count": null,
   "metadata": {
    "collapsed": false
   },
   "outputs": [],
   "source": [
    "\n"
   ]
  },
  {
   "cell_type": "code",
   "execution_count": 6,
   "metadata": {
    "collapsed": false
   },
   "outputs": [],
   "source": [
    "def plot(points, title = 'title', picname = \"noname\"):\n",
    "    \n",
    "    Iona = (-123.30898284912109, 49.187351226806641)\n",
    "    S15 = (-123.3114, 49.130412)\n",
    "    S16 = (-123.317415, 49.1214)\n",
    "    xl=(-126.2,-122.2)\n",
    "    yl=(47.1,51)\n",
    "\n",
    "\n",
    "\n",
    "    #prepare plot and constants\n",
    "    plt.clf()\n",
    "    start = dt.datetime.now()\n",
    "    print (\"start: \", start)\n",
    "#     np.shape(points)\n",
    "    mesh = nc.Dataset(\"/ocean/gsgarbi/mesh_mask_downbyone2.nc\")\n",
    "    tmask=np.copy(mesh.variables['tmask'])\n",
    "    mesh.close()\n",
    "    fb=nc.Dataset('/ocean/eolson/MEOPAR/NEMO-forcing/grid/bathy_downonegrid2.nc')\n",
    "    nav_lon=np.copy(fb.variables['nav_lon'])\n",
    "    nav_lat=np.copy(fb.variables['nav_lat'])\n",
    "    fb.close()\n",
    "    \n",
    "    lonlim=[np.min(nav_lon),np.max(nav_lon)]\n",
    "    latlim=[np.min(nav_lat),np.max(nav_lat)]\n",
    "\n",
    "\n",
    "    griddata=0.0*tmask[0,0,:,:]\n",
    "    griddata.shape\n",
    "#     np.shape(points)[0]\n",
    "\n",
    "    griddata, iedges, jedges = np.histogram2d(points[:,1],points[:,2],bins=[100,200],range=[lonlim,latlim])\n",
    "\n",
    "\n",
    "    Jedges,Iedges=np.meshgrid(jedges,iedges)\n",
    "    \n",
    "\n",
    "    fig, axs = plt.subplots(1,1,figsize=(9,8))\n",
    "    mesh0 = axs.pcolormesh(Iedges,Jedges,griddata,cmap=cmap)\n",
    "    mesh0.set_clim(vmin = 0, vmax = 40)\n",
    "    axs.set_xlim(xl)\n",
    "    axs.set_ylim(yl)\n",
    "    pos=axs.get_position()\n",
    "    pos2=(pos.bounds[0],pos.bounds[1],pos.bounds[2]-.05,pos.bounds[3])\n",
    "    axs.set_position(pos2)\n",
    "    axs2 = plt.axes(pos2)\n",
    "    viz_tools.set_aspect(axs,coords='map')\n",
    "    mesh1=axs2.pcolormesh(nav_lon,nav_lat,np.ma.masked_where(tmask[0,0,:,:]==1,tmask[0,0,:,:]),cmap='YlOrRd')\n",
    "    axs2.set_xlim(xl)\n",
    "    axs2.set_ylim(yl)\n",
    "    axs2.patch.set_alpha(0)\n",
    "    viz_tools.set_aspect(axs2,coords='map')\n",
    "    axsCB=plt.axes((pos2[0]+pos2[3],pos2[1],.02,pos2[3]))\n",
    "    cbar = fig.colorbar(mesh0,cax=axsCB)\n",
    "    cbar.set_label (\"Counts\")\n",
    "    \n",
    "    axs.set_title( title + \"\\n Total of trajectories: {}\".format( int(np.sum(griddata)) ) )\n",
    "    \n",
    "    el = Ellipse((2, -1), 0.5, 0.5)\n",
    "\n",
    "    axs2.annotate(\n",
    "            \"IONA\",\n",
    "            xy=(Iona[0], Iona[1]), xytext=(50, 10),\n",
    "            textcoords='offset points', ha='left', va='bottom', color = (0.937, 0.439, 0.043),\n",
    "            arrowprops=dict(arrowstyle=\"wedge,tail_width=1.\",\n",
    "                                      fc=(1,1,1), ec=(1., .5, .5),\n",
    "                                      patchA=None,\n",
    "                                      patchB=el,\n",
    "                                      relpos=(0.2, 0.8),\n",
    "                                      connectionstyle=\"arc3,rad=-0.1\"))\n",
    "\n",
    "    \n",
    "    plt.savefig(picname)"
   ]
  },
  {
   "cell_type": "code",
   "execution_count": 7,
   "metadata": {
    "collapsed": false
   },
   "outputs": [
    {
     "name": "stdout",
     "output_type": "stream",
     "text": [
      "start 20160101_20160131_427d:  2017-04-21 12:46:36.497840\n"
     ]
    },
    {
     "ename": "KeyboardInterrupt",
     "evalue": "",
     "output_type": "error",
     "traceback": [
      "\u001b[0;31m---------------------------------------------------------------------------\u001b[0m",
      "\u001b[0;31mKeyboardInterrupt\u001b[0m                         Traceback (most recent call last)",
      "\u001b[0;32m<ipython-input-7-c2f8f447e609>\u001b[0m in \u001b[0;36m<module>\u001b[0;34m()\u001b[0m\n\u001b[1;32m      4\u001b[0m \u001b[0;34m\u001b[0m\u001b[0m\n\u001b[1;32m      5\u001b[0m \u001b[0;32mfor\u001b[0m \u001b[0mfile\u001b[0m \u001b[0;32min\u001b[0m \u001b[0mdirs\u001b[0m\u001b[0;34m:\u001b[0m\u001b[0;34m\u001b[0m\u001b[0m\n\u001b[0;32m----> 6\u001b[0;31m     \u001b[0mmonth\u001b[0m \u001b[0;34m=\u001b[0m \u001b[0mget_pts\u001b[0m\u001b[0;34m(\u001b[0m\u001b[0mfile\u001b[0m\u001b[0;34m)\u001b[0m\u001b[0;34m\u001b[0m\u001b[0m\n\u001b[0m\u001b[1;32m      7\u001b[0m     \u001b[0myear1\u001b[0m \u001b[0;34m+=\u001b[0m \u001b[0mmonth\u001b[0m \u001b[0;34m[\u001b[0m\u001b[0;36m0\u001b[0m\u001b[0;34m:\u001b[0m\u001b[0;34m:\u001b[0m\u001b[0;36m3\u001b[0m\u001b[0;34m]\u001b[0m\u001b[0;34m\u001b[0m\u001b[0m\n\u001b[1;32m      8\u001b[0m     \u001b[0myear2\u001b[0m \u001b[0;34m+=\u001b[0m \u001b[0mmonth\u001b[0m \u001b[0;34m[\u001b[0m\u001b[0;36m1\u001b[0m\u001b[0;34m:\u001b[0m\u001b[0;34m:\u001b[0m\u001b[0;36m3\u001b[0m\u001b[0;34m]\u001b[0m\u001b[0;34m\u001b[0m\u001b[0m\n",
      "\u001b[0;32m<ipython-input-3-ef6d204f6561>\u001b[0m in \u001b[0;36mget_pts\u001b[0;34m(direct)\u001b[0m\n\u001b[1;32m     17\u001b[0m             \u001b[0mline\u001b[0m \u001b[0;34m=\u001b[0m \u001b[0mline\u001b[0m\u001b[0;34m.\u001b[0m\u001b[0mstrip\u001b[0m\u001b[0;34m(\u001b[0m\u001b[0;34m'\\n'\u001b[0m\u001b[0;34m)\u001b[0m\u001b[0;34m.\u001b[0m\u001b[0msplit\u001b[0m\u001b[0;34m(\u001b[0m\u001b[0;34m)\u001b[0m\u001b[0;34m\u001b[0m\u001b[0m\n\u001b[1;32m     18\u001b[0m \u001b[0;34m\u001b[0m\u001b[0m\n\u001b[0;32m---> 19\u001b[0;31m             \u001b[0mline\u001b[0m \u001b[0;34m=\u001b[0m \u001b[0;34m[\u001b[0m\u001b[0mfloat\u001b[0m\u001b[0;34m(\u001b[0m\u001b[0mk\u001b[0m\u001b[0;34m)\u001b[0m \u001b[0;32mfor\u001b[0m \u001b[0mk\u001b[0m \u001b[0;32min\u001b[0m \u001b[0mline\u001b[0m\u001b[0;34m]\u001b[0m\u001b[0;34m\u001b[0m\u001b[0m\n\u001b[0m\u001b[1;32m     20\u001b[0m \u001b[0;34m\u001b[0m\u001b[0m\n\u001b[1;32m     21\u001b[0m             \u001b[0mline\u001b[0m \u001b[0;34m=\u001b[0m \u001b[0mnp\u001b[0m\u001b[0;34m.\u001b[0m\u001b[0marray\u001b[0m\u001b[0;34m(\u001b[0m\u001b[0mline\u001b[0m\u001b[0;34m)\u001b[0m\u001b[0;34m\u001b[0m\u001b[0m\n",
      "\u001b[0;32m<ipython-input-3-ef6d204f6561>\u001b[0m in \u001b[0;36m<listcomp>\u001b[0;34m(.0)\u001b[0m\n\u001b[1;32m     17\u001b[0m             \u001b[0mline\u001b[0m \u001b[0;34m=\u001b[0m \u001b[0mline\u001b[0m\u001b[0;34m.\u001b[0m\u001b[0mstrip\u001b[0m\u001b[0;34m(\u001b[0m\u001b[0;34m'\\n'\u001b[0m\u001b[0;34m)\u001b[0m\u001b[0;34m.\u001b[0m\u001b[0msplit\u001b[0m\u001b[0;34m(\u001b[0m\u001b[0;34m)\u001b[0m\u001b[0;34m\u001b[0m\u001b[0m\n\u001b[1;32m     18\u001b[0m \u001b[0;34m\u001b[0m\u001b[0m\n\u001b[0;32m---> 19\u001b[0;31m             \u001b[0mline\u001b[0m \u001b[0;34m=\u001b[0m \u001b[0;34m[\u001b[0m\u001b[0mfloat\u001b[0m\u001b[0;34m(\u001b[0m\u001b[0mk\u001b[0m\u001b[0;34m)\u001b[0m \u001b[0;32mfor\u001b[0m \u001b[0mk\u001b[0m \u001b[0;32min\u001b[0m \u001b[0mline\u001b[0m\u001b[0;34m]\u001b[0m\u001b[0;34m\u001b[0m\u001b[0m\n\u001b[0m\u001b[1;32m     20\u001b[0m \u001b[0;34m\u001b[0m\u001b[0m\n\u001b[1;32m     21\u001b[0m             \u001b[0mline\u001b[0m \u001b[0;34m=\u001b[0m \u001b[0mnp\u001b[0m\u001b[0;34m.\u001b[0m\u001b[0marray\u001b[0m\u001b[0;34m(\u001b[0m\u001b[0mline\u001b[0m\u001b[0;34m)\u001b[0m\u001b[0;34m\u001b[0m\u001b[0m\n",
      "\u001b[0;31mKeyboardInterrupt\u001b[0m: "
     ]
    }
   ],
   "source": [
    "year1 = []\n",
    "year2 = []\n",
    "year3 = []\n",
    "\n",
    "for file in dirs:\n",
    "    month = get_pts(file)\n",
    "    year1 += month [0::3]\n",
    "    year2 += month [1::3]\n",
    "    year3 += month [2::3]\n"
   ]
  },
  {
   "cell_type": "code",
   "execution_count": null,
   "metadata": {
    "collapsed": false
   },
   "outputs": [],
   "source": [
    "#check pickle later"
   ]
  },
  {
   "cell_type": "code",
   "execution_count": null,
   "metadata": {
    "collapsed": false
   },
   "outputs": [],
   "source": [
    "points = np.array(year1) #back to original name. convert to np.array\n",
    "\n",
    "depth = 45\n",
    "\n",
    "title = (\n",
    "    \"Density plot for final positions after {} days\\n\"\n",
    "    \"Particles released at Iona, 1 per hour, everyday in 2016.\\n\"\n",
    "    \"Initial depth: {}m\".format(nday, depth)\n",
    ")\n",
    "\n",
    "picname = \"/ocean/gsgarbi/analysis-giorgio/2017apr20_presentation/{}d_{}m\".format(nday, depth)\n",
    "\n",
    "f45 = plot (points, title, picname)"
   ]
  },
  {
   "cell_type": "code",
   "execution_count": null,
   "metadata": {
    "collapsed": false
   },
   "outputs": [],
   "source": [
    "points = np.array(year2) #back to original name. convert to np.array\n",
    "\n",
    "picname = \"/ocean/gsgarbi/analysis-giorgio/2017apr20_presentation/{}d_{}m\".format(nday, depth)\n",
    "depth = 59\n",
    "\n",
    "title = (\n",
    "    \"Density plot for final positions after {} days\\n\"\n",
    "    \"Particles released at Iona, 1 per hour, everyday in 2016.\\n\"\n",
    "    \"Initial depth: {}m\".format(nday, depth)\n",
    ")\n",
    "\n",
    "f59 = plot (points, title, picname)"
   ]
  },
  {
   "cell_type": "code",
   "execution_count": null,
   "metadata": {
    "collapsed": false
   },
   "outputs": [],
   "source": [
    "points = np.array(year3) #back to original name. convert to np.array\n",
    "\n",
    "depth = 77\n",
    "\n",
    "picname = \"/ocean/gsgarbi/analysis-giorgio/2017apr20_presentation/{}d_{}m\".format(nday, depth)\n",
    "\n",
    "title = (\n",
    "    \"Density plot for final positions after {} days\\n\"\n",
    "    \"Particles released at Iona, 1 per hour, everyday in 2016.\\n\"\n",
    "    \"Initial depth: {}m\".format(nday, depth)\n",
    ")"
   ]
  },
  {
   "cell_type": "code",
   "execution_count": null,
   "metadata": {
    "collapsed": false
   },
   "outputs": [],
   "source": []
  },
  {
   "cell_type": "code",
   "execution_count": null,
   "metadata": {
    "collapsed": false
   },
   "outputs": [],
   "source": []
  },
  {
   "cell_type": "code",
   "execution_count": null,
   "metadata": {
    "collapsed": true
   },
   "outputs": [],
   "source": []
  }
 ],
 "metadata": {
  "kernelspec": {
   "display_name": "Python 3",
   "language": "python",
   "name": "python3"
  },
  "language_info": {
   "codemirror_mode": {
    "name": "ipython",
    "version": 3
   },
   "file_extension": ".py",
   "mimetype": "text/x-python",
   "name": "python",
   "nbconvert_exporter": "python",
   "pygments_lexer": "ipython3",
   "version": "3.6.0"
  }
 },
 "nbformat": 4,
 "nbformat_minor": 2
}
