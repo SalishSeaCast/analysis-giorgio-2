{
 "cells": [
  {
   "cell_type": "code",
   "execution_count": 4,
   "metadata": {
    "collapsed": false
   },
   "outputs": [
    {
     "name": "stdout",
     "output_type": "stream",
     "text": [
      "20160201_20160229_401d/traj.txt\n",
      "20160401_20160430_325d/traj.txt\n",
      "20170101_20170131_49d/traj.txt\n",
      "20170201_20170228_21d/traj.txt\n",
      "20161101_20161130_111d/traj.txt\n",
      "20160101_20160131_427d/traj.txt\n",
      "20160601_20160630_264d/traj.txt\n",
      "20160901_20160930_172d/traj.txt\n",
      "20161001_20161031_141d/traj.txt\n",
      "20160301_20160331_355d/traj.txt\n",
      "20160801_20160831_217d/traj.txt\n",
      "20160501_20160531_294d/traj.txt\n",
      "20161201_20161231_95d/traj.txt\n"
     ]
    }
   ],
   "source": [
    "import os, sys\n",
    "\n",
    "# Open a file\n",
    "direct = \"/ocean/gsgarbi/analysis-giorgio/time_series/results2\"\n",
    "path = direct\n",
    "dirs = os.listdir( path )\n",
    "\n",
    "# This would print all the files and directories\n",
    "for file in dirs:\n",
    "   print (file + \"/traj.txt\")"
   ]
  },
  {
   "cell_type": "code",
   "execution_count": 3,
   "metadata": {
    "collapsed": false
   },
   "outputs": [
    {
     "data": {
      "text/plain": [
       "str"
      ]
     },
     "execution_count": 3,
     "metadata": {},
     "output_type": "execute_result"
    }
   ],
   "source": [
    "type (file)"
   ]
  },
  {
   "cell_type": "code",
   "execution_count": 9,
   "metadata": {
    "collapsed": false
   },
   "outputs": [
    {
     "name": "stdout",
     "output_type": "stream",
     "text": [
      "1 -123.30807 49.19026 -45.04105 .00000\n",
      "\n",
      "1 -123.30807 49.19026 -45.04105 .00000\n",
      "\n"
     ]
    }
   ],
   "source": [
    "for i in (\"/ocean/gsgarbi/analysis-giorgio/time_series/results2/20160201_20160229_401d\", \"/ocean/gsgarbi/analysis-giorgio/time_series/results2/20160401_20160430_325d\"):\n",
    "    with open(i + \"/traj.txt\") as file:\n",
    "        line = file.readline()\n",
    "        print (line)"
   ]
  },
  {
   "cell_type": "code",
   "execution_count": null,
   "metadata": {
    "collapsed": true
   },
   "outputs": [],
   "source": []
  }
 ],
 "metadata": {
  "kernelspec": {
   "display_name": "Python 3",
   "language": "python",
   "name": "python3"
  },
  "language_info": {
   "codemirror_mode": {
    "name": "ipython",
    "version": 3
   },
   "file_extension": ".py",
   "mimetype": "text/x-python",
   "name": "python",
   "nbconvert_exporter": "python",
   "pygments_lexer": "ipython3",
   "version": "3.6.0"
  }
 },
 "nbformat": 4,
 "nbformat_minor": 2
}
