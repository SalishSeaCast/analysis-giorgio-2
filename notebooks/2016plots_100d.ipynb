{
 "cells": [
  {
   "cell_type": "code",
   "execution_count": 11,
   "metadata": {
    "collapsed": true
   },
   "outputs": [],
   "source": [
    "import datetime as dt\n",
    "import os, sys\n",
    "import netCDF4 as nc\n",
    "import matplotlib as mpl\n",
    "import numpy as np\n",
    "import numpy.ma as ma\n",
    "from scipy.spatial import distance\n",
    "import matplotlib\n",
    "from matplotlib import pyplot as plt\n",
    "from matplotlib.patches import Ellipse\n",
    "from matplotlib import cm\n",
    "import matplotlib.colors as mpl_colors\n",
    "from matplotlib import rc\n",
    "from mpl_toolkits.axes_grid1 import make_axes_locatable\n",
    "\n",
    "\n",
    "from salishsea_tools import geo_tools, viz_tools\n",
    "\n",
    "get_ipython().magic('matplotlib inline')"
   ]
  },
  {
   "cell_type": "code",
   "execution_count": null,
   "metadata": {
    "collapsed": true
   },
   "outputs": [],
   "source": []
  },
  {
   "cell_type": "code",
   "execution_count": 12,
   "metadata": {
    "collapsed": false
   },
   "outputs": [],
   "source": [
    "#Parameters\n",
    "\n",
    "cmap = plt.get_cmap('nipy_spectral')\n",
    "cmap.set_bad('burlywood')\n",
    "\n",
    "H = 24 #One day in hours\n",
    "\n",
    "#Ariane parameters\n",
    "tunit= 3600\n",
    "\n",
    "outint = 20 * 60 # 20 min in seconds\n",
    "\n",
    "pph = int(tunit / outint) #points per hour\n",
    "\n",
    "lmt = 1896 #points per particle\n",
    "\n",
    "\n",
    "#RUN parameters\n",
    "\n",
    "nday= 100\n",
    "\n",
    "plotsdir = \"/ocean/gsgarbi/analysis-giorgio/time_series/results2016/plots\"\n",
    "\n",
    "\n",
    "position = nday * pph * H # d * num/h * h/d = num"
   ]
  },
  {
   "cell_type": "code",
   "execution_count": null,
   "metadata": {
    "collapsed": true
   },
   "outputs": [],
   "source": []
  },
  {
   "cell_type": "code",
   "execution_count": 13,
   "metadata": {
    "collapsed": false
   },
   "outputs": [],
   "source": [
    "#function to get points from an indiviual month\n",
    "\n",
    "def getpts(direct):\n",
    "    \n",
    "    points = []\n",
    "    \n",
    "    particle = 1 #start particle counter\n",
    "    \n",
    "    start = dt.datetime.now()\n",
    "    print (\"start {}: \".format(direct), start)\n",
    "\n",
    "\n",
    "    with open(direct + \"/traj.txt\") as file:\n",
    "\n",
    "        for i, line in enumerate(file):\n",
    "\n",
    "            line = line.strip('\\n').split()\n",
    "\n",
    "            line = [float(k) for k in line]\n",
    "\n",
    "            line = np.array(line)\n",
    "\n",
    "\n",
    "            if line[0] == particle:\n",
    "                index = i + position\n",
    "                particle += 1\n",
    "\n",
    "            if i == index:\n",
    "                points.append (line)\n",
    "                \n",
    "        print (\"time: \", dt.datetime.now() - start)\n",
    "                \n",
    "                \n",
    "    return points"
   ]
  },
  {
   "cell_type": "code",
   "execution_count": 14,
   "metadata": {
    "collapsed": false
   },
   "outputs": [],
   "source": [
    "# test cell\n",
    "\n",
    "# jan = get_pts(\"/ocean/gsgarbi/analysis-giorgio/time_series/results2016/20160101_20160131_427d/\")\n",
    "\n",
    "#feb = get_pts(\"/ocean/gsgarbi/analysis-giorgio/time_series/results2016/20160201_20160229_401d/\")"
   ]
  },
  {
   "cell_type": "code",
   "execution_count": 15,
   "metadata": {
    "collapsed": false
   },
   "outputs": [
    {
     "name": "stdout",
     "output_type": "stream",
     "text": [
      "start /ocean/gsgarbi/analysis-giorgio/time_series/results2016/20160201_20160229_401d:  2017-04-14 12:25:22.127484\n",
      "time:  0:03:12.201831\n",
      "start /ocean/gsgarbi/analysis-giorgio/time_series/results2016/20160401_20160430_325d:  2017-04-14 12:28:34.330415\n",
      "time:  0:02:40.452799\n",
      "start /ocean/gsgarbi/analysis-giorgio/time_series/results2016/20161101_20161130_111d:  2017-04-14 12:31:14.784071\n",
      "time:  0:00:54.300112\n",
      "start /ocean/gsgarbi/analysis-giorgio/time_series/results2016/20160101_20160131_427d:  2017-04-14 12:32:09.085201\n",
      "time:  0:03:35.705476\n",
      "start /ocean/gsgarbi/analysis-giorgio/time_series/results2016/20160601_20160630_264d:  2017-04-14 12:35:44.791577\n",
      "time:  0:02:09.108851\n",
      "start /ocean/gsgarbi/analysis-giorgio/time_series/results2016/20160901_20160930_172d:  2017-04-14 12:37:53.901666\n",
      "time:  0:01:25.995029\n",
      "start /ocean/gsgarbi/analysis-giorgio/time_series/results2016/20161001_20161031_141d:  2017-04-14 12:39:19.897612\n",
      "time:  0:01:13.475864\n",
      "start /ocean/gsgarbi/analysis-giorgio/time_series/results2016/20160301_20160331_355d:  2017-04-14 12:40:33.374562\n",
      "time:  0:03:02.921283\n",
      "start /ocean/gsgarbi/analysis-giorgio/time_series/results2016/20160801_20160831_217d:  2017-04-14 12:43:36.296680\n",
      "time:  0:01:52.229554\n",
      "start /ocean/gsgarbi/analysis-giorgio/time_series/results2016/20160501_20160531_294d:  2017-04-14 12:45:28.527138\n"
     ]
    },
    {
     "ename": "KeyboardInterrupt",
     "evalue": "",
     "output_type": "error",
     "traceback": [
      "\u001b[0;31m---------------------------------------------------------------------------\u001b[0m",
      "\u001b[0;31mKeyboardInterrupt\u001b[0m                         Traceback (most recent call last)",
      "\u001b[0;32m<ipython-input-15-6fc49b975755>\u001b[0m in \u001b[0;36m<module>\u001b[0;34m()\u001b[0m\n\u001b[1;32m      9\u001b[0m \u001b[0;34m\u001b[0m\u001b[0m\n\u001b[1;32m     10\u001b[0m \u001b[0;32mfor\u001b[0m \u001b[0mfile\u001b[0m \u001b[0;32min\u001b[0m \u001b[0mdirs\u001b[0m\u001b[0;34m:\u001b[0m\u001b[0;34m\u001b[0m\u001b[0m\n\u001b[0;32m---> 11\u001b[0;31m     \u001b[0myear\u001b[0m \u001b[0;34m+=\u001b[0m \u001b[0mgetpts\u001b[0m\u001b[0;34m(\u001b[0m\u001b[0mpath\u001b[0m \u001b[0;34m+\u001b[0m \u001b[0mfile\u001b[0m\u001b[0;34m)\u001b[0m\u001b[0;34m\u001b[0m\u001b[0m\n\u001b[0m\u001b[1;32m     12\u001b[0m \u001b[0;34m\u001b[0m\u001b[0m\n",
      "\u001b[0;32m<ipython-input-13-6816d9dd8953>\u001b[0m in \u001b[0;36mgetpts\u001b[0;34m(direct)\u001b[0m\n\u001b[1;32m     22\u001b[0m \u001b[0;34m\u001b[0m\u001b[0m\n\u001b[1;32m     23\u001b[0m \u001b[0;34m\u001b[0m\u001b[0m\n\u001b[0;32m---> 24\u001b[0;31m             \u001b[0;32mif\u001b[0m \u001b[0mline\u001b[0m\u001b[0;34m[\u001b[0m\u001b[0;36m0\u001b[0m\u001b[0;34m]\u001b[0m \u001b[0;34m==\u001b[0m \u001b[0mparticle\u001b[0m\u001b[0;34m:\u001b[0m\u001b[0;34m\u001b[0m\u001b[0m\n\u001b[0m\u001b[1;32m     25\u001b[0m                 \u001b[0mindex\u001b[0m \u001b[0;34m=\u001b[0m \u001b[0mi\u001b[0m \u001b[0;34m+\u001b[0m \u001b[0mposition\u001b[0m\u001b[0;34m\u001b[0m\u001b[0m\n\u001b[1;32m     26\u001b[0m                 \u001b[0mparticle\u001b[0m \u001b[0;34m+=\u001b[0m \u001b[0;36m1\u001b[0m\u001b[0;34m\u001b[0m\u001b[0m\n",
      "\u001b[0;31mKeyboardInterrupt\u001b[0m: "
     ]
    }
   ],
   "source": [
    "# Get points for the year - this process should take about 42min for 12 months (3.5min per month)\n",
    "\n",
    "path = \"/ocean/gsgarbi/analysis-giorgio/time_series/results2016/\"\n",
    "\n",
    "dirs = os.listdir( path )\n",
    "\n",
    "year = []\n",
    "\n",
    "\n",
    "for file in dirs:\n",
    "    year += getpts(path + file)\n",
    "    \n"
   ]
  },
  {
   "cell_type": "code",
   "execution_count": 19,
   "metadata": {
    "collapsed": false
   },
   "outputs": [
    {
     "name": "stdout",
     "output_type": "stream",
     "text": [
      "start:  2017-04-14 12:51:49.216440\n"
     ]
    },
    {
     "ename": "KeyboardInterrupt",
     "evalue": "",
     "output_type": "error",
     "traceback": [
      "\u001b[0;31m---------------------------------------------------------------------------\u001b[0m",
      "\u001b[0;31mKeyboardInterrupt\u001b[0m                         Traceback (most recent call last)",
      "\u001b[0;32m<ipython-input-19-bc3ce67ddf04>\u001b[0m in \u001b[0;36m<module>\u001b[0;34m()\u001b[0m\n\u001b[1;32m     45\u001b[0m \u001b[0;34m\u001b[0m\u001b[0m\n\u001b[1;32m     46\u001b[0m \u001b[0;32mfor\u001b[0m \u001b[0mii\u001b[0m \u001b[0;32min\u001b[0m \u001b[0mrange\u001b[0m\u001b[0;34m(\u001b[0m\u001b[0;36m0\u001b[0m\u001b[0;34m,\u001b[0m\u001b[0mnp\u001b[0m\u001b[0;34m.\u001b[0m\u001b[0mshape\u001b[0m\u001b[0;34m(\u001b[0m\u001b[0mpoints\u001b[0m\u001b[0;34m)\u001b[0m\u001b[0;34m[\u001b[0m\u001b[0;36m0\u001b[0m\u001b[0;34m]\u001b[0m\u001b[0;34m)\u001b[0m\u001b[0;34m:\u001b[0m\u001b[0;34m\u001b[0m\u001b[0m\n\u001b[0;32m---> 47\u001b[0;31m     \u001b[0mj\u001b[0m\u001b[0;34m,\u001b[0m\u001b[0mi\u001b[0m\u001b[0;34m=\u001b[0m\u001b[0mgeo_tools\u001b[0m\u001b[0;34m.\u001b[0m\u001b[0mfind_closest_model_point\u001b[0m\u001b[0;34m(\u001b[0m\u001b[0mpoints\u001b[0m\u001b[0;34m[\u001b[0m\u001b[0mii\u001b[0m\u001b[0;34m,\u001b[0m\u001b[0;36m1\u001b[0m\u001b[0;34m]\u001b[0m\u001b[0;34m,\u001b[0m\u001b[0mpoints\u001b[0m\u001b[0;34m[\u001b[0m\u001b[0mii\u001b[0m\u001b[0;34m,\u001b[0m\u001b[0;36m2\u001b[0m\u001b[0;34m]\u001b[0m\u001b[0;34m,\u001b[0m\u001b[0mnav_lon\u001b[0m\u001b[0;34m,\u001b[0m\u001b[0mnav_lat\u001b[0m\u001b[0;34m)\u001b[0m\u001b[0;34m\u001b[0m\u001b[0m\n\u001b[0m\u001b[1;32m     48\u001b[0m     \u001b[0;31m#print(points[ii,1],points[ii,2],j,i)\u001b[0m\u001b[0;34m\u001b[0m\u001b[0;34m\u001b[0m\u001b[0m\n\u001b[1;32m     49\u001b[0m     \u001b[0mgriddata\u001b[0m\u001b[0;34m[\u001b[0m\u001b[0mj\u001b[0m\u001b[0;34m,\u001b[0m\u001b[0mi\u001b[0m\u001b[0;34m]\u001b[0m\u001b[0;34m=\u001b[0m\u001b[0mgriddata\u001b[0m\u001b[0;34m[\u001b[0m\u001b[0mj\u001b[0m\u001b[0;34m,\u001b[0m\u001b[0mi\u001b[0m\u001b[0;34m]\u001b[0m\u001b[0;34m+\u001b[0m\u001b[0;36m1\u001b[0m\u001b[0;34m\u001b[0m\u001b[0m\n",
      "\u001b[0;32m/ocean/gsgarbi/MEOPAR/tools/SalishSeaTools/salishsea_tools/geo_tools.py\u001b[0m in \u001b[0;36mfind_closest_model_point\u001b[0;34m(lon, lat, model_lons, model_lats, grid, land_mask, tols)\u001b[0m\n\u001b[1;32m    171\u001b[0m                             model_lons < lon + tols[grid]['tol_lon'])),\n\u001b[1;32m    172\u001b[0m             (np.logical_and(model_lats > lat - tols[grid]['tol_lat'],\n\u001b[0;32m--> 173\u001b[0;31m                             model_lats < lat + tols[grid]['tol_lat']))\n\u001b[0m\u001b[1;32m    174\u001b[0m         )\n\u001b[1;32m    175\u001b[0m     )\n",
      "\u001b[0;31mKeyboardInterrupt\u001b[0m: "
     ]
    }
   ],
   "source": [
    "#prepare plot\n",
    "\n",
    "points = np.array(year) #back to original name. convert to np.array\n",
    "\n",
    "start = dt.datetime.now()\n",
    "print (\"start: \", start)\n",
    "\n",
    "\n",
    "# In[7]:\n",
    "\n",
    "\n",
    "\n",
    "np.shape(points)\n",
    "\n",
    "\n",
    "# In[8]:\n",
    "\n",
    "# set up array of zeros of shape of model domain; also load tmask, model lons and lats\n",
    "mesh = nc.Dataset(\"/ocean/gsgarbi/mesh_mask_downbyone2.nc\")\n",
    "tmask=np.copy(mesh.variables['tmask'])\n",
    "mesh.close()\n",
    "fb=nc.Dataset('/ocean/eolson/MEOPAR/NEMO-forcing/grid/bathy_downonegrid2.nc')\n",
    "nav_lon=np.copy(fb.variables['nav_lon'])\n",
    "nav_lat=np.copy(fb.variables['nav_lat'])\n",
    "fb.close()\n",
    "\n",
    "\n",
    "# In[9]:\n",
    "\n",
    "tmask.shape\n",
    "\n",
    "\n",
    "# In[10]:\n",
    "\n",
    "griddata=0.0*tmask[0,0,:,:]\n",
    "griddata.shape\n",
    "\n",
    "\n",
    "# In[11]:\n",
    "\n",
    "np.shape(points)[0]\n",
    "\n",
    "\n",
    "# In[12]:\n",
    "\n",
    "for ii in range(0,np.shape(points)[0]):\n",
    "    j,i=geo_tools.find_closest_model_point(points[ii,1],points[ii,2],nav_lon,nav_lat)\n",
    "    #print(points[ii,1],points[ii,2],j,i)\n",
    "    griddata[j,i]=griddata[j,i]+1"
   ]
  },
  {
   "cell_type": "code",
   "execution_count": 23,
   "metadata": {
    "collapsed": false
   },
   "outputs": [
    {
     "ename": "IndexError",
     "evalue": "Inconsistant shape between the condition and the input (got (898, 398) and (100, 200))",
     "output_type": "error",
     "traceback": [
      "\u001b[0;31m---------------------------------------------------------------------------\u001b[0m",
      "\u001b[0;31mIndexError\u001b[0m                                Traceback (most recent call last)",
      "\u001b[0;32m<ipython-input-23-355f30f5b156>\u001b[0m in \u001b[0;36m<module>\u001b[0;34m()\u001b[0m\n\u001b[1;32m      1\u001b[0m \u001b[0mfig\u001b[0m\u001b[0;34m,\u001b[0m \u001b[0maxs\u001b[0m \u001b[0;34m=\u001b[0m \u001b[0mplt\u001b[0m\u001b[0;34m.\u001b[0m\u001b[0msubplots\u001b[0m\u001b[0;34m(\u001b[0m\u001b[0;36m1\u001b[0m\u001b[0;34m,\u001b[0m\u001b[0;36m1\u001b[0m\u001b[0;34m,\u001b[0m\u001b[0mfigsize\u001b[0m\u001b[0;34m=\u001b[0m\u001b[0;34m(\u001b[0m\u001b[0;36m9\u001b[0m\u001b[0;34m,\u001b[0m\u001b[0;36m8\u001b[0m\u001b[0;34m)\u001b[0m\u001b[0;34m)\u001b[0m\u001b[0;34m\u001b[0m\u001b[0m\n\u001b[0;32m----> 2\u001b[0;31m \u001b[0mmesh0\u001b[0m \u001b[0;34m=\u001b[0m \u001b[0maxs\u001b[0m\u001b[0;34m.\u001b[0m\u001b[0mpcolormesh\u001b[0m\u001b[0;34m(\u001b[0m\u001b[0mnav_lon\u001b[0m\u001b[0;34m,\u001b[0m\u001b[0mnav_lat\u001b[0m\u001b[0;34m,\u001b[0m\u001b[0mnp\u001b[0m\u001b[0;34m.\u001b[0m\u001b[0mma\u001b[0m\u001b[0;34m.\u001b[0m\u001b[0mmasked_where\u001b[0m\u001b[0;34m(\u001b[0m\u001b[0mtmask\u001b[0m\u001b[0;34m[\u001b[0m\u001b[0;36m0\u001b[0m\u001b[0;34m,\u001b[0m\u001b[0;36m0\u001b[0m\u001b[0;34m,\u001b[0m\u001b[0;34m:\u001b[0m\u001b[0;34m,\u001b[0m\u001b[0;34m:\u001b[0m\u001b[0;34m]\u001b[0m\u001b[0;34m==\u001b[0m\u001b[0;36m0\u001b[0m\u001b[0;34m,\u001b[0m\u001b[0mgriddata\u001b[0m\u001b[0;34m)\u001b[0m\u001b[0;34m,\u001b[0m\u001b[0mcmap\u001b[0m\u001b[0;34m=\u001b[0m\u001b[0mcmap\u001b[0m\u001b[0;34m)\u001b[0m\u001b[0;34m\u001b[0m\u001b[0m\n\u001b[0m\u001b[1;32m      3\u001b[0m \u001b[0;34m\u001b[0m\u001b[0m\n\u001b[1;32m      4\u001b[0m \u001b[0mviz_tools\u001b[0m\u001b[0;34m.\u001b[0m\u001b[0mset_aspect\u001b[0m\u001b[0;34m(\u001b[0m\u001b[0maxs\u001b[0m\u001b[0;34m,\u001b[0m\u001b[0mcoords\u001b[0m\u001b[0;34m=\u001b[0m\u001b[0;34m'map'\u001b[0m\u001b[0;34m)\u001b[0m\u001b[0;34m\u001b[0m\u001b[0m\n\u001b[1;32m      5\u001b[0m \u001b[0;34m\u001b[0m\u001b[0m\n",
      "\u001b[0;32m/ocean/gsgarbi/anaconda3/lib/python3.6/site-packages/numpy/ma/core.py\u001b[0m in \u001b[0;36mmasked_where\u001b[0;34m(condition, a, copy)\u001b[0m\n\u001b[1;32m   1908\u001b[0m     \u001b[0;32mif\u001b[0m \u001b[0mcshape\u001b[0m \u001b[0;32mand\u001b[0m \u001b[0mcshape\u001b[0m \u001b[0;34m!=\u001b[0m \u001b[0mashape\u001b[0m\u001b[0;34m:\u001b[0m\u001b[0;34m\u001b[0m\u001b[0m\n\u001b[1;32m   1909\u001b[0m         raise IndexError(\"Inconsistant shape between the condition and the input\"\n\u001b[0;32m-> 1910\u001b[0;31m                          \" (got %s and %s)\" % (cshape, ashape))\n\u001b[0m\u001b[1;32m   1911\u001b[0m     \u001b[0;32mif\u001b[0m \u001b[0mhasattr\u001b[0m\u001b[0;34m(\u001b[0m\u001b[0ma\u001b[0m\u001b[0;34m,\u001b[0m \u001b[0;34m'_mask'\u001b[0m\u001b[0;34m)\u001b[0m\u001b[0;34m:\u001b[0m\u001b[0;34m\u001b[0m\u001b[0m\n\u001b[1;32m   1912\u001b[0m         \u001b[0mcond\u001b[0m \u001b[0;34m=\u001b[0m \u001b[0mmask_or\u001b[0m\u001b[0;34m(\u001b[0m\u001b[0mcond\u001b[0m\u001b[0;34m,\u001b[0m \u001b[0ma\u001b[0m\u001b[0;34m.\u001b[0m\u001b[0m_mask\u001b[0m\u001b[0;34m)\u001b[0m\u001b[0;34m\u001b[0m\u001b[0m\n",
      "\u001b[0;31mIndexError\u001b[0m: Inconsistant shape between the condition and the input (got (898, 398) and (100, 200))"
     ]
    },
    {
     "data": {
      "image/png": "[encoded data removed]",
      "text/plain": [
       "<matplotlib.figure.Figure at 0x7f92fd478128>"
      ]
     },
     "metadata": {},
     "output_type": "display_data"
    }
   ],
   "source": [
    "#prepare plot\n",
    "\n",
    "points = np.array(year) #back to original name. convert to np.array\n",
    "\n",
    "start = dt.datetime.now()\n",
    "print (\"start: \", start)\n",
    "\n",
    "\n",
    "# In[7]:\n",
    "\n",
    "\n",
    "\n",
    "np.shape(points)\n",
    "\n",
    "\n",
    "# In[8]:\n",
    "\n",
    "# set up array of zeros of shape of model domain; also load tmask, model lons and lats\n",
    "mesh = nc.Dataset(\"/ocean/gsgarbi/mesh_mask_downbyone2.nc\")\n",
    "tmask=np.copy(mesh.variables['tmask'])\n",
    "mesh.close()\n",
    "fb=nc.Dataset('/ocean/eolson/MEOPAR/NEMO-forcing/grid/bathy_downonegrid2.nc')\n",
    "nav_lon=np.copy(fb.variables['nav_lon'])\n",
    "nav_lat=np.copy(fb.variables['nav_lat'])\n",
    "fb.close()\n",
    "\n",
    "\n",
    "# In[9]:\n",
    "\n",
    "tmask.shape\n",
    "\n",
    "\n",
    "# In[10]:\n",
    "\n",
    "griddata=0.0*tmask[0,0,:,:]\n",
    "griddata.shape\n",
    "\n",
    "\n",
    "# In[11]:\n",
    "\n",
    "np.shape(points)[0]\n",
    "\n",
    "\n",
    "# In[12]:\n",
    "\n",
    "for ii in range(0,np.shape(points)[0]):\n",
    "    j,i=geo_tools.find_closest_model_point(points[ii,1],points[ii,2],nav_lon,nav_lat)\n",
    "    #print(points[ii,1],points[ii,2],j,i)\n",
    "    griddata[j,i]=griddata[j,i]+1\n",
    "\n",
    "\n",
    "# In[13]:\n",
    "\n",
    "fig, axs = plt.subplots(1,1,figsize=(9,8))\n",
    "mesh0 = axs.pcolormesh(nav_lon,nav_lat,np.ma.masked_where(tmask[0,0,:,:]==0,griddata),cmap=cmap)\n",
    "\n",
    "viz_tools.set_aspect(axs,coords='map')\n",
    "\n",
    "\n",
    "# In[14]:\n",
    "\n",
    "# model grid is too small. use hist2d for larger bins, then overlay grid\n",
    "\n",
    "\n",
    "# In[15]:\n",
    "\n",
    "lonlim=[np.min(nav_lon),np.max(nav_lon)]\n",
    "latlim=[np.min(nav_lat),np.max(nav_lat)]\n",
    "\n",
    "griddata, iedges, jedges = np.histogram2d(points[:,1],points[:,2],bins=[100,200],range=[lonlim,latlim])\n",
    "\n",
    "\n",
    "# In[16]:\n",
    "\n",
    "Jedges,Iedges=np.meshgrid(jedges,iedges)\n",
    "\n",
    "\n",
    "# In[17]:\n",
    "\n",
    "Jedges.shape\n",
    "\n",
    "\n",
    "# In[18]:\n",
    "\n",
    "griddata.shape\n",
    "\n",
    "\n",
    "# In[19]:\n",
    "\n",
    "xl=(-125,-122.4)\n",
    "yl=(48,50)\n",
    "fig, axs = plt.subplots(1,1,figsize=(9,8))\n",
    "mesh0 = axs.pcolormesh(Iedges,Jedges,griddata,cmap=cmap)\n",
    "axs.set_xlim(xl)\n",
    "axs.set_ylim(yl)\n",
    "#axs.plot(-124.0,49.5,'r*')\n",
    "viz_tools.set_aspect(axs,coords='map')\n",
    "pos=axs.get_position()\n",
    "axs2 = plt.axes(pos)\n",
    "mesh1=axs2.pcolormesh(nav_lon,nav_lat,np.ma.masked_where(tmask[0,0,:,:]==1,tmask[0,0,:,:]),cmap='YlOrRd')\n",
    "axs2.set_xlim(xl)\n",
    "axs2.set_ylim(yl)\n",
    "axs2.patch.set_alpha(0)\n",
    "viz_tools.set_aspect(axs2,coords='map')\n",
    "\n",
    "\n",
    "print (\"time: \", dt.datetime.now() - start)\n",
    "\n"
   ]
  },
  {
   "cell_type": "code",
   "execution_count": 7,
   "metadata": {
    "collapsed": false
   },
   "outputs": [
    {
     "data": {
      "text/plain": [
       "1.1363636363636362"
      ]
     },
     "execution_count": 7,
     "metadata": {},
     "output_type": "execute_result"
    },
    {
     "data": {
      "text/plain": [
       "<matplotlib.figure.Figure at 0x7f930082d160>"
      ]
     },
     "metadata": {},
     "output_type": "display_data"
    },
    {
     "data": {
      "image/png": "[encoded data removed]",
      "text/plain": [
       "<matplotlib.figure.Figure at 0x7f930082d908>"
      ]
     },
     "metadata": {},
     "output_type": "display_data"
    }
   ],
   "source": [
    "#plot\n",
    "\n",
    "\n",
    "plt.clf()\n",
    "\n",
    "Iona = (-123.30898284912109, 49.187351226806641)\n",
    "S15 = (-123.3114, 49.130412)\n",
    "S16 = (-123.317415, 49.1214)\n",
    "\n",
    "\n",
    "lonlim=[np.min(nav_lon),np.max(nav_lon)]\n",
    "latlim=[np.min(nav_lat),np.max(nav_lat)]\n",
    "\n",
    "griddata, iedges, jedges = np.histogram2d(points[:,1],points[:,2],bins=[100,200],range=[lonlim,latlim])\n",
    "\n",
    "\n",
    "\n",
    "\n",
    "Jedges,Iedges=np.meshgrid(jedges,iedges)\n",
    "\n",
    "\n",
    "\n",
    "\n",
    "Jedges.shape\n",
    "\n",
    "\n",
    "\n",
    "\n",
    "griddata.shape\n",
    "\n",
    "\n",
    "\n",
    "\n",
    "xl=(-125,-122.4)\n",
    "yl=(48,50)\n",
    "fig, axs = plt.subplots(1,1,figsize=(9,8))\n",
    "\n",
    "\n",
    "\n",
    "mesh0 = axs.pcolormesh(Iedges,Jedges,griddata,cmap=cmap)\n",
    "\n",
    "#-----------\n",
    "\n",
    "\n",
    "# Make plot with vertical (default) colorbar\n",
    "\n",
    "\n",
    "data = griddata\n",
    "\n",
    "cax = axs.imshow(data, interpolation='nearest')\n",
    "axs.set_title(\"Density plot for final positions after {} days\\n\".format(nday) +\n",
    "          \"Initial days: January 1 2017 - January 31 2017\")\n",
    "\n",
    "# Add colorbar, make sure to specify tick locations to match desired ticklabels\n",
    "cbar = fig.colorbar(cax)\n",
    "  # vertically oriented colorbar\n",
    "    \n",
    "cbar.set_label (\"Counts\")\n",
    "\n",
    "#------------\n",
    "\n",
    "axs.set_xlim(xl)\n",
    "axs.set_ylim(yl)\n",
    "#axs.plot(-124.0,49.5,'r*')\n",
    "viz_tools.set_aspect(axs,coords='map')\n",
    "\n",
    "pos=axs.get_position()\n",
    "axs2 = plt.axes(pos)\n",
    "mesh1=axs2.pcolormesh(nav_lon,nav_lat,np.ma.masked_where(tmask[0,0,:,:]==1,tmask[0,0,:,:]),cmap='YlOrRd')\n",
    "\n",
    "\n",
    "\n",
    "axs2.set_xlim(xl)\n",
    "axs2.set_ylim(yl)\n",
    "axs2.patch.set_alpha(0)\n",
    "\n",
    "\n",
    "el = Ellipse((2, -1), 0.5, 0.5)\n",
    "\n",
    "axs2.annotate(\n",
    "        \"IONA\",\n",
    "        xy=(Iona[0], Iona[1]), xytext=(50, 10),\n",
    "        textcoords='offset points', ha='left', va='bottom', color = (0.937, 0.439, 0.043),\n",
    "        arrowprops=dict(arrowstyle=\"wedge,tail_width=1.\",\n",
    "                                  fc=(1,1,1), ec=(1., .5, .5),\n",
    "                                  patchA=None,\n",
    "                                  patchB=el,\n",
    "                                  relpos=(0.2, 0.8),\n",
    "                                  connectionstyle=\"arc3,rad=-0.1\"))\n",
    "\n",
    "\n",
    "axs2.annotate(\n",
    "        \"STATION 15\",\n",
    "        xy=(S15[0],S15[1]), xytext=(50, 10),\n",
    "            textcoords='offset points', ha='left', va='bottom', color = \"blue\",\n",
    "        #bbox=dict(boxstyle='round,pad=0.5', fc='yellow', alpha=0.5),\n",
    "        arrowprops=dict(arrowstyle=\"wedge,tail_width=1.\",\n",
    "                                  fc=(1,1,1), ec=(1., .5, .5),\n",
    "                                  patchA=None,\n",
    "                                  patchB=el,\n",
    "                                  relpos=(0.2, 0.8),\n",
    "                                  connectionstyle=\"arc3,rad=-0.1\"))\n",
    "\n",
    "axs2.annotate(\n",
    "        \"STATION 16\",\n",
    "        xy=(S16[0],S16[1]), xytext=(50, 10),\n",
    "        textcoords='offset points', ha='left', va='top', color = 'blue',\n",
    "        #bbox=dict(boxstyle='round,pad=0.5', fc='yellow', alpha=0.5),\n",
    "                          arrowprops=dict(arrowstyle=\"wedge,tail_width=1.\",\n",
    "                                  fc=(1,1,1), ec=(1., .5, .5),\n",
    "                                  patchA=None,\n",
    "                                  patchB=el,\n",
    "                                  relpos=(0.2, 0.8),\n",
    "                                  connectionstyle=\"arc3,rad=-0.1\"))\n",
    "\n",
    "\n",
    "\n",
    "axs2.annotate(\n",
    "        \"JUAN DE FUCA\",\n",
    "        xy=(-124,48.21), xytext=(50, 10),\n",
    "        textcoords='offset points', ha='left', va='top', color = 'white')\n",
    "\n",
    "viz_tools.set_aspect(axs2,coords='map')"
   ]
  },
  {
   "cell_type": "code",
   "execution_count": null,
   "metadata": {
    "collapsed": true
   },
   "outputs": [],
   "source": []
  },
  {
   "cell_type": "code",
   "execution_count": 8,
   "metadata": {
    "collapsed": true
   },
   "outputs": [],
   "source": [
    "#save plots (50 or 100 for now)\n",
    "\n",
    "fig.savefig(plotsdir + \"/plot{}days\".format(nday))"
   ]
  },
  {
   "cell_type": "code",
   "execution_count": null,
   "metadata": {
    "collapsed": true
   },
   "outputs": [],
   "source": []
  }
 ],
 "metadata": {
  "kernelspec": {
   "display_name": "Python 3",
   "language": "python",
   "name": "python3"
  },
  "language_info": {
   "codemirror_mode": {
    "name": "ipython",
    "version": 3
   },
   "file_extension": ".py",
   "mimetype": "text/x-python",
   "name": "python",
   "nbconvert_exporter": "python",
   "pygments_lexer": "ipython3",
   "version": "3.6.0"
  }
 },
 "nbformat": 4,
 "nbformat_minor": 2
}
